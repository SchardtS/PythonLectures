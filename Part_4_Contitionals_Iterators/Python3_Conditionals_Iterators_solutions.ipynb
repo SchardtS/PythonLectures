{
 "cells": [
  {
   "cell_type": "markdown",
   "metadata": {},
   "source": [
    "<p style='text-align: center'><a href=https://www.biozentrum.uni-wuerzburg.de/cctb/research/supramolecular-and-cellular-simulations/>Supramolecular and Cellular Simulations</a> (Prof. Fischer)<br>Center for Computational and Theoretical Biology - CCTB<br>Faculty of Biology, University of Würzburg</p>\n",
    "\n",
    "<p style='text-align: center'><br><br>We are looking forward to your comments and suggestions. Please send them to <a href=sabine.fischer@uni.wuerzburg.de>sabine.fischer@uni.wuerzburg.de</a><br><br></p>\n",
    "\n",
    "<h1><p style='text-align: center'> Introduction to Python </p></h1>"
   ]
  },
  {
   "cell_type": "markdown",
   "metadata": {},
   "source": [
    "Video with explanations (in German): https://video.uni-wuerzburg.de/iframe/?securecode=8d3d89c0a535acbaa863a49d"
   ]
  },
  {
   "cell_type": "markdown",
   "metadata": {},
   "source": [
    "## Conditional statements and loops \n",
    "\n",
    "The control flow of a program is the execution order of its code and functions. Important building blocks of any programming language are `if` conditions as well as `while` and `for` loops, which considerably influence the control flow. In this lecture, we will cover these concepts together with list comprehensions, `break` and `continue` statements and some basic syntax that is helpful for things like boolean expressions and the `range()` function."
   ]
  },
  {
   "cell_type": "markdown",
   "metadata": {},
   "source": [
    "### 1. Boolean expressions\n",
    "With the operator `==` it is possible to test whether two or more numbers/variables/lists/etc. are equal. Similarly with `!=` it is possible to check, whether numbers/variables/.. are not equal. You can also test if a number/variable is smaller/larger than anything else with `<`,`>`, `<=` and `>=`. If you want to check if a certain element is in a list/tuple/set, you can use `in`. These operators can be connected by `and` or `or`. As a result, you will always get a boolean (`True` or `False`) for all of these operators."
   ]
  },
  {
   "cell_type": "code",
   "execution_count": 9,
   "metadata": {
    "tags": []
   },
   "outputs": [],
   "source": [
    "example = [1,2,3,4,5,6]"
   ]
  },
  {
   "cell_type": "code",
   "execution_count": 10,
   "metadata": {
    "tags": []
   },
   "outputs": [
    {
     "name": "stdout",
     "output_type": "stream",
     "text": [
      "True\n"
     ]
    }
   ],
   "source": [
    "print(example[0] == 1)"
   ]
  },
  {
   "cell_type": "code",
   "execution_count": 11,
   "metadata": {
    "tags": []
   },
   "outputs": [
    {
     "name": "stdout",
     "output_type": "stream",
     "text": [
      "False\n"
     ]
    }
   ],
   "source": [
    "print(example[0] == 1 and example[0] > 2)"
   ]
  },
  {
   "cell_type": "code",
   "execution_count": 12,
   "metadata": {
    "tags": []
   },
   "outputs": [
    {
     "name": "stdout",
     "output_type": "stream",
     "text": [
      "True\n"
     ]
    }
   ],
   "source": [
    "print(example[0] == 1 or example[0] < 2)"
   ]
  },
  {
   "cell_type": "code",
   "execution_count": 13,
   "metadata": {
    "tags": []
   },
   "outputs": [
    {
     "name": "stdout",
     "output_type": "stream",
     "text": [
      "True\n"
     ]
    }
   ],
   "source": [
    "print(5 in example)"
   ]
  },
  {
   "cell_type": "markdown",
   "metadata": {},
   "source": [
    "### 2. `if` statements\n",
    "Often you want to execute some code only if certain conditions hold or execute different statements depending on several mutually exclusive conditions. In Python the compound statement if is used for this purpose. It uses `if`, `elif` (wich is short for 'else if'), and `else` clauses to make you able to conditionally execute blocks of statements.  `if` statements will always be executed if the expression's result is `True` and not executed if the expression's result is `False`. The basic syntax with optional `elif` and `else` clauses is:\n",
    "```Python\n",
    "if conditional expression1:\n",
    "    statement1(s)\n",
    "elif conditional expression2:\n",
    "    statement2(s)\n",
    "elif conditional expression3:\n",
    "    statement3(s)\n",
    "else:\n",
    "    statement4(s)\n",
    "```\n",
    "\n",
    "The `else` clause only gets executed if no other condition of an `if` or `elif` statement before was evaluated as `True`. Similarly, `elif` statements only get tested if no other conditional statement before was evaluated as `True`. You can use as many `elif` statements as you want, whereas only one else clause is possible."
   ]
  },
  {
   "cell_type": "code",
   "execution_count": 14,
   "metadata": {
    "tags": []
   },
   "outputs": [
    {
     "name": "stdout",
     "output_type": "stream",
     "text": [
      "x is not equal to 1 or 2\n"
     ]
    }
   ],
   "source": [
    "x=3\n",
    "if x == 1:\n",
    "    print('x equals 1')\n",
    "elif x == 2:\n",
    "    print('x equals 2')\n",
    "else:\n",
    "    print('x is not equal to 1 or 2')"
   ]
  },
  {
   "cell_type": "markdown",
   "metadata": {},
   "source": [
    "### 3. `while` loops\n",
    "The while statement in Python is used for repeated execution of statements controlled by a conditional expression:\n",
    "```Python\n",
    "while conditional expression:\n",
    "    statement(s)\n",
    "```\n",
    "\n",
    " `while` statements will be executed as long as the expression's result is `True`. The execution stops, if the expression's result is `False`. `while` statements can include an `else` clause and also `break` and `continue` statements, which will be discussed at the end of this notebook. <br>\n",
    "If you use an expression that is `True` and cannot change from `True` to `False`, you get into an infinite loop, wich renders your program stuck in the `while` loop. Obviously, this should be avoided."
   ]
  },
  {
   "cell_type": "code",
   "execution_count": 15,
   "metadata": {
    "tags": []
   },
   "outputs": [
    {
     "name": "stdout",
     "output_type": "stream",
     "text": [
      "10\n",
      "Yes\n",
      "11\n",
      "Yes\n",
      "12\n",
      "Yes\n",
      "13\n",
      "Yes\n",
      "14\n",
      "Yes\n",
      "15\n",
      "Yes\n"
     ]
    }
   ],
   "source": [
    "a = 10\n",
    "while a <= 15:\n",
    "    print(a)\n",
    "    print('Yes')\n",
    "    a = a + 1"
   ]
  },
  {
   "cell_type": "code",
   "execution_count": 16,
   "metadata": {
    "tags": []
   },
   "outputs": [
    {
     "name": "stdout",
     "output_type": "stream",
     "text": [
      "Yes\n",
      "Yes\n",
      "Yes\n",
      "Yes\n",
      "Yes\n",
      "No\n"
     ]
    }
   ],
   "source": [
    "a = 10\n",
    "while a < 15:\n",
    "    print('Yes')\n",
    "    a = a + 1\n",
    "else:\n",
    "    print('No')"
   ]
  },
  {
   "cell_type": "markdown",
   "metadata": {},
   "source": [
    "### 4. `for` loops\n",
    "The `for` loop in Python is somewhat similar to the `while` loop, as it is also used for repeated execution of statements. The difference is that the `for` statement is not controlled by a conditional expression, but by an iterable.\n",
    "\n",
    "```Python\n",
    "for target in iterable:\n",
    "    statement(s)\n",
    "```\n",
    "    \n",
    "The `in` keyword is part of the syntax of the `for` statement and is functionally not related to the `in` operator used for membership testing.\n",
    "`target` is an identifier that names the control variable of the loop and the `for` statement successively rebinds this variable to each item of the iterator, in order. The statements are executed once for every item in iterable. "
   ]
  },
  {
   "cell_type": "code",
   "execution_count": 17,
   "metadata": {
    "tags": []
   },
   "outputs": [
    {
     "name": "stdout",
     "output_type": "stream",
     "text": [
      "word1\n",
      "word2\n",
      "word3\n",
      "word4\n"
     ]
    }
   ],
   "source": [
    "for word in ['word1', 'word2', 'word3', 'word4']:\n",
    "    print(word)"
   ]
  },
  {
   "cell_type": "code",
   "execution_count": 18,
   "metadata": {
    "tags": []
   },
   "outputs": [
    {
     "name": "stdout",
     "output_type": "stream",
     "text": [
      "1\n",
      "2\n",
      "3\n",
      "4\n",
      "16\n",
      "5\n",
      "25\n"
     ]
    }
   ],
   "source": [
    "for i in [1,2,3,4,5]:\n",
    "    print(i)\n",
    "    if i > 3:\n",
    "        print(i**2)"
   ]
  },
  {
   "cell_type": "code",
   "execution_count": 19,
   "metadata": {
    "tags": []
   },
   "outputs": [
    {
     "name": "stdout",
     "output_type": "stream",
     "text": [
      "1\n",
      "2\n",
      "3\n",
      "4\n",
      "16\n",
      "5\n",
      "25\n"
     ]
    }
   ],
   "source": [
    "for i in (1,2,3,4,5):\n",
    "    print(i)\n",
    "    if i > 3:\n",
    "        print(i**2)"
   ]
  },
  {
   "cell_type": "code",
   "execution_count": 20,
   "metadata": {
    "tags": []
   },
   "outputs": [
    {
     "name": "stdout",
     "output_type": "stream",
     "text": [
      "5\n",
      "4\n",
      "3\n",
      "3\n",
      "2\n",
      "1\n"
     ]
    }
   ],
   "source": [
    "for i in [5,4,3,3,2,1]:\n",
    "    print(i)"
   ]
  },
  {
   "cell_type": "code",
   "execution_count": 21,
   "metadata": {
    "tags": []
   },
   "outputs": [
    {
     "name": "stdout",
     "output_type": "stream",
     "text": [
      "5\n",
      "4\n",
      "3\n",
      "3\n",
      "2\n",
      "1\n"
     ]
    }
   ],
   "source": [
    "for i in (5,4,3,3,2,1):\n",
    "    print(i)"
   ]
  },
  {
   "cell_type": "code",
   "execution_count": 22,
   "metadata": {
    "tags": []
   },
   "outputs": [
    {
     "name": "stdout",
     "output_type": "stream",
     "text": [
      "1\n",
      "2\n",
      "3\n",
      "4\n",
      "5\n"
     ]
    }
   ],
   "source": [
    "iterable = {5,4,3,3,2,1}\n",
    "for i in iterable:\n",
    "    print(i)"
   ]
  },
  {
   "cell_type": "markdown",
   "metadata": {},
   "source": [
    "#### 4.1 The `range()` function\n",
    "A common task while programming is to loop over a sequence of integers. In Python the built-in function `range()` is provided to do so. <br>\n",
    "`range(x)` returns an iterable that contains consecutive integers from 0 (included) up to x (excluded).  <br>\n",
    "`range(x,y)` returns an iterable that contains consecutive integers from x (included) up to y (excluded).  <br>\n",
    "`range(x,y,step)` returns an iterable of integers from x (included) up to y (excluded), such that the difference between each  two adjacent items in the list is `step`. If `step` is negative, range counts down from x to y.<br>\n",
    "The simplest way to loop n times over some code is:\n",
    "\n",
    "```Python\n",
    "for target in range(n):\n",
    "    statement(s)\n",
    "```\n",
    "To further clarify how `range()` works, one can combine it with `list()` to identify its content. "
   ]
  },
  {
   "cell_type": "code",
   "execution_count": 23,
   "metadata": {
    "tags": []
   },
   "outputs": [
    {
     "name": "stdout",
     "output_type": "stream",
     "text": [
      "range(0, 20)\n",
      "[0, 1, 2, 3, 4, 5, 6, 7, 8, 9, 10, 11, 12, 13, 14, 15, 16, 17, 18, 19]\n",
      "[5, 6, 7, 8, 9, 10, 11, 12, 13, 14, 15, 16, 17, 18, 19]\n",
      "[5, 8, 11, 14, 17]\n"
     ]
    }
   ],
   "source": [
    "print(range(20))                 # print only iterable\n",
    "print(list(range(20)))           # list from 0 to 19\n",
    "print(list(range(5,20)))         # list from 5 to 19\n",
    "print(list(range(5,20,3)))       # list from 5 to 19 in steps of 3"
   ]
  },
  {
   "cell_type": "code",
   "execution_count": 24,
   "metadata": {
    "tags": []
   },
   "outputs": [
    {
     "name": "stdout",
     "output_type": "stream",
     "text": [
      "0\n",
      "1\n",
      "2\n",
      "3\n",
      "4\n"
     ]
    }
   ],
   "source": [
    "for i in range(5):\n",
    "    print(i)"
   ]
  },
  {
   "cell_type": "code",
   "execution_count": 25,
   "metadata": {
    "tags": []
   },
   "outputs": [
    {
     "name": "stdout",
     "output_type": "stream",
     "text": [
      "5\n",
      "4\n",
      "3\n",
      "2\n",
      "1\n"
     ]
    }
   ],
   "source": [
    "for i in range(5,0,-1):\n",
    "        print(i)"
   ]
  },
  {
   "cell_type": "markdown",
   "metadata": {},
   "source": [
    "### 5. List comprehension\n",
    "`for` loops are often used to inspect each item in a sequence and build a new list by appending the results of an expression computed on the inspected items. List comprehensions are a more concise and direct way of coding this common idiom. A list comprehension builds a list directly from its expression and the corresponding iterable.\n",
    "```Python\n",
    "[statement(s) for target in iterable]\n",
    "```\n",
    "target and iterable are the same as in the `for` loop.\n",
    "It is also possible to make a list comprehension with conditional statements:\n",
    "```Python\n",
    "[statement(s) for target in iterable if conditional expression]\n",
    "```\n",
    "And also to iterate over more than one iterable:\n",
    "```Python\n",
    "[statement(s) for target1 in iterable1 for target2 in iterable2]\n",
    "```\n",
    "A list comprehension is an expression, rather than a block of statements. Therefore, you can use it wherever you need an expression (e.g., as an actual argument in a function call). In general, list comprehensions are faster and more 'pythonic' compared to `for` loops."
   ]
  },
  {
   "cell_type": "code",
   "execution_count": 26,
   "metadata": {
    "tags": []
   },
   "outputs": [
    {
     "name": "stdout",
     "output_type": "stream",
     "text": [
      "[0, 1, 2, 3, 4]\n"
     ]
    }
   ],
   "source": [
    "listcomp0 = [x for x in range(5)]\n",
    "print(listcomp0)"
   ]
  },
  {
   "cell_type": "code",
   "execution_count": 27,
   "metadata": {
    "tags": []
   },
   "outputs": [
    {
     "name": "stdout",
     "output_type": "stream",
     "text": [
      "[1, 2, 3, 4, 5]\n"
     ]
    }
   ],
   "source": [
    "listcomp0a = [x for x in [1,2,3,4,5]]\n",
    "print(listcomp0a)"
   ]
  },
  {
   "cell_type": "code",
   "execution_count": 28,
   "metadata": {
    "tags": []
   },
   "outputs": [
    {
     "name": "stdout",
     "output_type": "stream",
     "text": [
      "[1, 2, 3, 4, 5]\n"
     ]
    }
   ],
   "source": [
    "listcomp0b = [x for x in (1,2,3,4,5)]\n",
    "print(listcomp0b)"
   ]
  },
  {
   "cell_type": "code",
   "execution_count": 29,
   "metadata": {
    "tags": []
   },
   "outputs": [
    {
     "name": "stdout",
     "output_type": "stream",
     "text": [
      "[1, 2, 3, 4, 5]\n"
     ]
    }
   ],
   "source": [
    "listcomp0c = [x for x in {1,2,4,3,3,5}]\n",
    "print(listcomp0c)"
   ]
  },
  {
   "cell_type": "code",
   "execution_count": 30,
   "metadata": {
    "tags": []
   },
   "outputs": [
    {
     "name": "stdout",
     "output_type": "stream",
     "text": [
      "[7, 8, 9, 10, 11, 12, 13, 14, 15]\n"
     ]
    }
   ],
   "source": [
    "listcomp1 = [x+5 for x in range(2,11)]\n",
    "print(listcomp1)"
   ]
  },
  {
   "cell_type": "code",
   "execution_count": 31,
   "metadata": {
    "tags": []
   },
   "outputs": [
    {
     "name": "stdout",
     "output_type": "stream",
     "text": [
      "[5, 6, 6, 7, 7, 8]\n"
     ]
    }
   ],
   "source": [
    "listcomp3=[x+y for x in range(5,9) for y in range(2) if x<8 ]\n",
    "print(listcomp3)"
   ]
  },
  {
   "cell_type": "markdown",
   "metadata": {},
   "source": [
    "### 6. `break`- and `continue` statements\n",
    "The `break` statement is allowed only inside of a loop body. When `break` executes, the loop terminates. If a loop is nested inside other loops, break terminates only the innermost nested loop. In practical use, a `break` statement is usually inside some clause of an `if` statement in the loop body so that it executes conditionally."
   ]
  },
  {
   "cell_type": "code",
   "execution_count": 32,
   "metadata": {
    "tags": []
   },
   "outputs": [
    {
     "name": "stdout",
     "output_type": "stream",
     "text": [
      "1\n",
      "2\n",
      "3\n"
     ]
    }
   ],
   "source": [
    "x=0\n",
    "while True:\n",
    "    x =x+1 \n",
    "    print(x)\n",
    "    if x >= 3:\n",
    "        break"
   ]
  },
  {
   "cell_type": "markdown",
   "metadata": {},
   "source": [
    "Like `break` statements, `continue` statements are only allowed inside of a loop body. When `continue` is executed, the current iteration of the loop terminates and the loop continues with the next iteration."
   ]
  },
  {
   "cell_type": "code",
   "execution_count": 33,
   "metadata": {
    "tags": []
   },
   "outputs": [
    {
     "name": "stdout",
     "output_type": "stream",
     "text": [
      "1\n",
      "2\n",
      "1\n",
      "2\n"
     ]
    }
   ],
   "source": [
    "for i in [1,3,2,4,1,5,2]:\n",
    "    if i>2:\n",
    "        continue\n",
    "    print(i)"
   ]
  },
  {
   "cell_type": "markdown",
   "metadata": {},
   "source": [
    "## Exercises "
   ]
  },
  {
   "cell_type": "code",
   "execution_count": 34,
   "metadata": {
    "tags": []
   },
   "outputs": [],
   "source": [
    "a=5 \n",
    "b=6 \n",
    "c=73\n",
    "d=7/18\n",
    "e=6.243\n",
    "f=7\n",
    "g=0.35\n",
    "h=0.39\n",
    "list_7=[[1,3,2],[8,8,12],[6,7,4],[13,11,9],[3,5,6],[4,5,6],[3,2,3],[11,3,8]]"
   ]
  },
  {
   "cell_type": "markdown",
   "metadata": {},
   "source": [
    "### <p style='color: green'>easy</p>\n",
    "\n",
    "1. Test if `a` is `5`, `b` is `6` and `c` is `72` and print `'This is the case'`, if it applies and `'This is not the case'`, if it doesn't apply."
   ]
  },
  {
   "cell_type": "code",
   "execution_count": 2,
   "metadata": {
    "tags": []
   },
   "outputs": [
    {
     "name": "stdout",
     "output_type": "stream",
     "text": [
      "This is not the case\n"
     ]
    }
   ],
   "source": [
    "if a ==5 and b == 6 and c==72:\n",
    "    print(\"This is the case\")\n",
    "else:\n",
    "    print(\"This is not the case\")\n"
   ]
  },
  {
   "cell_type": "markdown",
   "metadata": {},
   "source": [
    "2. Test if `b` is between `a` and `e` and test if `d` is between `g` and `h`. If it applies, print `'This is the case'` if not, print `'This is not the case'`."
   ]
  },
  {
   "cell_type": "code",
   "execution_count": 3,
   "metadata": {
    "tags": []
   },
   "outputs": [
    {
     "name": "stdout",
     "output_type": "stream",
     "text": [
      "This is the case\n"
     ]
    }
   ],
   "source": [
    "if(a< b< e) and (g < d <h):\n",
    "    print(\"This is the case\")\n",
    "else:\n",
    "    print(\"This is not the case\")"
   ]
  },
  {
   "cell_type": "code",
   "execution_count": 4,
   "metadata": {
    "tags": []
   },
   "outputs": [
    {
     "name": "stdout",
     "output_type": "stream",
     "text": [
      "This is the case\n"
     ]
    }
   ],
   "source": [
    "if a< b< e and g < d <h:\n",
    "    print(\"This is the case\")\n",
    "else:\n",
    "    print(\"This is not the case\")"
   ]
  },
  {
   "cell_type": "markdown",
   "metadata": {},
   "source": [
    "3. If `f` has a larger value than `c` or `e`, print `'f has a larger value than c or e'`. Otherwise, print `'f has a smaller value than c and e'`. Do the same for `a instead of f`."
   ]
  },
  {
   "cell_type": "code",
   "execution_count": 5,
   "metadata": {
    "tags": []
   },
   "outputs": [
    {
     "name": "stdout",
     "output_type": "stream",
     "text": [
      "f has a larger value than c or e\n",
      "a has a smaller value than c and e\n"
     ]
    }
   ],
   "source": [
    "\n",
    "if f > c or f > e:\n",
    "    print(\"f has a larger value than c or e\")\n",
    "else:\n",
    "    print(\"f has a smaller value than c and e\")\n",
    "\n",
    "if a > c or a > e:\n",
    "    print(\"a has a larger value than c or e\")\n",
    "else:\n",
    "    print(\"a has a smaller value than c and e\")\n",
    "\n"
   ]
  },
  {
   "cell_type": "markdown",
   "metadata": {},
   "source": [
    "4. Create `j=4` and add `1.5` four times using a for loop."
   ]
  },
  {
   "cell_type": "code",
   "execution_count": 7,
   "metadata": {
    "tags": []
   },
   "outputs": [
    {
     "name": "stdout",
     "output_type": "stream",
     "text": [
      "10.0\n"
     ]
    }
   ],
   "source": [
    "j = 4\n",
    "for i in range(4):\n",
    "    #j = j + 1.5 \n",
    "    j += 1.5\n",
    "\n",
    "print(j)"
   ]
  },
  {
   "cell_type": "markdown",
   "metadata": {},
   "source": [
    "5. Make `list_6` with numbers ranging from `1` to `10` using list comprehension."
   ]
  },
  {
   "cell_type": "code",
   "execution_count": 35,
   "metadata": {
    "tags": []
   },
   "outputs": [
    {
     "data": {
      "text/plain": [
       "[1, 2, 3, 4, 5, 6, 7, 8, 9, 10]"
      ]
     },
     "execution_count": 35,
     "metadata": {},
     "output_type": "execute_result"
    }
   ],
   "source": [
    "list_6 =[x for x in range(1,11)]\n",
    "list_6"
   ]
  },
  {
   "cell_type": "markdown",
   "metadata": {},
   "source": [
    "6. Only print the odd numbers of the list `list_6` using a `for` loop and the `continue` statement. (Use the remainder operator `%` e.g. for even numbers `'number % 2 == 0'`)"
   ]
  },
  {
   "cell_type": "code",
   "execution_count": 36,
   "metadata": {
    "tags": []
   },
   "outputs": [
    {
     "data": {
      "text/plain": [
       "[1, 2, 3, 4, 5, 6, 7, 8, 9, 10]"
      ]
     },
     "execution_count": 36,
     "metadata": {},
     "output_type": "execute_result"
    }
   ],
   "source": [
    "list_6"
   ]
  },
  {
   "cell_type": "code",
   "execution_count": 38,
   "metadata": {
    "tags": []
   },
   "outputs": [
    {
     "data": {
      "text/plain": [
       "3"
      ]
     },
     "execution_count": 38,
     "metadata": {},
     "output_type": "execute_result"
    }
   ],
   "source": [
    "10%7"
   ]
  },
  {
   "cell_type": "code",
   "execution_count": 43,
   "metadata": {
    "tags": []
   },
   "outputs": [
    {
     "name": "stdout",
     "output_type": "stream",
     "text": [
      "1\n",
      "3\n",
      "5\n",
      "7\n",
      "9\n"
     ]
    }
   ],
   "source": [
    "for i in list_6:\n",
    "    if i%2 == 0:\n",
    "        continue\n",
    "    print(i)"
   ]
  },
  {
   "cell_type": "markdown",
   "metadata": {},
   "source": [
    "### <p style='color: orange'>medium</p>\n",
    "\n",
    "7. Extract the second items of the lists inside of `list_7` only if the number is larger than `3`. Provide two solutions: one using a for loop (`list_71`) and one using list comprehension (`list_72`)."
   ]
  },
  {
   "cell_type": "code",
   "execution_count": 44,
   "metadata": {
    "tags": []
   },
   "outputs": [
    {
     "data": {
      "text/plain": [
       "[[1, 3, 2],\n",
       " [8, 8, 12],\n",
       " [6, 7, 4],\n",
       " [13, 11, 9],\n",
       " [3, 5, 6],\n",
       " [4, 5, 6],\n",
       " [3, 2, 3],\n",
       " [11, 3, 8]]"
      ]
     },
     "execution_count": 44,
     "metadata": {},
     "output_type": "execute_result"
    }
   ],
   "source": [
    "list_7"
   ]
  },
  {
   "cell_type": "code",
   "execution_count": 46,
   "metadata": {
    "tags": []
   },
   "outputs": [
    {
     "name": "stdout",
     "output_type": "stream",
     "text": [
      "[8, 7, 11, 5, 5]\n",
      "[8, 7, 11, 5, 5]\n"
     ]
    }
   ],
   "source": [
    "hans =[]\n",
    "for sub_list in list_7:\n",
    "    if sub_list[1] >3:\n",
    "        hans.append(sub_list[1])\n",
    "\n",
    "print(hans)\n",
    "\n",
    "hans2 = [x[1] for x in list_7 if x[1]>3 ]\n",
    "print(hans2)"
   ]
  },
  {
   "cell_type": "code",
   "execution_count": 47,
   "metadata": {
    "tags": []
   },
   "outputs": [
    {
     "data": {
      "text/plain": [
       "True"
      ]
     },
     "execution_count": 47,
     "metadata": {},
     "output_type": "execute_result"
    }
   ],
   "source": [
    "hans == hans2"
   ]
  },
  {
   "cell_type": "markdown",
   "metadata": {},
   "source": [
    "8. Write a program that makes a list (`list_9`) consisting of all numbers between `420` and `1680` (included) that are divisible by `7` and multiple of `3` (again use the remainder operator). The program should also count the number of even and odd numbers and print the resulting quantity of odd and even numbers."
   ]
  },
  {
   "cell_type": "code",
   "execution_count": 48,
   "metadata": {
    "tags": []
   },
   "outputs": [
    {
     "name": "stdout",
     "output_type": "stream",
     "text": [
      "[420, 441, 462, 483, 504, 525, 546, 567, 588, 609, 630, 651, 672, 693, 714, 735, 756, 777, 798, 819, 840, 861, 882, 903, 924, 945, 966, 987, 1008, 1029, 1050, 1071, 1092, 1113, 1134, 1155, 1176, 1197, 1218, 1239, 1260, 1281, 1302, 1323, 1344, 1365, 1386, 1407, 1428, 1449, 1470, 1491, 1512, 1533, 1554, 1575, 1596, 1617, 1638, 1659, 1680]\n",
      "30 31\n"
     ]
    }
   ],
   "source": [
    "list_9 =[]\n",
    "for i in range(420,1681):\n",
    "    if i % 3 == 0 and i%7 == 0:\n",
    "        list_9.append(i)\n",
    "print(list_9)\n",
    "\n",
    "odd = 0\n",
    "even = 0\n",
    "for i in list_9:\n",
    "    if i%2 == 0:\n",
    "        even += 1\n",
    "    else:\n",
    "        odd += 1\n",
    "\n",
    "print(odd, even)"
   ]
  },
  {
   "cell_type": "markdown",
   "metadata": {},
   "source": [
    "9. Create a list (`list_10`) containing `50` sublists, each consisting of `3` random numbers from `0` to `10`. (Use the module `random` and its function `uniform()`)"
   ]
  },
  {
   "cell_type": "code",
   "execution_count": 49,
   "metadata": {
    "tags": []
   },
   "outputs": [],
   "source": [
    "import random as r"
   ]
  },
  {
   "cell_type": "code",
   "execution_count": 53,
   "metadata": {
    "tags": []
   },
   "outputs": [
    {
     "name": "stdout",
     "output_type": "stream",
     "text": [
      "3\n"
     ]
    },
    {
     "data": {
      "text/plain": [
       "[[7.646348451380871, 7.986058106511239, 9.694602007280368],\n",
       " [3.85460971987573, 5.343643738272369, 4.794870838125693],\n",
       " [9.582114929191835, 3.381078197380787, 3.897071203479218],\n",
       " [2.304440801013712, 0.7201032812869856, 2.4446112759227656],\n",
       " [8.179878505675326, 1.9513441121434727, 6.9923495044596855],\n",
       " [4.230378982528645, 0.16279446362206018, 5.522044252965972],\n",
       " [6.943031243023339, 4.9516938707657046, 7.226424176647113],\n",
       " [4.829730098381209, 2.30071243383424, 1.3007367272583092],\n",
       " [2.2158918316353047, 7.328164364255815, 3.1017392265859636],\n",
       " [6.758286917206171, 0.4672427397438561, 1.7604195375745246],\n",
       " [8.440602243041376, 9.610413818568926, 7.650193818262322],\n",
       " [6.327539627489633, 5.851326666742934, 0.1621054708905334],\n",
       " [6.62381970272656, 3.145090977486873, 1.3053878174630318],\n",
       " [6.461904838532257, 7.364435389529281, 4.668212257850386],\n",
       " [2.8998223727519457, 9.316971824042039, 0.7883487221123819],\n",
       " [6.2203470328995305, 9.048596160683424, 7.552302852719693],\n",
       " [1.6127286860775913, 0.7568576851523046, 1.7384055540598442],\n",
       " [4.44628533394817, 8.415644233447829, 3.14790348939344],\n",
       " [6.094257896969404, 2.8589474000131787, 6.031170796506149],\n",
       " [6.814243169721557, 8.530247396933113, 7.823869878789196],\n",
       " [0.7640404344949614, 0.9866123092989065, 2.791711341224241],\n",
       " [6.485496734481963, 3.958464990079016, 2.40178866816382],\n",
       " [8.196406551999418, 2.858522697374827, 3.0758850880914856],\n",
       " [8.404553360449725, 0.26103551360510124, 5.148660271450677],\n",
       " [5.8927910022624665, 6.1853210853599165, 2.8725780482475374],\n",
       " [0.26667774152444923, 7.957041635553487, 5.311407829107958],\n",
       " [6.606559757616201, 1.133540167369096, 0.6230206063563437],\n",
       " [5.461712416678596, 5.262863466389838, 6.199419734322937],\n",
       " [1.819829590531089, 3.1871545726767545, 3.1803456559136425],\n",
       " [4.375939475177518, 9.997755526642965, 6.336891813232897],\n",
       " [6.381825666370617, 1.3794993186966586, 9.246574113439648],\n",
       " [8.432211400610864, 3.896663485806948, 7.903225935648175],\n",
       " [9.471452923138667, 9.054236159413257, 2.5671571349868594],\n",
       " [7.83379911644123, 4.785912001537596, 8.242355733763683],\n",
       " [0.8954318817135876, 0.003053827348910021, 7.136696067588724],\n",
       " [8.901760918320528, 7.230709060151054, 4.623209051896754],\n",
       " [9.280925857271264, 5.938835202803599, 1.0949359472717624],\n",
       " [7.5189695781817285, 6.4355298811441894, 6.811992424631733],\n",
       " [1.3442663054954362, 9.366119869976163, 3.905892604124983],\n",
       " [6.760199744107397, 7.43547603166769, 2.518021835429627],\n",
       " [9.927206464984739, 1.2191502605695859, 6.707033437440709],\n",
       " [3.0154673920063235, 0.44389092942699215, 5.236597947336767],\n",
       " [9.528975735369581, 7.77256946045126, 8.558403634603867],\n",
       " [6.019455248757218, 8.740948804207974, 6.942016917697806],\n",
       " [0.7661606870704463, 4.89242266694399, 0.6932328019583622],\n",
       " [7.096437058263188, 4.849390662072488, 8.861559924891724],\n",
       " [6.69205082462229, 2.537605715730007, 8.789420915006197],\n",
       " [7.029311838962878, 9.963084753905541, 1.5940404438997635],\n",
       " [5.569783337273177, 5.824767072870237, 7.2997859612363625],\n",
       " [0.9108393661047165, 6.455487876365053, 1.1429342942901644]]"
      ]
     },
     "execution_count": 53,
     "metadata": {},
     "output_type": "execute_result"
    }
   ],
   "source": [
    "list_10 =[[r.uniform(0,10) for y in range(3)] for x in range(50)]\n",
    "print(len(list_10[1]))\n",
    "list_10           "
   ]
  },
  {
   "cell_type": "markdown",
   "metadata": {},
   "source": [
    "10. Write a program that counts how many of the numbers in `list_9` end with `1`, `5`, and `9`, respectively, using `elif`. Print the results."
   ]
  },
  {
   "cell_type": "code",
   "execution_count": null,
   "metadata": {},
   "outputs": [],
   "source": [
    "ones = 0\n",
    "fives = 0\n",
    "nines = 0\n",
    "for i in list_9:\n",
    "    digit = i%10\n",
    "    if digit == 1:\n",
    "        ones += 1\n",
    "    elif digit == 5:\n",
    "        fives += 1\n",
    "    elif digit == 9:\n",
    "        nines += 1\n",
    "print(ones, fives, nines) "
   ]
  },
  {
   "cell_type": "markdown",
   "metadata": {},
   "source": [
    "### <p style='color: red'>hard</p>\n",
    "\n",
    "11. `list_10` resembles an array of 3D points. Write a program that calculates the mean of the euclidean distance every point in `list_10` has to every OTHER point in `list_10`. (Tipp: use Google to find euclidean distance and mean)."
   ]
  },
  {
   "cell_type": "code",
   "execution_count": null,
   "metadata": {},
   "outputs": [],
   "source": [
    "import numpy as np"
   ]
  },
  {
   "cell_type": "code",
   "execution_count": null,
   "metadata": {},
   "outputs": [],
   "source": [
    "np.mean([2,1])"
   ]
  },
  {
   "cell_type": "markdown",
   "metadata": {},
   "source": [
    "$dist = \\sqrt{(x_1-x_2)^2+(y_1-y_2)^2+(z_1-z_2)^2} $"
   ]
  },
  {
   "cell_type": "code",
   "execution_count": null,
   "metadata": {},
   "outputs": [],
   "source": [
    "mean_dist_list = []\n",
    "for point_1 in list_10:\n",
    "    dist_list = []\n",
    "    for point_2 in list_10:\n",
    "        dist_list.append(np.sqrt((point_1[0]-point_2[0])**2+(point_1[1]-point_2[1])**2+(point_1[2]-point_2[2])**2))\n",
    "    mean_dist_list.append(np.mean(dist_list))\n",
    "\n",
    "mean_dist_list\n"
   ]
  },
  {
   "cell_type": "code",
   "execution_count": null,
   "metadata": {},
   "outputs": [],
   "source": []
  },
  {
   "cell_type": "code",
   "execution_count": null,
   "metadata": {},
   "outputs": [],
   "source": [
    "import numpy as np"
   ]
  },
  {
   "cell_type": "code",
   "execution_count": null,
   "metadata": {},
   "outputs": [],
   "source": [
    "np.arange(0.1,1.2, 0.25)"
   ]
  },
  {
   "cell_type": "code",
   "execution_count": null,
   "metadata": {},
   "outputs": [],
   "source": []
  }
 ],
 "metadata": {
  "kernelspec": {
   "display_name": "Python 3 (ipykernel)",
   "language": "python",
   "name": "python3"
  },
  "language_info": {
   "codemirror_mode": {
    "name": "ipython",
    "version": 3
   },
   "file_extension": ".py",
   "mimetype": "text/x-python",
   "name": "python",
   "nbconvert_exporter": "python",
   "pygments_lexer": "ipython3",
   "version": "3.11.5"
  },
  "vscode": {
   "interpreter": {
    "hash": "0944ef0f09565dcb5eb8c294f3fae680a5e62f1e09fab5e4e4982d1eade50ff5"
   }
  }
 },
 "nbformat": 4,
 "nbformat_minor": 4
}
