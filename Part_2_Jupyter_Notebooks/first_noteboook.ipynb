{
 "cells": [
  {
   "cell_type": "markdown",
   "id": "1befc2c7-6c69-4909-8e40-329a780f6080",
   "metadata": {},
   "source": [
    "## My first Notebook \n",
    "very cool"
   ]
  },
  {
   "cell_type": "code",
   "execution_count": 1,
   "id": "3e1606d2-1113-4b8d-b6ef-8eb8b89d5ef0",
   "metadata": {
    "tags": []
   },
   "outputs": [],
   "source": [
    "a = 2\n",
    "b = 5\n",
    "c = 7 \n",
    "d = 8"
   ]
  },
  {
   "cell_type": "code",
   "execution_count": 2,
   "id": "a5e11da9-056f-4b1c-a1c1-eeedf7d378bf",
   "metadata": {
    "tags": []
   },
   "outputs": [
    {
     "data": {
      "text/plain": [
       "4"
      ]
     },
     "execution_count": 2,
     "metadata": {},
     "output_type": "execute_result"
    }
   ],
   "source": [
    "a *2"
   ]
  },
  {
   "cell_type": "code",
   "execution_count": 3,
   "id": "d98bb848-8c42-4c91-bc65-4f6854d680fe",
   "metadata": {
    "tags": []
   },
   "outputs": [
    {
     "data": {
      "text/plain": [
       "10"
      ]
     },
     "execution_count": 3,
     "metadata": {},
     "output_type": "execute_result"
    }
   ],
   "source": [
    "b*2"
   ]
  },
  {
   "cell_type": "code",
   "execution_count": 4,
   "id": "9bd2c324-4bbf-409c-ba8e-750ee3c41faf",
   "metadata": {
    "tags": []
   },
   "outputs": [
    {
     "data": {
      "text/plain": [
       "14"
      ]
     },
     "execution_count": 4,
     "metadata": {},
     "output_type": "execute_result"
    }
   ],
   "source": [
    "c*2\n"
   ]
  },
  {
   "cell_type": "code",
   "execution_count": 5,
   "id": "d0b8de5d-07ce-4d87-8481-000699614db5",
   "metadata": {
    "tags": []
   },
   "outputs": [
    {
     "data": {
      "text/plain": [
       "16"
      ]
     },
     "execution_count": 5,
     "metadata": {},
     "output_type": "execute_result"
    }
   ],
   "source": [
    "d*2"
   ]
  },
  {
   "cell_type": "code",
   "execution_count": 6,
   "id": "1597fb76-c346-435f-986b-12019f8843cb",
   "metadata": {
    "tags": []
   },
   "outputs": [],
   "source": [
    "result = 2+5"
   ]
  },
  {
   "cell_type": "code",
   "execution_count": 7,
   "id": "599274aa-0e89-45ef-9e43-2dd7936b1434",
   "metadata": {
    "tags": []
   },
   "outputs": [
    {
     "data": {
      "text/plain": [
       "7"
      ]
     },
     "execution_count": 7,
     "metadata": {},
     "output_type": "execute_result"
    }
   ],
   "source": [
    "result"
   ]
  },
  {
   "cell_type": "code",
   "execution_count": 8,
   "id": "6e1ea35e-f6e6-413b-a007-e3537c62c24a",
   "metadata": {
    "tags": []
   },
   "outputs": [
    {
     "data": {
      "text/plain": [
       "True"
      ]
     },
     "execution_count": 8,
     "metadata": {},
     "output_type": "execute_result"
    }
   ],
   "source": [
    "result == 7"
   ]
  },
  {
   "cell_type": "code",
   "execution_count": 9,
   "id": "e5ecdbf0-0b71-4997-876a-9bbdf0c4a603",
   "metadata": {
    "tags": []
   },
   "outputs": [
    {
     "data": {
      "text/plain": [
       "False"
      ]
     },
     "execution_count": 9,
     "metadata": {},
     "output_type": "execute_result"
    }
   ],
   "source": [
    "8 < 5"
   ]
  },
  {
   "cell_type": "code",
   "execution_count": 10,
   "id": "143e8589-92ad-4202-887c-221744492e29",
   "metadata": {
    "tags": []
   },
   "outputs": [
    {
     "data": {
      "text/plain": [
       "False"
      ]
     },
     "execution_count": 10,
     "metadata": {},
     "output_type": "execute_result"
    }
   ],
   "source": [
    "2 == result"
   ]
  },
  {
   "cell_type": "code",
   "execution_count": null,
   "id": "c8ecbc8a-fd27-4771-a096-05d5ede1b4dc",
   "metadata": {},
   "outputs": [],
   "source": []
  }
 ],
 "metadata": {
  "kernelspec": {
   "display_name": "Python 3 (ipykernel)",
   "language": "python",
   "name": "python3"
  },
  "language_info": {
   "codemirror_mode": {
    "name": "ipython",
    "version": 3
   },
   "file_extension": ".py",
   "mimetype": "text/x-python",
   "name": "python",
   "nbconvert_exporter": "python",
   "pygments_lexer": "ipython3",
   "version": "3.11.5"
  }
 },
 "nbformat": 4,
 "nbformat_minor": 5
}
