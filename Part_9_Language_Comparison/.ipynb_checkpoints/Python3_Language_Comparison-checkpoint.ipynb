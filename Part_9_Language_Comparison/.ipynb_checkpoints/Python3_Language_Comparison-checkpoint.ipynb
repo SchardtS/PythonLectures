{
 "cells": [
  {
   "cell_type": "markdown",
   "id": "37b4e813-688c-498f-ae26-b58fa32cd624",
   "metadata": {},
   "source": [
    "<p style='text-align: center'><a href=https://www.biozentrum.uni-wuerzburg.de/cctb/research/supramolecular-and-cellular-simulations/>Supramolecular and Cellular Simulations</a> (Prof. Fischer)<br>Center for Computational and Theoretical Biology - CCTB<br>Faculty of Biology, University of Würzburg</p>\n",
    "\n",
    "<p style='text-align: center'><br><br>We are looking forward to your comments and suggestions. Please send them to <a href=sabine.fischer@uni.wuerzburg.de>sabine.fischer@uni.wuerzburg.de</a><br><br></p>\n",
    "\n",
    "<h1><p style='text-align: center'> Introduction to Python </p></h1>"
   ]
  },
  {
   "cell_type": "markdown",
   "id": "3a0bce20",
   "metadata": {},
   "source": [
    "Video with explanations (in German): https://video.uni-wuerzburg.de/iframe/?securecode=f88f0b22f917d0a335196df9"
   ]
  },
  {
   "cell_type": "markdown",
   "id": "55dbd4cd-4090-4caa-8929-4ee2fc003dd7",
   "metadata": {
    "tags": []
   },
   "source": [
    "## Language comparison\n",
    "\n",
    "Here, the aim is to show you that different programming languages have similar syntax and concepts. Having completed this Python course also hepls you for other programming languages."
   ]
  },
  {
   "cell_type": "markdown",
   "id": "4747203c-0069-4e10-aa7f-7e5766435d26",
   "metadata": {},
   "source": [
    "The main focus is on reading other programming languages. However, if you are interested in also executing the code from other languages, this is possible with Jupyter notebooks. In this case you have to install additional kernels for the other languages."
   ]
  },
  {
   "cell_type": "markdown",
   "id": "4946eba9-647e-4ee0-84f1-9c1a7bfc700d",
   "metadata": {},
   "source": [
    "In these notebooks, you will find the same code implemented in the three languages Python, R and Julia:\n",
    "- 01_python.ipynb\n",
    "- 02_R.ipynb\n",
    "- 03_julia.ipynb"
   ]
  },
  {
   "cell_type": "markdown",
   "id": "d3c96bc1-2345-4c5d-84a8-b5d86a97cb56",
   "metadata": {},
   "source": [
    "Open and run the Python notebook to understand what the code is doing. Then check the other two to compare the syntax. <br>\n",
    "At the end of each notebook, we have measured the execution time for the different languages. You will see that for this specific problem, julia is the fastest. "
   ]
  },
  {
   "cell_type": "markdown",
   "id": "effd5329-422f-4695-b413-5d7fd789d9de",
   "metadata": {},
   "source": [
    "### Instructions for the curious (not necessary for the course):\n",
    "\n",
    "##### Programming language R:\n",
    "Installing R kernel: https://datatofish.com/r-jupyter-notebook/ <br>\n",
    "For the example below, you will also need the plotting package ggplot 2.  <br>\n",
    "You can either install just that package or a bundle with 80 essential packages: https://docs.anaconda.com/anaconda/packages/r-language-pkg-docs/\n",
    "\n",
    "##### Programming language julia:\n",
    "Installing julia kernel: https://www.geeksforgeeks.org/how-to-work-with-julia-on-jupyter-notebook/ <br>\n",
    "\n",
    "If you do have different kernels installed, we recommend using only one kernel per notebook at the start to avoid confusion."
   ]
  },
  {
   "cell_type": "code",
   "execution_count": null,
   "id": "f491a1b3-1665-48f0-beb7-70a7be30f51f",
   "metadata": {},
   "outputs": [],
   "source": []
  },
  {
   "cell_type": "markdown",
   "id": "9671a015-141d-40b1-a6c2-59c87791acd3",
   "metadata": {},
   "source": [
    "# Exercises\n"
   ]
  },
  {
   "cell_type": "markdown",
   "id": "fbb6b8bd-921d-43dd-8d95-daab9adf4980",
   "metadata": {},
   "source": [
    "### <p style='color: green'>easy</p>"
   ]
  },
  {
   "cell_type": "markdown",
   "id": "cda6fb73-18b1-4cb6-8a23-12b9b651a4e4",
   "metadata": {},
   "source": [
    "1. Here is a block of **Python** code. Understand what it does and write it down."
   ]
  },
  {
   "cell_type": "code",
   "execution_count": 10,
   "id": "d7165f0d-3dd6-493c-8015-ef4999575a9b",
   "metadata": {},
   "outputs": [],
   "source": [
    "def varify(data,threshold):\n",
    "    for (index,element) in enumerate(data):\n",
    "        if element>threshold: \n",
    "            data[index]=\"not valid\"\n",
    "    return data"
   ]
  },
  {
   "cell_type": "code",
   "execution_count": 11,
   "id": "48348246-15f2-447d-9802-8ea7aaac8cf0",
   "metadata": {},
   "outputs": [
    {
     "data": {
      "text/plain": [
       "[39, 40, 42, 45, 39, 35, 35, 37, 'not valid', 0, 23, 23, 45, 'not valid']"
      ]
     },
     "execution_count": 11,
     "metadata": {},
     "output_type": "execute_result"
    }
   ],
   "source": [
    "shoeSize=[39,40,42,45,39,35,35,37,99,0,23,23,45,68];\n",
    "varify(shoeSize,46)"
   ]
  },
  {
   "cell_type": "code",
   "execution_count": 13,
   "id": "c5377ad3-200d-4d09-aedb-3b183eb45fdc",
   "metadata": {},
   "outputs": [
    {
     "data": {
      "text/plain": [
       "[3, 10, 'not valid', 'not valid', 20, 'not valid', 3, 5]"
      ]
     },
     "execution_count": 13,
     "metadata": {},
     "output_type": "execute_result"
    }
   ],
   "source": [
    "hoursSunshinePerDay=[3,10,46,35,20,77,3,5]\n",
    "varify(hoursSunshinePerDay,24)"
   ]
  },
  {
   "cell_type": "markdown",
   "id": "ba44f6c3-d620-4d89-88d9-f2f7600745ed",
   "metadata": {},
   "source": [
    "2. Here is a block of **julia** code. Understand what it does and write it down. Then write the equivalent in Python."
   ]
  },
  {
   "cell_type": "code",
   "execution_count": 11,
   "id": "6ff2dc10-8461-4948-add0-2b06e2fda5f0",
   "metadata": {},
   "outputs": [
    {
     "name": "stdout",
     "output_type": "stream",
     "text": [
      "23\n",
      "23\n",
      "676\n",
      "6572\n",
      "324\n",
      "87\n",
      "12\n",
      "27\n",
      "8\n",
      "546\n"
     ]
    }
   ],
   "source": [
    "hans = [23,23,676,6572,324,87,12,27,8,546]\n",
    "for i in hans \n",
    "    println(i)\n",
    "end"
   ]
  },
  {
   "cell_type": "markdown",
   "id": "8562c763-0c72-4631-9c00-e01785cf80d9",
   "metadata": {},
   "source": [
    "3. Here is a block of **julia** code. Understand what it does and write it down. Then write the equivalent in Python."
   ]
  },
  {
   "cell_type": "code",
   "execution_count": 1,
   "id": "351b54a9-ae10-4056-bcd0-8e969693c691",
   "metadata": {},
   "outputs": [
    {
     "data": {
      "text/plain": [
       "add_only_even (generic function with 1 method)"
      ]
     },
     "execution_count": 1,
     "metadata": {},
     "output_type": "execute_result"
    }
   ],
   "source": [
    "function add_only_even(num1,num2)\n",
    "    \n",
    "    if num1%2 ==0 && num2%2 ==0\n",
    "        return num1*num2\n",
    "    else\n",
    "        println(\"ERROR ERROR ERROR\")\n",
    "        return 0\n",
    "    end\n",
    "end"
   ]
  },
  {
   "cell_type": "code",
   "execution_count": 3,
   "id": "4a9e1544-9f5e-492b-a484-a89c1d8cd18b",
   "metadata": {},
   "outputs": [
    {
     "data": {
      "text/plain": [
       "8"
      ]
     },
     "execution_count": 3,
     "metadata": {},
     "output_type": "execute_result"
    }
   ],
   "source": [
    "add_only_even(2,4)"
   ]
  },
  {
   "cell_type": "code",
   "execution_count": 4,
   "id": "5b3254f2-8dcb-4fc4-8d1a-595c8bbf8bc8",
   "metadata": {},
   "outputs": [
    {
     "name": "stdout",
     "output_type": "stream",
     "text": [
      "ERROR ERROR ERROR\n"
     ]
    },
    {
     "data": {
      "text/plain": [
       "0"
      ]
     },
     "execution_count": 4,
     "metadata": {},
     "output_type": "execute_result"
    }
   ],
   "source": [
    "add_only_even(2,3)"
   ]
  },
  {
   "cell_type": "markdown",
   "id": "6f83bf3e-aba6-4233-92c7-35df4fb60d54",
   "metadata": {},
   "source": [
    "### <p style='color: orange'>medium</p>"
   ]
  },
  {
   "cell_type": "markdown",
   "id": "c214841f-a272-4231-9458-618d929ff046",
   "metadata": {},
   "source": [
    "4. Here is a block of **julia** code. Understand what it does and write it down. Then write the equivalent in Python."
   ]
  },
  {
   "cell_type": "code",
   "execution_count": 15,
   "id": "c345b170-e9ef-4000-86fa-8f17896d17b1",
   "metadata": {},
   "outputs": [
    {
     "data": {
      "text/plain": [
       "make_elements_smaller! (generic function with 1 method)"
      ]
     },
     "execution_count": 15,
     "metadata": {},
     "output_type": "execute_result"
    }
   ],
   "source": [
    "function make_elements_smaller!(vector,max_size)\n",
    "    for i in 1:length(vector)\n",
    "        if vector[i] > max_size\n",
    "            vector[i] = max_size\n",
    "        end\n",
    "    end\n",
    "    return vector\n",
    "end    "
   ]
  },
  {
   "cell_type": "code",
   "execution_count": 16,
   "id": "3fb9f912-0504-4a77-ba80-e34f195d3e52",
   "metadata": {},
   "outputs": [
    {
     "data": {
      "text/plain": [
       "10-element Array{Int64,1}:\n",
       "  23\n",
       "  23\n",
       " 300\n",
       " 300\n",
       " 300\n",
       "  87\n",
       "  12\n",
       "  27\n",
       "   8\n",
       " 300"
      ]
     },
     "execution_count": 16,
     "metadata": {},
     "output_type": "execute_result"
    }
   ],
   "source": [
    "otto=make_elements_smaller(hans,300)"
   ]
  },
  {
   "cell_type": "code",
   "execution_count": 17,
   "id": "dcb39dac-13e6-4280-904c-73ce1cea7275",
   "metadata": {},
   "outputs": [
    {
     "data": {
      "text/plain": [
       "10-element Array{Int64,1}:\n",
       "  23\n",
       "  23\n",
       " 300\n",
       " 300\n",
       " 300\n",
       "  87\n",
       "  12\n",
       "  27\n",
       "   8\n",
       " 300"
      ]
     },
     "execution_count": 17,
     "metadata": {},
     "output_type": "execute_result"
    }
   ],
   "source": [
    "hans"
   ]
  },
  {
   "cell_type": "markdown",
   "id": "14424546-0ff1-4d72-a775-7cd32760d1d1",
   "metadata": {},
   "source": [
    "5. Here is a block of **R** code. Understand what it does and write it down. Then write the equivalent in Python."
   ]
  },
  {
   "cell_type": "code",
   "execution_count": 2,
   "id": "2fc0aeb6-2ca1-42be-ac5e-a307c7e06a41",
   "metadata": {},
   "outputs": [
    {
     "data": {
      "image/png": "[encoded data removed]",
      "text/plain": [
       "plot without title"
      ]
     },
     "metadata": {},
     "output_type": "display_data"
    }
   ],
   "source": [
    "library(ggplot2)\n",
    "\n",
    "data <- read.csv('PersonenDaten.csv', na='NA')\n",
    "\n",
    "ggplot(data, \n",
    "       aes(x = Schuhgroesse))+\n",
    "    geom_histogram( binwidth = 1, color = 'black', fill = 'grey' )+\n",
    "    geom_vline( aes( xintercept = mean(Schuhgroesse), color = 'Mean' ), size = 1 )+\n",
    "    geom_vline( aes( xintercept = median(Schuhgroesse), color = 'Median' ), size = 1 )+\n",
    "    scale_color_manual( \"Central tendency\",\n",
    "                         breaks = c(\"Mean\", \"Median\"),\n",
    "                         values = c('magenta', 'blue') )+\n",
    "    ggtitle('Distribution shoe size')+\n",
    "    labs(x = 'shoe size')+\n",
    "    labs(y = 'number')+\n",
    "    theme(aspect.ratio = 0.5)"
   ]
  },
  {
   "cell_type": "markdown",
   "id": "f28f7b2b-170a-4a28-9e72-a381e3bf2894",
   "metadata": {},
   "source": [
    "### <p style='color: red'>hard</p>"
   ]
  },
  {
   "cell_type": "markdown",
   "id": "f72881b0-5fef-4e5f-90c2-ba5782026fda",
   "metadata": {},
   "source": [
    "6. Here is a block of **julia** code. Understand what it does and write it down. Then write the equivalent in Python."
   ]
  },
  {
   "cell_type": "code",
   "execution_count": 9,
   "id": "1d9c76ee-8090-4a42-8b91-1070b8da1d4d",
   "metadata": {},
   "outputs": [
    {
     "data": {
      "text/plain": [
       "calculate_square_root (generic function with 1 method)"
      ]
     },
     "execution_count": 9,
     "metadata": {},
     "output_type": "execute_result"
    }
   ],
   "source": [
    "#this function is using the heron method to calculate the square root of a number (https://de.wikipedia.org/wiki/Heron-Verfahren)  \n",
    "function calculate_square_root(number,start_value,precision)\n",
    "    counter = 0 \n",
    "    while true\n",
    "        start_value = start_value - (start_value^2-number)/(2*start_value)\n",
    "        counter += 1\n",
    "        #break if loop has run for at least 5 times and calculated number is sufficiently precise    \n",
    "        if counter > 5 && (start_value^2-number)<= precision\n",
    "            break\n",
    "        elseif counter >10\n",
    "            println(\"stopped calculation due to too many steps, chose better start_value next time\")\n",
    "            break\n",
    "        end\n",
    "    end\n",
    "    return start_value\n",
    "end\n",
    "            \n",
    "    "
   ]
  },
  {
   "cell_type": "code",
   "execution_count": 10,
   "id": "757f361b-6284-4327-b4df-9097b66f0f91",
   "metadata": {},
   "outputs": [
    {
     "data": {
      "text/plain": [
       "89.4427190999918"
      ]
     },
     "execution_count": 10,
     "metadata": {},
     "output_type": "execute_result"
    }
   ],
   "source": [
    "calculate_square_root(8000,3,0.000001)\n"
   ]
  },
  {
   "cell_type": "code",
   "execution_count": 11,
   "id": "f08adf5b-693f-4925-b4b0-b496d3a7272a",
   "metadata": {},
   "outputs": [
    {
     "name": "stdout",
     "output_type": "stream",
     "text": [
      "stopped calculation due to too many steps, chose better start_value next time\n"
     ]
    },
    {
     "data": {
      "text/plain": [
       "1690.4188095487573"
      ]
     },
     "execution_count": 11,
     "metadata": {},
     "output_type": "execute_result"
    }
   ],
   "source": [
    "calculate_square_root(332333,0.1,0.00001)"
   ]
  },
  {
   "cell_type": "code",
   "execution_count": null,
   "id": "8c6298ed-ca07-4fc6-a075-4acfd8604d92",
   "metadata": {},
   "outputs": [],
   "source": []
  }
 ],
 "metadata": {
  "kernelspec": {
   "display_name": "R",
   "language": "R",
   "name": "ir"
  },
  "language_info": {
   "codemirror_mode": "r",
   "file_extension": ".r",
   "mimetype": "text/x-r-source",
   "name": "R",
   "pygments_lexer": "r",
   "version": "3.6.1"
  }
 },
 "nbformat": 4,
 "nbformat_minor": 5
}
