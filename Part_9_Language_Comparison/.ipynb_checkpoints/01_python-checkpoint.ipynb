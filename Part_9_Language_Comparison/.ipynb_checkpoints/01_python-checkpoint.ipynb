{
 "cells": [
  {
   "cell_type": "markdown",
   "metadata": {},
   "source": [
    "## Python \n",
    "### Exemplary Problem: Numerical solution of logistic differential equation \n",
    "$\\frac{\\partial U(t)}{\\partial t} = U(t)(1-U(t))$ \n",
    " \n",
    "Strategy: \n",
    "Transform into discrete sequence and calculate the single steps for sufficient small time steps $\\Delta t$.\n",
    "\n",
    "$U(t+\\Delta t) =U(t)+ U(t)(1-U(t))\\Delta t $\n",
    "\n",
    "Start with an arbitatrly value $U(0) = 1.0*10^{-5}$ and then calculate the discrete sequence $N$ times until it reaches saturation at $t =T$.    ($ N = \\frac{T}{\\Delta t}$ )\n",
    "\n",
    "$U(0+\\Delta t) =U(\\Delta t) =U(0)+ U(0)(1-U(0))\\Delta t $\n",
    "\n",
    "$U(\\Delta t+\\Delta t) =U(\\Delta t)+ U(\\Delta t)(1-U(\\Delta t))\\Delta t $\n",
    "\n",
    "$U(2\\Delta t+\\Delta t) =U(2\\Delta t)+ U(2\\Delta t)(1-U(2\\Delta t))\\Delta t $\n",
    "\n",
    ".\n",
    ".\n",
    ".\n",
    "\n",
    "$ U(T) $\n"
   ]
  },
  {
   "cell_type": "markdown",
   "metadata": {},
   "source": [
    "### Solve the Problem with Programming\n",
    "First step: Import neccesary packages"
   ]
  },
  {
   "cell_type": "code",
   "execution_count": 1,
   "metadata": {},
   "outputs": [],
   "source": [
    "import numpy as np\n",
    "import matplotlib.pyplot as plt\n",
    "import time"
   ]
  },
  {
   "cell_type": "markdown",
   "metadata": {},
   "source": [
    "Second step: Define function for discretisation with number of steps N as input argument"
   ]
  },
  {
   "cell_type": "code",
   "execution_count": 2,
   "metadata": {},
   "outputs": [],
   "source": [
    "def python_logistic(N):\n",
    "    # Parameters\n",
    "    T = 25\n",
    "    u0 = 1e-5\n",
    "    # Right hand side function\n",
    "    f = lambda u: u*(1-u)\n",
    "    # Discretization\n",
    "    t = np.linspace(0,T,N)\n",
    "    dt = T/N\n",
    "    # Time stepping\n",
    "    u = np.empty(N)\n",
    "    u[0] = u0\n",
    "    for k in range(N-1):\n",
    "        u[k+1] = u[k] + dt*f(u[k])\n",
    "    return(t,u)"
   ]
  },
  {
   "cell_type": "markdown",
   "metadata": {},
   "source": [
    "Third step: Visualize the problem, so see if everthing works as planned  "
   ]
  },
  {
   "cell_type": "code",
   "execution_count": 3,
   "metadata": {},
   "outputs": [
    {
     "data": {
      "image/png": "[encoded data removed]",
      "text/plain": [
       "<Figure size 432x288 with 1 Axes>"
      ]
     },
     "metadata": {
      "needs_background": "light"
     },
     "output_type": "display_data"
    }
   ],
   "source": [
    "T,U = python_logistic(1000)\n",
    "\n",
    "plt.plot(T,U,lw=2)\n",
    "plt.xlabel('t')\n",
    "plt.ylabel('u(t)')\n",
    "plt.show()"
   ]
  },
  {
   "cell_type": "markdown",
   "metadata": {},
   "source": [
    "Fourth step: Benchmark the function "
   ]
  },
  {
   "cell_type": "code",
   "execution_count": 7,
   "metadata": {},
   "outputs": [
    {
     "name": "stdout",
     "output_type": "stream",
     "text": [
      "0.001992940902709961\n"
     ]
    }
   ],
   "source": [
    "start = time.time()\n",
    "python_logistic(1000)\n",
    "end = time.time()\n",
    "print(end - start)"
   ]
  },
  {
   "cell_type": "markdown",
   "metadata": {},
   "source": [
    "Fifth step: Realize that Python is fast ?"
   ]
  },
  {
   "cell_type": "code",
   "execution_count": null,
   "metadata": {},
   "outputs": [],
   "source": []
  }
 ],
 "metadata": {
  "kernelspec": {
   "display_name": "Python 3",
   "language": "python",
   "name": "python3"
  },
  "language_info": {
   "codemirror_mode": {
    "name": "ipython",
    "version": 3
   },
   "file_extension": ".py",
   "mimetype": "text/x-python",
   "name": "python",
   "nbconvert_exporter": "python",
   "pygments_lexer": "ipython3",
   "version": "3.7.1"
  }
 },
 "nbformat": 4,
 "nbformat_minor": 4
}
