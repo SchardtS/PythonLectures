{
 "cells": [
  {
   "cell_type": "markdown",
   "id": "79c0caac",
   "metadata": {},
   "source": [
    "Über dieses Thema sind wir heute in der Besprechung gestolpert:"
   ]
  },
  {
   "cell_type": "code",
   "execution_count": 1,
   "id": "0d0faee2",
   "metadata": {},
   "outputs": [
    {
     "ename": "ValueError",
     "evalue": "invalid literal for int() with base 10: '5.6'",
     "output_type": "error",
     "traceback": [
      "\u001b[1;31m---------------------------------------------------------------------------\u001b[0m",
      "\u001b[1;31mValueError\u001b[0m                                Traceback (most recent call last)",
      "\u001b[1;32m<ipython-input-1-20d76d377e33>\u001b[0m in \u001b[0;36m<module>\u001b[1;34m\u001b[0m\n\u001b[1;32m----> 1\u001b[1;33m \u001b[0mint\u001b[0m\u001b[1;33m(\u001b[0m\u001b[1;34m'5.6'\u001b[0m\u001b[1;33m)\u001b[0m\u001b[1;33m\u001b[0m\u001b[1;33m\u001b[0m\u001b[0m\n\u001b[0m",
      "\u001b[1;31mValueError\u001b[0m: invalid literal for int() with base 10: '5.6'"
     ]
    }
   ],
   "source": [
    "int('5.6')"
   ]
  },
  {
   "cell_type": "markdown",
   "id": "fc3e0c7e",
   "metadata": {},
   "source": [
    "Recherche in der Dokumentation zeigt, dass die Funktion `int()` keine Strings verarbeiten kann, die wie Fließkommazahlen aussehen. `float()` kann das."
   ]
  },
  {
   "cell_type": "code",
   "execution_count": 3,
   "id": "4a9f92b8",
   "metadata": {},
   "outputs": [
    {
     "data": {
      "text/plain": [
       "5.6"
      ]
     },
     "execution_count": 3,
     "metadata": {},
     "output_type": "execute_result"
    }
   ],
   "source": [
    "float('5.6')"
   ]
  },
  {
   "cell_type": "markdown",
   "id": "9ccf5ae1",
   "metadata": {},
   "source": [
    "`int()`kann jedoch aus einer Fließkommazahl (Typ float) eine Integer machen"
   ]
  },
  {
   "cell_type": "code",
   "execution_count": 5,
   "id": "6800d035",
   "metadata": {},
   "outputs": [
    {
     "data": {
      "text/plain": [
       "5"
      ]
     },
     "execution_count": 5,
     "metadata": {},
     "output_type": "execute_result"
    }
   ],
   "source": [
    "int(5.6)"
   ]
  },
  {
   "cell_type": "code",
   "execution_count": null,
   "id": "0d00c734",
   "metadata": {},
   "outputs": [],
   "source": []
  },
  {
   "cell_type": "markdown",
   "id": "ff7c93a9",
   "metadata": {},
   "source": [
    "Wollen Sie also den String '5.6' in eine Integer umwandeln, d.h. eine Zahl daraus machen und die Nachkommastelle abschneiden, ginge das so:"
   ]
  },
  {
   "cell_type": "code",
   "execution_count": 6,
   "id": "cb6f82ed",
   "metadata": {},
   "outputs": [
    {
     "data": {
      "text/plain": [
       "5"
      ]
     },
     "execution_count": 6,
     "metadata": {},
     "output_type": "execute_result"
    }
   ],
   "source": [
    "int(float('5.6'))"
   ]
  },
  {
   "cell_type": "code",
   "execution_count": null,
   "id": "ca6cf139",
   "metadata": {},
   "outputs": [],
   "source": []
  }
 ],
 "metadata": {
  "kernelspec": {
   "display_name": "Python 3 (ipykernel)",
   "language": "python",
   "name": "python3"
  },
  "language_info": {
   "codemirror_mode": {
    "name": "ipython",
    "version": 3
   },
   "file_extension": ".py",
   "mimetype": "text/x-python",
   "name": "python",
   "nbconvert_exporter": "python",
   "pygments_lexer": "ipython3",
   "version": "3.9.7"
  }
 },
 "nbformat": 4,
 "nbformat_minor": 5
}
