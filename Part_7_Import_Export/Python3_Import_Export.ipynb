{
 "cells": [
  {
   "cell_type": "markdown",
   "metadata": {},
   "source": [
    "<p style='text-align: center'><a href=https://www.biozentrum.uni-wuerzburg.de/cctb/research/supramolecular-and-cellular-simulations/>Supramolecular and Cellular Simulations</a> (Prof. Fischer)<br>Center for Computational and Theoretical Biology - CCTB<br>Faculty of Biology, University of Würzburg</p>\n",
    "\n",
    "<p style='text-align: center'><br><br>We are looking forward to your comments and suggestions. Please send them to <a href=sabine.fischer@uni.wuerzburg.de>sabine.fischer@uni.wuerzburg.de</a><br><br></p>\n",
    "\n",
    "<h1><p style='text-align: center'> Introduction to Python </p></h1>"
   ]
  },
  {
   "cell_type": "markdown",
   "metadata": {},
   "source": [
    "Video with explanations (in German): https://video.uni-wuerzburg.de/iframe/?securecode=59ccf729174846a716745539"
   ]
  },
  {
   "cell_type": "markdown",
   "metadata": {},
   "source": [
    "## Import and Export\n",
    "\n",
    "This notebook contains different possibilities for data import and export."
   ]
  },
  {
   "cell_type": "markdown",
   "metadata": {},
   "source": [
    "### 1. Reading from the keyboard and writing to the screen\n",
    "\n",
    "A user can be prompted to provide input with the function `input()` and the data can be saved in a variable. <br>\n",
    "With `print()` data can be output to the screen."
   ]
  },
  {
   "cell_type": "code",
   "execution_count": 2,
   "metadata": {},
   "outputs": [
    {
     "name": "stdin",
     "output_type": "stream",
     "text": [
      " 23\n"
     ]
    },
    {
     "data": {
      "text/plain": [
       "'23'"
      ]
     },
     "execution_count": 2,
     "metadata": {},
     "output_type": "execute_result"
    }
   ],
   "source": [
    "a=input()\n",
    "a"
   ]
  },
  {
   "cell_type": "code",
   "execution_count": 3,
   "metadata": {},
   "outputs": [
    {
     "name": "stdout",
     "output_type": "stream",
     "text": [
      "text\n"
     ]
    }
   ],
   "source": [
    "print('text')"
   ]
  },
  {
   "cell_type": "code",
   "execution_count": 4,
   "metadata": {},
   "outputs": [
    {
     "name": "stdout",
     "output_type": "stream",
     "text": [
      "23\n"
     ]
    }
   ],
   "source": [
    "print(a)"
   ]
  },
  {
   "cell_type": "markdown",
   "metadata": {},
   "source": [
    "### 2. Reading and writing data from/to a file\n",
    "\n",
    "You can read data from a file or write data to a file. To do so, a file object is required."
   ]
  },
  {
   "cell_type": "markdown",
   "metadata": {},
   "source": [
    "#### 2.1 File object\n",
    "\n",
    "A Python file object provides methods and attributes to access and manipulate files. Using file objects, we can read or write any files. Whenever we open a file to perform any operations on it, Python returns a file object.<br>\n",
    "The function `open(filename,mode)` generates a file object. The first argument is a string containing the filename. The second argument is another string containing a few characters describing the way in which the file will be used. There are different options for the use mode: <br>\n",
    "\n",
    "| Character | Meaning |\n",
    "| :--- | :--- |\n",
    "| 'r' | reading (default) |\n",
    "| 'w' | writing, truncating the file first |\n",
    "| 'x' | exclusive creation, failing if the file already exists |\n",
    "| 'a' | writing, appending to the end of the file, if it exists |\n",
    "| '+' | open for updating (reading and writing) |\n",
    "| 't' | text mode (default) |\n",
    "\n",
    "After processing the file, you need to close the file object again, using `fObj.close()`.<br>\n",
    "It is good practice to use `with` instead of opening an closing the file seperately. The syntax is\n",
    "```python\n",
    "with open(filename,mode) as fObj:\n",
    "    statements\n",
    "```\n"
   ]
  },
  {
   "cell_type": "markdown",
   "metadata": {},
   "source": [
    "#### 2.1 Reading data from a file\n",
    "\n",
    "A file object comes with several methods. To read all the data from a file use `fObj.read()` or provide an argument size, that limits the number of characters read, hence `fObj.read(size)`. <br>\n",
    "For reading lines form a file, you can loop over the file object:\n",
    "```Python\n",
    "for line in fObj:\n",
    "    print(line)\n",
    "``` \n",
    "If you want to read the lines of a file in a list, use `list(fObj)` or `fObj.readlines()`."
   ]
  },
  {
   "cell_type": "code",
   "execution_count": 8,
   "metadata": {},
   "outputs": [
    {
     "name": "stdout",
     "output_type": "stream",
     "text": [
      "car Auto\n",
      "bicycle Fahrrad\n",
      "bottle Flasche\n",
      "fan Ventilator\n",
      "jacket Jacke\n"
     ]
    }
   ],
   "source": [
    "fDict=open('dictionary.txt','r')\n",
    "print(fDict.read())\n",
    "fDict.close()"
   ]
  },
  {
   "cell_type": "code",
   "execution_count": 9,
   "metadata": {},
   "outputs": [
    {
     "name": "stdout",
     "output_type": "stream",
     "text": [
      "car Auto\n",
      "\n",
      "bicycle Fahrrad\n",
      "\n",
      "bottle Flasche\n",
      "\n",
      "fan Ventilator\n",
      "\n",
      "jacket Jacke\n"
     ]
    }
   ],
   "source": [
    "fDict=open('dictionary.txt','r')\n",
    "for line in fDict:\n",
    "    print(line)\n",
    "fDict.close()    "
   ]
  },
  {
   "cell_type": "code",
   "execution_count": 10,
   "metadata": {},
   "outputs": [
    {
     "data": {
      "text/plain": [
       "True"
      ]
     },
     "execution_count": 10,
     "metadata": {},
     "output_type": "execute_result"
    }
   ],
   "source": [
    "fDict.closed"
   ]
  },
  {
   "cell_type": "code",
   "execution_count": 11,
   "metadata": {},
   "outputs": [
    {
     "ename": "ValueError",
     "evalue": "I/O operation on closed file.",
     "output_type": "error",
     "traceback": [
      "\u001b[1;31m---------------------------------------------------------------------------\u001b[0m",
      "\u001b[1;31mValueError\u001b[0m                                Traceback (most recent call last)",
      "\u001b[1;32m~\\AppData\\Local\\Temp/ipykernel_4816/2791798227.py\u001b[0m in \u001b[0;36m<module>\u001b[1;34m\u001b[0m\n\u001b[1;32m----> 1\u001b[1;33m \u001b[1;32mfor\u001b[0m \u001b[0mline\u001b[0m \u001b[1;32min\u001b[0m \u001b[0mfDict\u001b[0m\u001b[1;33m:\u001b[0m\u001b[1;33m\u001b[0m\u001b[1;33m\u001b[0m\u001b[0m\n\u001b[0m\u001b[0;32m      2\u001b[0m     \u001b[0mprint\u001b[0m\u001b[1;33m(\u001b[0m\u001b[0mline\u001b[0m\u001b[1;33m)\u001b[0m\u001b[1;33m\u001b[0m\u001b[1;33m\u001b[0m\u001b[0m\n",
      "\u001b[1;31mValueError\u001b[0m: I/O operation on closed file."
     ]
    }
   ],
   "source": [
    "for line in fDict:\n",
    "    print(line)"
   ]
  },
  {
   "cell_type": "code",
   "execution_count": 15,
   "metadata": {},
   "outputs": [],
   "source": [
    "words={}\n",
    "fObj=open('dictionary.txt','r')\n",
    "for line in fObj:\n",
    "    lineParts=line.split(\" \")\n",
    "    words[lineParts[0]] = lineParts[1]\n",
    "fObj.close()    "
   ]
  },
  {
   "cell_type": "code",
   "execution_count": 16,
   "metadata": {},
   "outputs": [
    {
     "data": {
      "text/plain": [
       "{'car': 'Auto\\n',\n",
       " 'bicycle': 'Fahrrad\\n',\n",
       " 'bottle': 'Flasche\\n',\n",
       " 'fan': 'Ventilator\\n',\n",
       " 'jacket': 'Jacke'}"
      ]
     },
     "execution_count": 16,
     "metadata": {},
     "output_type": "execute_result"
    }
   ],
   "source": [
    "words"
   ]
  },
  {
   "cell_type": "code",
   "execution_count": 18,
   "metadata": {},
   "outputs": [
    {
     "name": "stdout",
     "output_type": "stream",
     "text": [
      "car Auto\n",
      "\n",
      "bicycle Fahrrad\n",
      "\n",
      "bottle Flasche\n",
      "\n",
      "fan Ventilator\n",
      "\n",
      "jacket Jacke\n"
     ]
    }
   ],
   "source": [
    "with open('dictionary.txt','r') as fObj:\n",
    "    for line in fObj:\n",
    "        print(line)"
   ]
  },
  {
   "cell_type": "code",
   "execution_count": 19,
   "metadata": {},
   "outputs": [
    {
     "data": {
      "text/plain": [
       "True"
      ]
     },
     "execution_count": 19,
     "metadata": {},
     "output_type": "execute_result"
    }
   ],
   "source": [
    "fObj.closed"
   ]
  },
  {
   "cell_type": "code",
   "execution_count": 28,
   "metadata": {},
   "outputs": [],
   "source": [
    "with open('dictionary.txt','r') as fDict:\n",
    "    content=fDict.readlines()"
   ]
  },
  {
   "cell_type": "code",
   "execution_count": 29,
   "metadata": {},
   "outputs": [
    {
     "name": "stdout",
     "output_type": "stream",
     "text": [
      "['car Auto\\n', 'bicycle Fahrrad\\n', 'bottle Flasche\\n', 'fan Ventilator\\n', 'jacket Jacke']\n"
     ]
    }
   ],
   "source": [
    "print(content)"
   ]
  },
  {
   "cell_type": "markdown",
   "metadata": {},
   "source": [
    "#### 2.2 Writing data to a file\n",
    "\n",
    "The method `fObj.write(string)` writes the content of string to the file with the corresponding file object fObj and returns the number of characters written."
   ]
  },
  {
   "cell_type": "code",
   "execution_count": 30,
   "metadata": {},
   "outputs": [],
   "source": [
    "with open('file.txt','w') as fObj:\n",
    "    fObj.write(\"This is a text\")"
   ]
  },
  {
   "cell_type": "code",
   "execution_count": 32,
   "metadata": {},
   "outputs": [],
   "source": [
    "nucleiData={'centroid': [110,112,240],'volume': 250,'cellType': 'stem_cell'}"
   ]
  },
  {
   "cell_type": "code",
   "execution_count": 33,
   "metadata": {},
   "outputs": [],
   "source": [
    "with open('results.txt','w') as fObj:\n",
    "    for entry in nucleiData:\n",
    "        fObj.write(\"{} {}\\n\".format(entry,nucleiData[entry]))"
   ]
  },
  {
   "cell_type": "markdown",
   "metadata": {},
   "source": [
    "### 3. Listing directory content\n",
    "\n",
    "When working with larger datastes, it is often necessary to import multiple files. Hence, listing the content of a directory becomes relevant. The module `os` provides the necessary functionality.<br>\n",
    "Useful functions are os.getcwd() to get a string representing the current working directory and os.listdir(path='.') to get a list of the directories content. The argument path is optional."
   ]
  },
  {
   "cell_type": "code",
   "execution_count": 34,
   "metadata": {},
   "outputs": [],
   "source": [
    "import os"
   ]
  },
  {
   "cell_type": "code",
   "execution_count": 35,
   "metadata": {},
   "outputs": [
    {
     "data": {
      "text/plain": [
       "'C:\\\\Users\\\\ank10ki\\\\Dropbox\\\\phd\\\\Courses\\\\WS2022\\\\Teaching\\\\Python\\\\Part_7_Import_Export'"
      ]
     },
     "execution_count": 35,
     "metadata": {},
     "output_type": "execute_result"
    }
   ],
   "source": [
    "os.getcwd()"
   ]
  },
  {
   "cell_type": "code",
   "execution_count": 42,
   "metadata": {},
   "outputs": [],
   "source": [
    "currentPath=os.getcwd()"
   ]
  },
  {
   "cell_type": "code",
   "execution_count": 44,
   "metadata": {},
   "outputs": [
    {
     "data": {
      "text/plain": [
       "['.ipynb_checkpoints',\n",
       " 'AliceInWonderland.txt',\n",
       " 'barplot.pdf',\n",
       " 'barplot.png',\n",
       " 'dataFrame.csv',\n",
       " 'dictionary.txt',\n",
       " 'dictionary_json.txt',\n",
       " 'DrugScreen1.csv',\n",
       " 'DrugScreen2.csv',\n",
       " 'ex1_output.txt',\n",
       " 'expGrowth.png',\n",
       " 'file.txt',\n",
       " 'hans.txt',\n",
       " 'lengthMeasure.csv',\n",
       " 'lines.pdf',\n",
       " 'lines.png',\n",
       " 'Nachtrag_Besprechung_16_02_2022.ipynb',\n",
       " 'Python3_Import_Export.ipynb',\n",
       " 'Python3_Import_Export_with_solutions.ipynb',\n",
       " 'results.txt',\n",
       " 'test.txt',\n",
       " 'Weights.csv',\n",
       " 'weightsHist.pdf',\n",
       " 'weightsHist.png',\n",
       " 'weightsHistDF.pdf']"
      ]
     },
     "execution_count": 44,
     "metadata": {},
     "output_type": "execute_result"
    }
   ],
   "source": [
    "os.listdir(path=currentPath)"
   ]
  },
  {
   "cell_type": "code",
   "execution_count": 45,
   "metadata": {},
   "outputs": [
    {
     "data": {
      "text/plain": [
       "['.ipynb_checkpoints',\n",
       " 'AliceInWonderland.txt',\n",
       " 'barplot.pdf',\n",
       " 'barplot.png',\n",
       " 'dataFrame.csv',\n",
       " 'dictionary.txt',\n",
       " 'dictionary_json.txt',\n",
       " 'DrugScreen1.csv',\n",
       " 'DrugScreen2.csv',\n",
       " 'ex1_output.txt',\n",
       " 'expGrowth.png',\n",
       " 'file.txt',\n",
       " 'hans.txt',\n",
       " 'lengthMeasure.csv',\n",
       " 'lines.pdf',\n",
       " 'lines.png',\n",
       " 'Nachtrag_Besprechung_16_02_2022.ipynb',\n",
       " 'Python3_Import_Export.ipynb',\n",
       " 'Python3_Import_Export_with_solutions.ipynb',\n",
       " 'results.txt',\n",
       " 'test.txt',\n",
       " 'Weights.csv',\n",
       " 'weightsHist.pdf',\n",
       " 'weightsHist.png',\n",
       " 'weightsHistDF.pdf']"
      ]
     },
     "execution_count": 45,
     "metadata": {},
     "output_type": "execute_result"
    }
   ],
   "source": [
    "os.listdir()"
   ]
  },
  {
   "cell_type": "markdown",
   "metadata": {},
   "source": [
    "https://docs.python.org/3/library/os.html#os-file-dir"
   ]
  },
  {
   "cell_type": "markdown",
   "metadata": {},
   "source": [
    "### 4. json (JavaScript Object Notation)\n",
    "\n",
    "The JSON format provides an easy way to save more complex data types like nested lists and dictionaries. The data hierarchies are converted to string representations for export (serializing) and reconstructed from the string representation for input (deserializing).  <br>\n",
    "It is commonly used in modern applications and therefore a good choice for interoperability."
   ]
  },
  {
   "cell_type": "code",
   "execution_count": 46,
   "metadata": {},
   "outputs": [],
   "source": [
    "import json"
   ]
  },
  {
   "cell_type": "markdown",
   "metadata": {},
   "source": [
    "**Serializing**"
   ]
  },
  {
   "cell_type": "code",
   "execution_count": 51,
   "metadata": {},
   "outputs": [
    {
     "data": {
      "text/plain": [
       "{'car': 'Auto\\n',\n",
       " 'bicycle': 'Fahrrad\\n',\n",
       " 'bottle': 'Flasche\\n',\n",
       " 'fan': 'Ventilator\\n',\n",
       " 'jacket': 'Jacke'}"
      ]
     },
     "execution_count": 51,
     "metadata": {},
     "output_type": "execute_result"
    }
   ],
   "source": [
    "words"
   ]
  },
  {
   "cell_type": "code",
   "execution_count": 52,
   "metadata": {},
   "outputs": [
    {
     "data": {
      "text/plain": [
       "'{\"car\": \"Auto\\\\n\", \"bicycle\": \"Fahrrad\\\\n\", \"bottle\": \"Flasche\\\\n\", \"fan\": \"Ventilator\\\\n\", \"jacket\": \"Jacke\"}'"
      ]
     },
     "execution_count": 52,
     "metadata": {},
     "output_type": "execute_result"
    }
   ],
   "source": [
    "json.dumps(words)"
   ]
  },
  {
   "cell_type": "code",
   "execution_count": 53,
   "metadata": {},
   "outputs": [],
   "source": [
    "with open('dictionary_json.txt','w') as file:\n",
    "    json.dump(words,file)"
   ]
  },
  {
   "cell_type": "markdown",
   "metadata": {},
   "source": [
    "**Deserialiszing**"
   ]
  },
  {
   "cell_type": "code",
   "execution_count": 54,
   "metadata": {},
   "outputs": [],
   "source": [
    "with open('dictionary_json.txt','r') as fileObj:\n",
    "    x=json.load(fileObj)"
   ]
  },
  {
   "cell_type": "code",
   "execution_count": 85,
   "metadata": {},
   "outputs": [
    {
     "data": {
      "text/plain": [
       "{'car': 'Auto\\n',\n",
       " 'bicycle': 'Fahrrad\\n',\n",
       " 'bottle': 'Flasche\\n',\n",
       " 'fan': 'Ventilator\\n',\n",
       " 'jacket': 'Jacke'}"
      ]
     },
     "execution_count": 85,
     "metadata": {},
     "output_type": "execute_result"
    }
   ],
   "source": [
    "x"
   ]
  },
  {
   "cell_type": "markdown",
   "metadata": {},
   "source": [
    "### 5. Pandas\n",
    "\n",
    "The module pandas is particularly useful for data analysis. As part of its functionality, it offers an easy way of importing data from .csv files and exporting data frames to .csv files."
   ]
  },
  {
   "cell_type": "code",
   "execution_count": 86,
   "metadata": {},
   "outputs": [],
   "source": [
    "import pandas as pd"
   ]
  },
  {
   "cell_type": "code",
   "execution_count": 87,
   "metadata": {},
   "outputs": [],
   "source": [
    " df = pd.DataFrame({'DataSet': 1.,\n",
    "                    'Date': pd.Timestamp('20130102'),\n",
    "                    'Area': [15,12,13,27],\n",
    "                    'Category': [\"test\", \"train\", \"test\", \"train\"],\n",
    "                    'Validity': 'valid'})"
   ]
  },
  {
   "cell_type": "code",
   "execution_count": 88,
   "metadata": {},
   "outputs": [
    {
     "data": {
      "text/html": [
       "<div>\n",
       "<style scoped>\n",
       "    .dataframe tbody tr th:only-of-type {\n",
       "        vertical-align: middle;\n",
       "    }\n",
       "\n",
       "    .dataframe tbody tr th {\n",
       "        vertical-align: top;\n",
       "    }\n",
       "\n",
       "    .dataframe thead th {\n",
       "        text-align: right;\n",
       "    }\n",
       "</style>\n",
       "<table border=\"1\" class=\"dataframe\">\n",
       "  <thead>\n",
       "    <tr style=\"text-align: right;\">\n",
       "      <th></th>\n",
       "      <th>DataSet</th>\n",
       "      <th>Date</th>\n",
       "      <th>Area</th>\n",
       "      <th>Category</th>\n",
       "      <th>Validity</th>\n",
       "    </tr>\n",
       "  </thead>\n",
       "  <tbody>\n",
       "    <tr>\n",
       "      <th>0</th>\n",
       "      <td>1.0</td>\n",
       "      <td>2013-01-02</td>\n",
       "      <td>15</td>\n",
       "      <td>test</td>\n",
       "      <td>valid</td>\n",
       "    </tr>\n",
       "    <tr>\n",
       "      <th>1</th>\n",
       "      <td>1.0</td>\n",
       "      <td>2013-01-02</td>\n",
       "      <td>12</td>\n",
       "      <td>train</td>\n",
       "      <td>valid</td>\n",
       "    </tr>\n",
       "    <tr>\n",
       "      <th>2</th>\n",
       "      <td>1.0</td>\n",
       "      <td>2013-01-02</td>\n",
       "      <td>13</td>\n",
       "      <td>test</td>\n",
       "      <td>valid</td>\n",
       "    </tr>\n",
       "    <tr>\n",
       "      <th>3</th>\n",
       "      <td>1.0</td>\n",
       "      <td>2013-01-02</td>\n",
       "      <td>27</td>\n",
       "      <td>train</td>\n",
       "      <td>valid</td>\n",
       "    </tr>\n",
       "  </tbody>\n",
       "</table>\n",
       "</div>"
      ],
      "text/plain": [
       "   DataSet       Date  Area Category Validity\n",
       "0      1.0 2013-01-02    15     test    valid\n",
       "1      1.0 2013-01-02    12    train    valid\n",
       "2      1.0 2013-01-02    13     test    valid\n",
       "3      1.0 2013-01-02    27    train    valid"
      ]
     },
     "execution_count": 88,
     "metadata": {},
     "output_type": "execute_result"
    }
   ],
   "source": [
    "df"
   ]
  },
  {
   "cell_type": "markdown",
   "metadata": {},
   "source": [
    "Writing to a .csv file"
   ]
  },
  {
   "cell_type": "code",
   "execution_count": 89,
   "metadata": {},
   "outputs": [],
   "source": [
    "df.to_csv('dataFrame.csv')"
   ]
  },
  {
   "cell_type": "markdown",
   "metadata": {},
   "source": [
    "Reading from a .csv"
   ]
  },
  {
   "cell_type": "code",
   "execution_count": 90,
   "metadata": {},
   "outputs": [],
   "source": [
    "fromCSV=pd.read_csv('dataFrame.csv')"
   ]
  },
  {
   "cell_type": "code",
   "execution_count": 91,
   "metadata": {},
   "outputs": [
    {
     "data": {
      "text/html": [
       "<div>\n",
       "<style scoped>\n",
       "    .dataframe tbody tr th:only-of-type {\n",
       "        vertical-align: middle;\n",
       "    }\n",
       "\n",
       "    .dataframe tbody tr th {\n",
       "        vertical-align: top;\n",
       "    }\n",
       "\n",
       "    .dataframe thead th {\n",
       "        text-align: right;\n",
       "    }\n",
       "</style>\n",
       "<table border=\"1\" class=\"dataframe\">\n",
       "  <thead>\n",
       "    <tr style=\"text-align: right;\">\n",
       "      <th></th>\n",
       "      <th>Unnamed: 0</th>\n",
       "      <th>DataSet</th>\n",
       "      <th>Date</th>\n",
       "      <th>Area</th>\n",
       "      <th>Category</th>\n",
       "      <th>Validity</th>\n",
       "    </tr>\n",
       "  </thead>\n",
       "  <tbody>\n",
       "    <tr>\n",
       "      <th>0</th>\n",
       "      <td>0</td>\n",
       "      <td>1.0</td>\n",
       "      <td>2013-01-02</td>\n",
       "      <td>15</td>\n",
       "      <td>test</td>\n",
       "      <td>valid</td>\n",
       "    </tr>\n",
       "    <tr>\n",
       "      <th>1</th>\n",
       "      <td>1</td>\n",
       "      <td>1.0</td>\n",
       "      <td>2013-01-02</td>\n",
       "      <td>12</td>\n",
       "      <td>train</td>\n",
       "      <td>valid</td>\n",
       "    </tr>\n",
       "    <tr>\n",
       "      <th>2</th>\n",
       "      <td>2</td>\n",
       "      <td>1.0</td>\n",
       "      <td>2013-01-02</td>\n",
       "      <td>13</td>\n",
       "      <td>test</td>\n",
       "      <td>valid</td>\n",
       "    </tr>\n",
       "    <tr>\n",
       "      <th>3</th>\n",
       "      <td>3</td>\n",
       "      <td>1.0</td>\n",
       "      <td>2013-01-02</td>\n",
       "      <td>27</td>\n",
       "      <td>train</td>\n",
       "      <td>valid</td>\n",
       "    </tr>\n",
       "  </tbody>\n",
       "</table>\n",
       "</div>"
      ],
      "text/plain": [
       "   Unnamed: 0  DataSet        Date  Area Category Validity\n",
       "0           0      1.0  2013-01-02    15     test    valid\n",
       "1           1      1.0  2013-01-02    12    train    valid\n",
       "2           2      1.0  2013-01-02    13     test    valid\n",
       "3           3      1.0  2013-01-02    27    train    valid"
      ]
     },
     "execution_count": 91,
     "metadata": {},
     "output_type": "execute_result"
    }
   ],
   "source": [
    "fromCSV"
   ]
  },
  {
   "cell_type": "markdown",
   "metadata": {},
   "source": [
    "https://pandas.pydata.org/pandas-docs/stable/reference/api/pandas.read_csv.html"
   ]
  },
  {
   "cell_type": "markdown",
   "metadata": {},
   "source": [
    "### 6. Exporting plots to a file\n",
    "\n",
    "Plots that have been generated with the package matplotlib can bedirectly exported using the function savefig(filename). The file format is provided by the extension of the file name that is given as the argument."
   ]
  },
  {
   "cell_type": "code",
   "execution_count": 92,
   "metadata": {},
   "outputs": [],
   "source": [
    "import matplotlib.pyplot as plt"
   ]
  },
  {
   "cell_type": "code",
   "execution_count": 93,
   "metadata": {},
   "outputs": [
    {
     "data": {
      "image/png": "[encoded data removed]",
      "text/plain": [
       "<Figure size 432x288 with 1 Axes>"
      ]
     },
     "metadata": {
      "needs_background": "light"
     },
     "output_type": "display_data"
    }
   ],
   "source": [
    "category=['A', 'B', 'C', 'D']\n",
    "values=[44,55,32,41]\n",
    "error=[5,8,7,9]\n",
    "plt.bar(category, values, color=['red','blue','green','orange'], width=0.8, yerr=error, capsize=3, edgecolor='black', lw=2)\n",
    "plt.title('first barplot')\n",
    "plt.xlabel('category')\n",
    "plt.ylabel('value')\n",
    "plt.savefig('barplot.png')"
   ]
  },
  {
   "cell_type": "code",
   "execution_count": 95,
   "metadata": {},
   "outputs": [
    {
     "data": {
      "image/png": "[encoded data removed]",
      "text/plain": [
       "<Figure size 432x288 with 1 Axes>"
      ]
     },
     "metadata": {
      "needs_background": "light"
     },
     "output_type": "display_data"
    }
   ],
   "source": [
    "fig1 = plt.figure()\n",
    "ax = fig1.add_axes([0.1, 0.1, 0.8, 0.8])\n",
    "\n",
    "# draw lines\n",
    "l1, = ax.plot([0.1, 0.5, 0.9], [0.1, 0.9, 0.5], \"bo-\",\n",
    "              mec=\"b\", lw=5, ms=10, label=\"Line 1\")\n",
    "l2, = ax.plot([0.1, 0.5, 0.9], [0.5, 0.2, 0.7],\n",
    "              mec=\"r\", lw=5, ms=10, color=\"r\", label=\"Line 2\")\n",
    "ax.set_xlabel('x-axis')\n",
    "ax.set_ylabel('y-axis');"
   ]
  },
  {
   "cell_type": "code",
   "execution_count": 96,
   "metadata": {},
   "outputs": [],
   "source": [
    "fig1.savefig('lines.png')"
   ]
  },
  {
   "cell_type": "code",
   "execution_count": 97,
   "metadata": {},
   "outputs": [],
   "source": [
    "fig1.savefig('lines.pdf')"
   ]
  },
  {
   "cell_type": "markdown",
   "metadata": {},
   "source": [
    "## References:\n",
    "- Input, output and string formating: https://docs.python.org/3/tutorial/inputoutput.html\n",
    "- More information on open: https://docs.python.org/3/library/functions.html#open\n",
    "- More information on json: https://docs.python.org/3/library/json.html#module-json\n",
    "- More information on <br>\n",
    "`pandas.read_csv()` https://pandas.pydata.org/pandas-docs/stable/reference/api/pandas.read_csv.html,<br>\n",
    "`pandas.DataFrame.to_csv()` https://pandas.pydata.org/pandas-docs/stable/reference/api/pandas.DataFrame.to_csv.html, <br>\n",
    "`pandas.read_excel()` https://pandas.pydata.org/pandas-docs/stable/reference/api/pandas.read_excel.html,<br>\n",
    "`pandas.DataFrame._to_excel()` https://pandas.pydata.org/pandas-docs/stable/reference/api/pandas.DataFrame.to_excel.html\n"
   ]
  },
  {
   "cell_type": "markdown",
   "metadata": {},
   "source": [
    "## Exercises"
   ]
  },
  {
   "cell_type": "markdown",
   "metadata": {},
   "source": [
    "### <p style='color: green'>easy</p>\n",
    "\n",
    "1. Generate a string and write it to a .txt file"
   ]
  },
  {
   "cell_type": "markdown",
   "metadata": {},
   "source": [
    "2. Read the string from the .txt file that you have generated in the previous exercise."
   ]
  },
  {
   "cell_type": "markdown",
   "metadata": {},
   "source": [
    "3. Prompt a user to input two numbers using the function input() and ouput the sum of the two numbers using print()."
   ]
  },
  {
   "cell_type": "markdown",
   "metadata": {},
   "source": [
    "4. For the function `pd.read_csv()`, find the right value for the parameter `index_col`, such that the variable `fromCSV` does not contain the column *Unnamed:0*. "
   ]
  },
  {
   "cell_type": "markdown",
   "metadata": {},
   "source": [
    "5. Use the values for x and y as given below- Generate a line plot and export the figure as a .png."
   ]
  },
  {
   "cell_type": "code",
   "execution_count": null,
   "metadata": {},
   "outputs": [],
   "source": [
    "import math\n",
    "xValues=[2,4,7,9,13,15]\n",
    "yValues=[math.exp(x) for x in xValues]"
   ]
  },
  {
   "cell_type": "markdown",
   "metadata": {},
   "source": [
    "6. Import the dataset \"DrugScreen1\" (DrugScreen1.csv). Before importing, check which row of the .csv file contains the header."
   ]
  },
  {
   "cell_type": "markdown",
   "metadata": {},
   "source": [
    "7. Load the text from the file AliceInWonderland.txt and count the number of words."
   ]
  },
  {
   "cell_type": "markdown",
   "metadata": {},
   "source": [
    "8. Get the number of files in the current working directory."
   ]
  },
  {
   "cell_type": "markdown",
   "metadata": {},
   "source": [
    "### <p style='color: orange'>medium</p>\n",
    "\n",
    "9. Count the number of .txt files in the current working directory."
   ]
  },
  {
   "cell_type": "markdown",
   "metadata": {},
   "source": [
    "10. Import the dataset drugScreen2 from the file DrugScreen2.csv. Check that the import worked correctly. If not, adjust the import parameters."
   ]
  },
  {
   "cell_type": "markdown",
   "metadata": {},
   "source": [
    "12. Import the dataset \"Weights\" (Weights.csv). Plot a histogram of the weights and export it as a PDF. "
   ]
  },
  {
   "cell_type": "markdown",
   "metadata": {},
   "source": [
    "### <p style='color: red'>hard</p>\n",
    "\n",
    "13. Write code for looking up translations in the dictionary `word`. A user should be prompted to input an English word. If it is one of the words in the dictionary, the German translation should be displayed on the screen. If the word is not contained in the dictionary a respective notice should be displayed on the screen."
   ]
  },
  {
   "cell_type": "code",
   "execution_count": null,
   "metadata": {},
   "outputs": [],
   "source": []
  }
 ],
 "metadata": {
  "kernelspec": {
   "display_name": "Python 3 (ipykernel)",
   "language": "python",
   "name": "python3"
  },
  "language_info": {
   "codemirror_mode": {
    "name": "ipython",
    "version": 3
   },
   "file_extension": ".py",
   "mimetype": "text/x-python",
   "name": "python",
   "nbconvert_exporter": "python",
   "pygments_lexer": "ipython3",
   "version": "3.11.5"
  }
 },
 "nbformat": 4,
 "nbformat_minor": 4
}
