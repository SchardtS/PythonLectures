{
 "cells": [
  {
   "cell_type": "markdown",
   "metadata": {},
   "source": [
    "<p style='text-align: center'><a href=https://www.biozentrum.uni-wuerzburg.de/cctb/research/supramolecular-and-cellular-simulations/>Supramolecular and Cellular Simulations</a> (Prof. Fischer)<br>Center for Computational and Theoretical Biology - CCTB<br>Faculty of Biology, University of Würzburg</p>\n",
    "\n",
    "<p style='text-align: center'><br><br>We are looking forward to your comments and suggestions. Please send them to <a href=sabine.fischer@uni.wuerzburg.de>sabine.fischer@uni.wuerzburg.de</a><br><br></p>\n",
    "\n",
    "<h1><p style='text-align: center'> Introduction to Python </p></h1>"
   ]
  },
  {
   "cell_type": "markdown",
   "metadata": {},
   "source": [
    "Video with explanations (in German): https://video.uni-wuerzburg.de/iframe/?securecode=59ccf729174846a716745539"
   ]
  },
  {
   "cell_type": "markdown",
   "metadata": {},
   "source": [
    "## Import and Export\n",
    "\n",
    "This notebook contains different possibilities for data import and export."
   ]
  },
  {
   "cell_type": "markdown",
   "metadata": {},
   "source": [
    "### 1. Reading from the keyboard and writing to the screen\n",
    "\n",
    "A user can be prompted to provide input with the function `input()` and the data can be saved in a variable. <br>\n",
    "With `print()` data can be output to the screen."
   ]
  },
  {
   "cell_type": "code",
   "execution_count": null,
   "metadata": {},
   "outputs": [],
   "source": [
    "a=input()\n",
    "a"
   ]
  },
  {
   "cell_type": "code",
   "execution_count": null,
   "metadata": {},
   "outputs": [],
   "source": [
    "print('text')"
   ]
  },
  {
   "cell_type": "code",
   "execution_count": null,
   "metadata": {},
   "outputs": [],
   "source": [
    "print(a)"
   ]
  },
  {
   "cell_type": "markdown",
   "metadata": {},
   "source": [
    "### 2. Reading and writing data from/to a file\n",
    "\n",
    "You can read data from a file or write data to a file. To do so, a file object is required."
   ]
  },
  {
   "cell_type": "markdown",
   "metadata": {},
   "source": [
    "#### 2.1 File object\n",
    "\n",
    "A Python file object provides methods and attributes to access and manipulate files. Using file objects, we can read or write any files. Whenever we open a file to perform any operations on it, Python returns a file object.<br>\n",
    "The function `open(filename,mode)` generates a file object. The first argument is a string containing the filename. The second argument is another string containing a few characters describing the way in which the file will be used. There are different options for the use mode: <br>\n",
    "\n",
    "| Character | Meaning |\n",
    "| :--- | :--- |\n",
    "| 'r' | reading (default) |\n",
    "| 'w' | writing, truncating the file first |\n",
    "| 'x' | exclusive creation, failing if the file already exists |\n",
    "| 'a' | writing, appending to the end of the file, if it exists |\n",
    "| '+' | open for updating (reading and writing) |\n",
    "| 't' | text mode (default) |\n",
    "\n",
    "After processing the file, you need to close the file object again, using `fObj.close()`.<br>\n",
    "It is good practice to use `with` instead of opening an closing the file seperately. The syntax is\n",
    "```python\n",
    "with open(filename,mode) as fObj:\n",
    "    statements\n",
    "```\n"
   ]
  },
  {
   "cell_type": "markdown",
   "metadata": {},
   "source": [
    "#### 2.1 Reading data from a file\n",
    "\n",
    "A file object comes with several methods. To read all the data from a file use `fObj.read()` or provide an argument size, that limits the number of characters read, hence `fObj.read(size)`. <br>\n",
    "For reading lines form a file, you can loop over the file object:\n",
    "```Python\n",
    "for line in fObj:\n",
    "    print(line)\n",
    "``` \n",
    "If you want to read the lines of a file in a list, use `list(fObj)` or `fObj.readlines()`."
   ]
  },
  {
   "cell_type": "code",
   "execution_count": null,
   "metadata": {},
   "outputs": [],
   "source": [
    "fDict=open('dictionary.txt','r')\n",
    "print(fDict.read())\n",
    "fDict.close()"
   ]
  },
  {
   "cell_type": "code",
   "execution_count": null,
   "metadata": {},
   "outputs": [],
   "source": [
    "fDict=open('dictionary.txt','r')\n",
    "for line in fDict:\n",
    "    print(line)\n",
    "fDict.close()    "
   ]
  },
  {
   "cell_type": "code",
   "execution_count": null,
   "metadata": {},
   "outputs": [],
   "source": [
    "fDict.closed"
   ]
  },
  {
   "cell_type": "code",
   "execution_count": null,
   "metadata": {},
   "outputs": [],
   "source": [
    "for line in fDict:\n",
    "    print(line)"
   ]
  },
  {
   "cell_type": "code",
   "execution_count": null,
   "metadata": {},
   "outputs": [],
   "source": [
    "words={}\n",
    "fObj=open('dictionary.txt','r')\n",
    "for line in fObj:\n",
    "    lineParts=line.split(\" \")\n",
    "    words[lineParts[0]] = lineParts[1]\n",
    "fObj.close()    "
   ]
  },
  {
   "cell_type": "code",
   "execution_count": null,
   "metadata": {},
   "outputs": [],
   "source": [
    "words"
   ]
  },
  {
   "cell_type": "code",
   "execution_count": null,
   "metadata": {},
   "outputs": [],
   "source": [
    "with open('dictionary.txt','r') as fObj:\n",
    "    for line in fObj:\n",
    "        print(line)"
   ]
  },
  {
   "cell_type": "code",
   "execution_count": null,
   "metadata": {},
   "outputs": [],
   "source": [
    "fObj.closed"
   ]
  },
  {
   "cell_type": "code",
   "execution_count": null,
   "metadata": {},
   "outputs": [],
   "source": [
    "with open('dictionary.txt','r') as fDict:\n",
    "    content=fDict.readlines()"
   ]
  },
  {
   "cell_type": "code",
   "execution_count": null,
   "metadata": {},
   "outputs": [],
   "source": [
    "print(content)"
   ]
  },
  {
   "cell_type": "markdown",
   "metadata": {},
   "source": [
    "#### 2.2 Writing data to a file\n",
    "\n",
    "The method `fObj.write(string)` writes the content of string to the file with the corresponding file object fObj and returns the number of characters written."
   ]
  },
  {
   "cell_type": "code",
   "execution_count": null,
   "metadata": {},
   "outputs": [],
   "source": [
    "with open('file.txt','w') as fObj:\n",
    "    fObj.write(\"This is a text\")"
   ]
  },
  {
   "cell_type": "code",
   "execution_count": null,
   "metadata": {},
   "outputs": [],
   "source": [
    "nucleiData={'centroid': [110,112,240],'volume': 250,'cellType': 'stem_cell'}"
   ]
  },
  {
   "cell_type": "code",
   "execution_count": null,
   "metadata": {},
   "outputs": [],
   "source": [
    "with open('results.txt','w') as fObj:\n",
    "    for entry in nucleiData:\n",
    "        fObj.write(\"{} {}\\n\".format(entry,nucleiData[entry]))"
   ]
  },
  {
   "cell_type": "markdown",
   "metadata": {},
   "source": [
    "### 3. Listing directory content\n",
    "\n",
    "When working with larger datastes, it is often necessary to import multiple files. Hence, listing the content of a directory becomes relevant. The module `os` provides the necessary functionality.<br>\n",
    "Useful functions are os.getcwd() to get a string representing the current working directory and os.listdir(path='.') to get a list of the directories content. The argument path is optional."
   ]
  },
  {
   "cell_type": "code",
   "execution_count": null,
   "metadata": {},
   "outputs": [],
   "source": [
    "import os"
   ]
  },
  {
   "cell_type": "code",
   "execution_count": null,
   "metadata": {},
   "outputs": [],
   "source": [
    "os.getcwd()"
   ]
  },
  {
   "cell_type": "code",
   "execution_count": null,
   "metadata": {},
   "outputs": [],
   "source": [
    "currentPath=os.getcwd()"
   ]
  },
  {
   "cell_type": "code",
   "execution_count": null,
   "metadata": {},
   "outputs": [],
   "source": [
    "os.listdir(path=currentPath)"
   ]
  },
  {
   "cell_type": "code",
   "execution_count": null,
   "metadata": {},
   "outputs": [],
   "source": [
    "os.listdir()"
   ]
  },
  {
   "cell_type": "markdown",
   "metadata": {},
   "source": [
    "https://docs.python.org/3/library/os.html#os-file-dir"
   ]
  },
  {
   "cell_type": "markdown",
   "metadata": {},
   "source": [
    "### 4. json (JavaScript Object Notation)\n",
    "\n",
    "The JSON format provides an easy way to save more complex data types like nested lists and dictionaries. The data hierarchies are converted to string representations for export (serializing) and reconstructed from the string representation for input (deserializing).  <br>\n",
    "It is commonly used in modern applications and therefore a good choice for interoperability."
   ]
  },
  {
   "cell_type": "code",
   "execution_count": null,
   "metadata": {},
   "outputs": [],
   "source": [
    "import json"
   ]
  },
  {
   "cell_type": "markdown",
   "metadata": {},
   "source": [
    "**Serializing**"
   ]
  },
  {
   "cell_type": "code",
   "execution_count": null,
   "metadata": {},
   "outputs": [],
   "source": [
    "words"
   ]
  },
  {
   "cell_type": "code",
   "execution_count": null,
   "metadata": {},
   "outputs": [],
   "source": [
    "json.dumps(words)"
   ]
  },
  {
   "cell_type": "code",
   "execution_count": null,
   "metadata": {},
   "outputs": [],
   "source": [
    "with open('dictionary_json.txt','w') as file:\n",
    "    json.dump(words,file)"
   ]
  },
  {
   "cell_type": "markdown",
   "metadata": {},
   "source": [
    "**Deserialiszing**"
   ]
  },
  {
   "cell_type": "code",
   "execution_count": null,
   "metadata": {},
   "outputs": [],
   "source": [
    "with open('dictionary_json.txt','r') as fileObj:\n",
    "    x=json.load(fileObj)"
   ]
  },
  {
   "cell_type": "code",
   "execution_count": null,
   "metadata": {},
   "outputs": [],
   "source": [
    "x"
   ]
  },
  {
   "cell_type": "markdown",
   "metadata": {},
   "source": [
    "### 5. Pandas\n",
    "\n",
    "The module pandas is particularly useful for data analysis. As part of its functionality, it offers an easy way of importing data from .csv files and exporting data frames to .csv files."
   ]
  },
  {
   "cell_type": "code",
   "execution_count": null,
   "metadata": {},
   "outputs": [],
   "source": [
    "import pandas as pd"
   ]
  },
  {
   "cell_type": "code",
   "execution_count": null,
   "metadata": {},
   "outputs": [],
   "source": [
    " df = pd.DataFrame({'DataSet': 1.,\n",
    "                    'Date': pd.Timestamp('20130102'),\n",
    "                    'Area': [15,12,13,27],\n",
    "                    'Category': [\"test\", \"train\", \"test\", \"train\"],\n",
    "                    'Validity': 'valid'})"
   ]
  },
  {
   "cell_type": "code",
   "execution_count": null,
   "metadata": {},
   "outputs": [],
   "source": [
    "df"
   ]
  },
  {
   "cell_type": "markdown",
   "metadata": {},
   "source": [
    "Writing to a .csv file"
   ]
  },
  {
   "cell_type": "code",
   "execution_count": null,
   "metadata": {},
   "outputs": [],
   "source": [
    "df.to_csv('dataFrame.csv')"
   ]
  },
  {
   "cell_type": "markdown",
   "metadata": {},
   "source": [
    "Reading from a .csv"
   ]
  },
  {
   "cell_type": "code",
   "execution_count": null,
   "metadata": {},
   "outputs": [],
   "source": [
    "fromCSV=pd.read_csv('dataFrame.csv')"
   ]
  },
  {
   "cell_type": "code",
   "execution_count": null,
   "metadata": {},
   "outputs": [],
   "source": [
    "fromCSV"
   ]
  },
  {
   "cell_type": "markdown",
   "metadata": {},
   "source": [
    "https://pandas.pydata.org/pandas-docs/stable/reference/api/pandas.read_csv.html"
   ]
  },
  {
   "cell_type": "markdown",
   "metadata": {},
   "source": [
    "### 6. Exporting plots to a file\n",
    "\n",
    "Plots that have been generated with the package matplotlib can bedirectly exported using the function savefig(filename). The file format is provided by the extension of the file name that is given as the argument."
   ]
  },
  {
   "cell_type": "code",
   "execution_count": null,
   "metadata": {},
   "outputs": [],
   "source": [
    "import matplotlib.pyplot as plt"
   ]
  },
  {
   "cell_type": "code",
   "execution_count": null,
   "metadata": {},
   "outputs": [],
   "source": [
    "category=['A', 'B', 'C', 'D']\n",
    "values=[44,55,32,41]\n",
    "error=[5,8,7,9]\n",
    "plt.bar(category, values, color=['red','blue','green','orange'], width=0.8, yerr=error, capsize=3, edgecolor='black', lw=2)\n",
    "plt.title('first barplot')\n",
    "plt.xlabel('category')\n",
    "plt.ylabel('value')\n",
    "plt.savefig('barplot.png')"
   ]
  },
  {
   "cell_type": "code",
   "execution_count": null,
   "metadata": {},
   "outputs": [],
   "source": [
    "fig1 = plt.figure()\n",
    "ax = fig1.add_axes([0.1, 0.1, 0.8, 0.8])\n",
    "\n",
    "# draw lines\n",
    "l1, = ax.plot([0.1, 0.5, 0.9], [0.1, 0.9, 0.5], \"bo-\",\n",
    "              mec=\"b\", lw=5, ms=10, label=\"Line 1\")\n",
    "l2, = ax.plot([0.1, 0.5, 0.9], [0.5, 0.2, 0.7], \"rs-\",\n",
    "              mec=\"r\", lw=5, ms=10, color=\"r\", label=\"Line 2\")\n",
    "ax.set_xlabel('x-axis')\n",
    "ax.set_ylabel('y-axis');"
   ]
  },
  {
   "cell_type": "code",
   "execution_count": null,
   "metadata": {},
   "outputs": [],
   "source": [
    "fig1.savefig('lines.png')"
   ]
  },
  {
   "cell_type": "code",
   "execution_count": null,
   "metadata": {},
   "outputs": [],
   "source": [
    "fig1.savefig('lines.pdf')"
   ]
  },
  {
   "cell_type": "markdown",
   "metadata": {},
   "source": [
    "## References:\n",
    "- Input, output and string formating: https://docs.python.org/3/tutorial/inputoutput.html\n",
    "- More information on open: https://docs.python.org/3/library/functions.html#open\n",
    "- More information on json: https://docs.python.org/3/library/json.html#module-json\n",
    "- More information on <br>\n",
    "`pandas.read_csv()` https://pandas.pydata.org/pandas-docs/stable/reference/api/pandas.read_csv.html,<br>\n",
    "`pandas.DataFrame.to_csv()` https://pandas.pydata.org/pandas-docs/stable/reference/api/pandas.DataFrame.to_csv.html, <br>\n",
    "`pandas.read_excel()` https://pandas.pydata.org/pandas-docs/stable/reference/api/pandas.read_excel.html,<br>\n",
    "`pandas.DataFrame._to_excel()` https://pandas.pydata.org/pandas-docs/stable/reference/api/pandas.DataFrame.to_excel.html\n"
   ]
  },
  {
   "cell_type": "markdown",
   "metadata": {},
   "source": [
    "## Exercises"
   ]
  },
  {
   "cell_type": "markdown",
   "metadata": {},
   "source": [
    "### <p style='color: green'>easy</p>\n",
    "\n",
    "1. Generate a string and write it to a .txt file"
   ]
  },
  {
   "cell_type": "code",
   "execution_count": 3,
   "metadata": {},
   "outputs": [],
   "source": [
    "ex1=\"Ich bin der Text.\""
   ]
  },
  {
   "cell_type": "code",
   "execution_count": 4,
   "metadata": {},
   "outputs": [],
   "source": [
    "with open('ex1_output.txt','w') as fObj:\n",
    "    fObj.write(ex1)"
   ]
  },
  {
   "cell_type": "markdown",
   "metadata": {},
   "source": [
    "2. Read the string from the .txt file that you have generated in the previous exercise."
   ]
  },
  {
   "cell_type": "code",
   "execution_count": 5,
   "metadata": {},
   "outputs": [
    {
     "name": "stdout",
     "output_type": "stream",
     "text": [
      "Ich bin der Text.\n"
     ]
    }
   ],
   "source": [
    "with open('ex1_output.txt','r') as fObj:\n",
    "    print(fObj.read())"
   ]
  },
  {
   "cell_type": "markdown",
   "metadata": {},
   "source": [
    "3. Prompt a user to input two numbers using the function input() and ouput the sum of the two numbers using print()."
   ]
  },
  {
   "cell_type": "code",
   "execution_count": 7,
   "metadata": {},
   "outputs": [
    {
     "name": "stdout",
     "output_type": "stream",
     "text": [
      "Please provide the first number13\n"
     ]
    }
   ],
   "source": [
    "a=input(\"Please provide the first number\")"
   ]
  },
  {
   "cell_type": "code",
   "execution_count": 8,
   "metadata": {},
   "outputs": [
    {
     "name": "stdout",
     "output_type": "stream",
     "text": [
      "Please provide the second number10\n"
     ]
    }
   ],
   "source": [
    "b=input(\"Please provide the second number\")"
   ]
  },
  {
   "cell_type": "code",
   "execution_count": 12,
   "metadata": {},
   "outputs": [
    {
     "name": "stdout",
     "output_type": "stream",
     "text": [
      "This is the sum of your numbers: 23.0\n"
     ]
    }
   ],
   "source": [
    "print(\"This is the sum of your numbers: {}\".format(float(a)+float(b)))"
   ]
  },
  {
   "cell_type": "markdown",
   "metadata": {},
   "source": [
    "4. For the function `pd.read_csv()`, find the right value for the parameter `index_col`, such that the variable `fromCSV` does not contain the column *Unnamed:0*. "
   ]
  },
  {
   "cell_type": "code",
   "execution_count": 119,
   "metadata": {},
   "outputs": [
    {
     "data": {
      "text/plain": [
       "5"
      ]
     },
     "execution_count": 119,
     "metadata": {},
     "output_type": "execute_result"
    }
   ],
   "source": [
    "int('5')"
   ]
  },
  {
   "cell_type": "code",
   "execution_count": null,
   "metadata": {},
   "outputs": [],
   "source": []
  },
  {
   "cell_type": "code",
   "execution_count": 14,
   "metadata": {},
   "outputs": [],
   "source": [
    "import pandas as pd"
   ]
  },
  {
   "cell_type": "code",
   "execution_count": 18,
   "metadata": {},
   "outputs": [],
   "source": [
    "fromCSVRaw=pd.read_csv('dataFrame.csv')"
   ]
  },
  {
   "cell_type": "code",
   "execution_count": 19,
   "metadata": {},
   "outputs": [
    {
     "data": {
      "text/html": [
       "<div>\n",
       "<style scoped>\n",
       "    .dataframe tbody tr th:only-of-type {\n",
       "        vertical-align: middle;\n",
       "    }\n",
       "\n",
       "    .dataframe tbody tr th {\n",
       "        vertical-align: top;\n",
       "    }\n",
       "\n",
       "    .dataframe thead th {\n",
       "        text-align: right;\n",
       "    }\n",
       "</style>\n",
       "<table border=\"1\" class=\"dataframe\">\n",
       "  <thead>\n",
       "    <tr style=\"text-align: right;\">\n",
       "      <th></th>\n",
       "      <th>Unnamed: 0</th>\n",
       "      <th>DataSet</th>\n",
       "      <th>Date</th>\n",
       "      <th>Area</th>\n",
       "      <th>Category</th>\n",
       "      <th>Validity</th>\n",
       "    </tr>\n",
       "  </thead>\n",
       "  <tbody>\n",
       "    <tr>\n",
       "      <th>0</th>\n",
       "      <td>0</td>\n",
       "      <td>1.0</td>\n",
       "      <td>2013-01-02</td>\n",
       "      <td>15</td>\n",
       "      <td>test</td>\n",
       "      <td>valid</td>\n",
       "    </tr>\n",
       "    <tr>\n",
       "      <th>1</th>\n",
       "      <td>1</td>\n",
       "      <td>1.0</td>\n",
       "      <td>2013-01-02</td>\n",
       "      <td>12</td>\n",
       "      <td>train</td>\n",
       "      <td>valid</td>\n",
       "    </tr>\n",
       "    <tr>\n",
       "      <th>2</th>\n",
       "      <td>2</td>\n",
       "      <td>1.0</td>\n",
       "      <td>2013-01-02</td>\n",
       "      <td>13</td>\n",
       "      <td>test</td>\n",
       "      <td>valid</td>\n",
       "    </tr>\n",
       "    <tr>\n",
       "      <th>3</th>\n",
       "      <td>3</td>\n",
       "      <td>1.0</td>\n",
       "      <td>2013-01-02</td>\n",
       "      <td>27</td>\n",
       "      <td>train</td>\n",
       "      <td>valid</td>\n",
       "    </tr>\n",
       "  </tbody>\n",
       "</table>\n",
       "</div>"
      ],
      "text/plain": [
       "   Unnamed: 0  DataSet        Date  Area Category Validity\n",
       "0           0      1.0  2013-01-02    15     test    valid\n",
       "1           1      1.0  2013-01-02    12    train    valid\n",
       "2           2      1.0  2013-01-02    13     test    valid\n",
       "3           3      1.0  2013-01-02    27    train    valid"
      ]
     },
     "execution_count": 19,
     "metadata": {},
     "output_type": "execute_result"
    }
   ],
   "source": [
    "fromCSVRaw.head()"
   ]
  },
  {
   "cell_type": "code",
   "execution_count": 25,
   "metadata": {},
   "outputs": [],
   "source": [
    "fromCSV=pd.read_csv('dataFrame.csv',index_col=0)"
   ]
  },
  {
   "cell_type": "code",
   "execution_count": 26,
   "metadata": {},
   "outputs": [
    {
     "data": {
      "text/html": [
       "<div>\n",
       "<style scoped>\n",
       "    .dataframe tbody tr th:only-of-type {\n",
       "        vertical-align: middle;\n",
       "    }\n",
       "\n",
       "    .dataframe tbody tr th {\n",
       "        vertical-align: top;\n",
       "    }\n",
       "\n",
       "    .dataframe thead th {\n",
       "        text-align: right;\n",
       "    }\n",
       "</style>\n",
       "<table border=\"1\" class=\"dataframe\">\n",
       "  <thead>\n",
       "    <tr style=\"text-align: right;\">\n",
       "      <th></th>\n",
       "      <th>DataSet</th>\n",
       "      <th>Date</th>\n",
       "      <th>Area</th>\n",
       "      <th>Category</th>\n",
       "      <th>Validity</th>\n",
       "    </tr>\n",
       "  </thead>\n",
       "  <tbody>\n",
       "    <tr>\n",
       "      <th>0</th>\n",
       "      <td>1.0</td>\n",
       "      <td>2013-01-02</td>\n",
       "      <td>15</td>\n",
       "      <td>test</td>\n",
       "      <td>valid</td>\n",
       "    </tr>\n",
       "    <tr>\n",
       "      <th>1</th>\n",
       "      <td>1.0</td>\n",
       "      <td>2013-01-02</td>\n",
       "      <td>12</td>\n",
       "      <td>train</td>\n",
       "      <td>valid</td>\n",
       "    </tr>\n",
       "    <tr>\n",
       "      <th>2</th>\n",
       "      <td>1.0</td>\n",
       "      <td>2013-01-02</td>\n",
       "      <td>13</td>\n",
       "      <td>test</td>\n",
       "      <td>valid</td>\n",
       "    </tr>\n",
       "    <tr>\n",
       "      <th>3</th>\n",
       "      <td>1.0</td>\n",
       "      <td>2013-01-02</td>\n",
       "      <td>27</td>\n",
       "      <td>train</td>\n",
       "      <td>valid</td>\n",
       "    </tr>\n",
       "  </tbody>\n",
       "</table>\n",
       "</div>"
      ],
      "text/plain": [
       "   DataSet        Date  Area Category Validity\n",
       "0      1.0  2013-01-02    15     test    valid\n",
       "1      1.0  2013-01-02    12    train    valid\n",
       "2      1.0  2013-01-02    13     test    valid\n",
       "3      1.0  2013-01-02    27    train    valid"
      ]
     },
     "execution_count": 26,
     "metadata": {},
     "output_type": "execute_result"
    }
   ],
   "source": [
    "fromCSV.head()"
   ]
  },
  {
   "cell_type": "markdown",
   "metadata": {},
   "source": [
    "5. Use the values for x and y as given below- Generate a line plot and export the figure as a .png."
   ]
  },
  {
   "cell_type": "code",
   "execution_count": 27,
   "metadata": {},
   "outputs": [],
   "source": [
    "import math\n",
    "xValues=[2,4,7,9,13,15]\n",
    "yValues=[math.exp(x) for x in xValues]"
   ]
  },
  {
   "cell_type": "code",
   "execution_count": 28,
   "metadata": {},
   "outputs": [],
   "source": [
    "import matplotlib.pyplot as plt"
   ]
  },
  {
   "cell_type": "code",
   "execution_count": 33,
   "metadata": {},
   "outputs": [
    {
     "data": {
      "image/png": "[encoded data removed]",
      "text/plain": [
       "<Figure size 432x288 with 1 Axes>"
      ]
     },
     "metadata": {
      "needs_background": "light"
     },
     "output_type": "display_data"
    }
   ],
   "source": [
    "plt.plot(xValues,yValues)\n",
    "plt.title('Exponential growth')\n",
    "plt.xlabel('x value')\n",
    "plt.ylabel('Exp(x)')\n",
    "plt.savefig('expGrowth.png')"
   ]
  },
  {
   "cell_type": "markdown",
   "metadata": {},
   "source": [
    "6. Import the dataset \"DrugScreen1\" (DrugScreen1.csv). Before importing, check which row of the .csv file contains the header."
   ]
  },
  {
   "cell_type": "code",
   "execution_count": 34,
   "metadata": {},
   "outputs": [],
   "source": [
    "drugs1=pd.read_csv(\"DrugScreen1.csv\",header=2)"
   ]
  },
  {
   "cell_type": "code",
   "execution_count": 35,
   "metadata": {},
   "outputs": [
    {
     "data": {
      "text/html": [
       "<div>\n",
       "<style scoped>\n",
       "    .dataframe tbody tr th:only-of-type {\n",
       "        vertical-align: middle;\n",
       "    }\n",
       "\n",
       "    .dataframe tbody tr th {\n",
       "        vertical-align: top;\n",
       "    }\n",
       "\n",
       "    .dataframe thead th {\n",
       "        text-align: right;\n",
       "    }\n",
       "</style>\n",
       "<table border=\"1\" class=\"dataframe\">\n",
       "  <thead>\n",
       "    <tr style=\"text-align: right;\">\n",
       "      <th></th>\n",
       "      <th>ObjectID</th>\n",
       "      <th>Label</th>\n",
       "      <th>Centroid</th>\n",
       "      <th>MeanIntensity</th>\n",
       "      <th>StandardDeviationIntensity</th>\n",
       "      <th>MaxIntensity</th>\n",
       "      <th>MinIntensity</th>\n",
       "      <th>TotalIntensity</th>\n",
       "      <th>Area</th>\n",
       "      <th>Count</th>\n",
       "      <th>EquivalentDiskRadius</th>\n",
       "      <th>Elongation</th>\n",
       "      <th>Eccentricity</th>\n",
       "      <th>Circularity</th>\n",
       "      <th>BoundingBox</th>\n",
       "    </tr>\n",
       "  </thead>\n",
       "  <tbody>\n",
       "    <tr>\n",
       "      <th>0</th>\n",
       "      <td>5</td>\n",
       "      <td>5</td>\n",
       "      <td>{448.72869022869025. 497.8035343035343}</td>\n",
       "      <td>0.015626</td>\n",
       "      <td>0.000932</td>\n",
       "      <td>0.017960</td>\n",
       "      <td>0.013336</td>\n",
       "      <td>7.516197</td>\n",
       "      <td>484.625</td>\n",
       "      <td>481</td>\n",
       "      <td>12.373644</td>\n",
       "      <td>0.106691</td>\n",
       "      <td>0.449443</td>\n",
       "      <td>0.936560</td>\n",
       "      <td>{{435.. 485.}. {463.. 509.}}</td>\n",
       "    </tr>\n",
       "    <tr>\n",
       "      <th>1</th>\n",
       "      <td>6</td>\n",
       "      <td>6</td>\n",
       "      <td>{583.3871165644172. 490.18957055214725}</td>\n",
       "      <td>0.011809</td>\n",
       "      <td>0.000431</td>\n",
       "      <td>0.012955</td>\n",
       "      <td>0.010651</td>\n",
       "      <td>9.624552</td>\n",
       "      <td>819.375</td>\n",
       "      <td>815</td>\n",
       "      <td>16.106600</td>\n",
       "      <td>0.101290</td>\n",
       "      <td>0.438544</td>\n",
       "      <td>0.941424</td>\n",
       "      <td>{{566.. 474.}. {600.. 506.}}</td>\n",
       "    </tr>\n",
       "    <tr>\n",
       "      <th>2</th>\n",
       "      <td>7</td>\n",
       "      <td>7</td>\n",
       "      <td>{186.3943661971831. 478.2588028169014}</td>\n",
       "      <td>0.014047</td>\n",
       "      <td>0.000528</td>\n",
       "      <td>0.016129</td>\n",
       "      <td>0.012543</td>\n",
       "      <td>7.978439</td>\n",
       "      <td>571.750</td>\n",
       "      <td>568</td>\n",
       "      <td>13.446190</td>\n",
       "      <td>0.111789</td>\n",
       "      <td>0.459435</td>\n",
       "      <td>0.977536</td>\n",
       "      <td>{{174.. 464.}. {200.. 492.}}</td>\n",
       "    </tr>\n",
       "    <tr>\n",
       "      <th>3</th>\n",
       "      <td>8</td>\n",
       "      <td>8</td>\n",
       "      <td>{267.6122047244094. 475.48228346456693}</td>\n",
       "      <td>0.014450</td>\n",
       "      <td>0.000837</td>\n",
       "      <td>0.016831</td>\n",
       "      <td>0.012512</td>\n",
       "      <td>7.340719</td>\n",
       "      <td>512.250</td>\n",
       "      <td>508</td>\n",
       "      <td>12.716187</td>\n",
       "      <td>0.544601</td>\n",
       "      <td>0.890287</td>\n",
       "      <td>0.798317</td>\n",
       "      <td>{{248.. 459.}. {282.. 487.}}</td>\n",
       "    </tr>\n",
       "    <tr>\n",
       "      <th>4</th>\n",
       "      <td>9</td>\n",
       "      <td>9</td>\n",
       "      <td>{535.6371841155235. 472.5667870036101}</td>\n",
       "      <td>0.011999</td>\n",
       "      <td>0.000431</td>\n",
       "      <td>0.013062</td>\n",
       "      <td>0.010849</td>\n",
       "      <td>6.647578</td>\n",
       "      <td>556.875</td>\n",
       "      <td>554</td>\n",
       "      <td>13.279446</td>\n",
       "      <td>0.283091</td>\n",
       "      <td>0.697166</td>\n",
       "      <td>0.921684</td>\n",
       "      <td>{{524.. 457.}. {547.. 488.}}</td>\n",
       "    </tr>\n",
       "  </tbody>\n",
       "</table>\n",
       "</div>"
      ],
      "text/plain": [
       "   ObjectID  Label                                 Centroid  MeanIntensity  \\\n",
       "0         5      5  {448.72869022869025. 497.8035343035343}       0.015626   \n",
       "1         6      6  {583.3871165644172. 490.18957055214725}       0.011809   \n",
       "2         7      7   {186.3943661971831. 478.2588028169014}       0.014047   \n",
       "3         8      8  {267.6122047244094. 475.48228346456693}       0.014450   \n",
       "4         9      9   {535.6371841155235. 472.5667870036101}       0.011999   \n",
       "\n",
       "   StandardDeviationIntensity  MaxIntensity  MinIntensity  TotalIntensity  \\\n",
       "0                    0.000932      0.017960      0.013336        7.516197   \n",
       "1                    0.000431      0.012955      0.010651        9.624552   \n",
       "2                    0.000528      0.016129      0.012543        7.978439   \n",
       "3                    0.000837      0.016831      0.012512        7.340719   \n",
       "4                    0.000431      0.013062      0.010849        6.647578   \n",
       "\n",
       "      Area  Count  EquivalentDiskRadius  Elongation  Eccentricity  \\\n",
       "0  484.625    481             12.373644    0.106691      0.449443   \n",
       "1  819.375    815             16.106600    0.101290      0.438544   \n",
       "2  571.750    568             13.446190    0.111789      0.459435   \n",
       "3  512.250    508             12.716187    0.544601      0.890287   \n",
       "4  556.875    554             13.279446    0.283091      0.697166   \n",
       "\n",
       "   Circularity                   BoundingBox  \n",
       "0     0.936560  {{435.. 485.}. {463.. 509.}}  \n",
       "1     0.941424  {{566.. 474.}. {600.. 506.}}  \n",
       "2     0.977536  {{174.. 464.}. {200.. 492.}}  \n",
       "3     0.798317  {{248.. 459.}. {282.. 487.}}  \n",
       "4     0.921684  {{524.. 457.}. {547.. 488.}}  "
      ]
     },
     "execution_count": 35,
     "metadata": {},
     "output_type": "execute_result"
    }
   ],
   "source": [
    "drugs1.head()"
   ]
  },
  {
   "cell_type": "markdown",
   "metadata": {},
   "source": [
    "7. Load the text from the file AliceInWonderland.txt and count the number of words."
   ]
  },
  {
   "cell_type": "code",
   "execution_count": 47,
   "metadata": {},
   "outputs": [
    {
     "data": {
      "text/plain": [
       "9646"
      ]
     },
     "execution_count": 47,
     "metadata": {},
     "output_type": "execute_result"
    }
   ],
   "source": [
    "with open('AliceInWonderland.txt','r') as fObj:\n",
    "    for line in fObj:\n",
    "        words=line.split(\" \")\n",
    "len(words)  "
   ]
  },
  {
   "cell_type": "code",
   "execution_count": 48,
   "metadata": {},
   "outputs": [
    {
     "data": {
      "text/plain": [
       "['I--DOWN',\n",
       " 'THE',\n",
       " 'RABBIT-HOLE',\n",
       " 'Alice',\n",
       " 'was',\n",
       " 'beginning',\n",
       " 'to',\n",
       " 'get',\n",
       " 'very',\n",
       " 'tired']"
      ]
     },
     "execution_count": 48,
     "metadata": {},
     "output_type": "execute_result"
    }
   ],
   "source": [
    "words[0:10]"
   ]
  },
  {
   "cell_type": "markdown",
   "metadata": {},
   "source": [
    "8. Get the number of files in the current working directory."
   ]
  },
  {
   "cell_type": "code",
   "execution_count": 49,
   "metadata": {},
   "outputs": [],
   "source": [
    "import os"
   ]
  },
  {
   "cell_type": "code",
   "execution_count": 51,
   "metadata": {},
   "outputs": [
    {
     "data": {
      "text/plain": [
       "'C:\\\\Users\\\\saf75nu\\\\Documents\\\\Lehre\\\\github_Teaching\\\\Teaching\\\\Python\\\\Part_7_Import_Export'"
      ]
     },
     "execution_count": 51,
     "metadata": {},
     "output_type": "execute_result"
    }
   ],
   "source": [
    "os.getcwd()"
   ]
  },
  {
   "cell_type": "code",
   "execution_count": 53,
   "metadata": {},
   "outputs": [],
   "source": [
    "files=os.listdir()"
   ]
  },
  {
   "cell_type": "code",
   "execution_count": 54,
   "metadata": {},
   "outputs": [
    {
     "data": {
      "text/plain": [
       "19"
      ]
     },
     "execution_count": 54,
     "metadata": {},
     "output_type": "execute_result"
    }
   ],
   "source": [
    "len(files)"
   ]
  },
  {
   "cell_type": "markdown",
   "metadata": {},
   "source": [
    "### <p style='color: orange'>medium</p>\n",
    "\n",
    "9. Count the number of .txt files in the current working directory."
   ]
  },
  {
   "cell_type": "code",
   "execution_count": 63,
   "metadata": {},
   "outputs": [],
   "source": [
    "fileNames=os.listdir()"
   ]
  },
  {
   "cell_type": "code",
   "execution_count": 64,
   "metadata": {},
   "outputs": [
    {
     "data": {
      "text/plain": [
       "['.ipynb_checkpoints',\n",
       " 'AliceInWonderland.txt',\n",
       " 'barplot.pdf',\n",
       " 'barplot.png',\n",
       " 'dataFrame.csv',\n",
       " 'dictionary.txt',\n",
       " 'dictionary_json.txt',\n",
       " 'DrugScreen1.csv',\n",
       " 'DrugScreen2.csv',\n",
       " 'ex1_output.txt',\n",
       " 'expGrowth.png',\n",
       " 'file.txt',\n",
       " 'lengthMeasure.csv',\n",
       " 'lines.pdf',\n",
       " 'lines.png',\n",
       " 'Python3_Import_Export_with_solutions.ipynb',\n",
       " 'results.txt',\n",
       " 'test.txt',\n",
       " 'Weights.csv']"
      ]
     },
     "execution_count": 64,
     "metadata": {},
     "output_type": "execute_result"
    }
   ],
   "source": [
    "fileNames"
   ]
  },
  {
   "cell_type": "code",
   "execution_count": 66,
   "metadata": {},
   "outputs": [],
   "source": [
    "fileCounter = 0\n",
    "for name in fileNames:\n",
    "    if \".txt\" in name:\n",
    "        fileCounter+=1"
   ]
  },
  {
   "cell_type": "code",
   "execution_count": 67,
   "metadata": {},
   "outputs": [
    {
     "data": {
      "text/plain": [
       "7"
      ]
     },
     "execution_count": 67,
     "metadata": {},
     "output_type": "execute_result"
    }
   ],
   "source": [
    "fileCounter"
   ]
  },
  {
   "cell_type": "code",
   "execution_count": 68,
   "metadata": {},
   "outputs": [],
   "source": [
    "textFiles=[name for name in fileNames if \".txt\" in name]"
   ]
  },
  {
   "cell_type": "code",
   "execution_count": 69,
   "metadata": {},
   "outputs": [
    {
     "data": {
      "text/plain": [
       "['AliceInWonderland.txt',\n",
       " 'dictionary.txt',\n",
       " 'dictionary_json.txt',\n",
       " 'ex1_output.txt',\n",
       " 'file.txt',\n",
       " 'results.txt',\n",
       " 'test.txt']"
      ]
     },
     "execution_count": 69,
     "metadata": {},
     "output_type": "execute_result"
    }
   ],
   "source": [
    "textFiles"
   ]
  },
  {
   "cell_type": "code",
   "execution_count": 70,
   "metadata": {},
   "outputs": [
    {
     "data": {
      "text/plain": [
       "7"
      ]
     },
     "execution_count": 70,
     "metadata": {},
     "output_type": "execute_result"
    }
   ],
   "source": [
    "len(textFiles)"
   ]
  },
  {
   "cell_type": "code",
   "execution_count": 58,
   "metadata": {},
   "outputs": [],
   "source": [
    "fileCounter = 0\n",
    "for root, dirs, files in os.walk(os.getcwd()):\n",
    "    for file in files:    \n",
    "        if file.endswith('.txt'):\n",
    "            fileCounter += 1"
   ]
  },
  {
   "cell_type": "code",
   "execution_count": 61,
   "metadata": {},
   "outputs": [
    {
     "data": {
      "text/plain": [
       "7"
      ]
     },
     "execution_count": 61,
     "metadata": {},
     "output_type": "execute_result"
    }
   ],
   "source": [
    "fileCounter"
   ]
  },
  {
   "cell_type": "markdown",
   "metadata": {},
   "source": [
    "10. Import the dataset drugScreen2 from the file DrugScreen2.csv. Check that the import worked correctly. If not, adjust the import parameters."
   ]
  },
  {
   "cell_type": "code",
   "execution_count": 73,
   "metadata": {},
   "outputs": [
    {
     "data": {
      "text/html": [
       "<div>\n",
       "<style scoped>\n",
       "    .dataframe tbody tr th:only-of-type {\n",
       "        vertical-align: middle;\n",
       "    }\n",
       "\n",
       "    .dataframe tbody tr th {\n",
       "        vertical-align: top;\n",
       "    }\n",
       "\n",
       "    .dataframe thead th {\n",
       "        text-align: right;\n",
       "    }\n",
       "</style>\n",
       "<table border=\"1\" class=\"dataframe\">\n",
       "  <thead>\n",
       "    <tr style=\"text-align: right;\">\n",
       "      <th></th>\n",
       "      <th>ObjectID</th>\n",
       "      <th>Label</th>\n",
       "      <th>Centroid</th>\n",
       "      <th>MeanIntensity</th>\n",
       "      <th>StandardDeviationIntensity</th>\n",
       "      <th>MaxIntensity</th>\n",
       "      <th>MinIntensity</th>\n",
       "      <th>TotalIntensity</th>\n",
       "      <th>Area</th>\n",
       "      <th>Count</th>\n",
       "      <th>EquivalentDiskRadius</th>\n",
       "      <th>Elongation</th>\n",
       "      <th>Eccentricity</th>\n",
       "      <th>Circularity</th>\n",
       "      <th>BoundingBox</th>\n",
       "    </tr>\n",
       "  </thead>\n",
       "  <tbody>\n",
       "    <tr>\n",
       "      <th>0</th>\n",
       "      <td>7</td>\n",
       "      <td>7</td>\n",
       "      <td>{459.99136276391556. 492.37619961612285}</td>\n",
       "      <td>0.019748</td>\n",
       "      <td>0.000691</td>\n",
       "      <td>0.021851</td>\n",
       "      <td>0.017304</td>\n",
       "      <td>20.577523</td>\n",
       "      <td>1047.250</td>\n",
       "      <td>1042</td>\n",
       "      <td>18.212054</td>\n",
       "      <td>0.231355</td>\n",
       "      <td>0.639675</td>\n",
       "      <td>0.942608</td>\n",
       "      <td>{{443.. 473.}. {480.. 511.}}</td>\n",
       "    </tr>\n",
       "    <tr>\n",
       "      <th>1</th>\n",
       "      <td>8</td>\n",
       "      <td>8</td>\n",
       "      <td>{582.0196540880503. 488.8545597484277}</td>\n",
       "      <td>0.016742</td>\n",
       "      <td>0.000408</td>\n",
       "      <td>0.017960</td>\n",
       "      <td>0.015488</td>\n",
       "      <td>21.295979</td>\n",
       "      <td>1277.750</td>\n",
       "      <td>1272</td>\n",
       "      <td>20.121883</td>\n",
       "      <td>0.176285</td>\n",
       "      <td>0.567004</td>\n",
       "      <td>0.950213</td>\n",
       "      <td>{{563.. 467.}. {601.. 511.}}</td>\n",
       "    </tr>\n",
       "    <tr>\n",
       "      <th>2</th>\n",
       "      <td>10</td>\n",
       "      <td>10</td>\n",
       "      <td>{252.66795665634675. 468.062693498452}</td>\n",
       "      <td>0.019027</td>\n",
       "      <td>0.000736</td>\n",
       "      <td>0.021500</td>\n",
       "      <td>0.016495</td>\n",
       "      <td>24.582284</td>\n",
       "      <td>1297.750</td>\n",
       "      <td>1292</td>\n",
       "      <td>20.279457</td>\n",
       "      <td>0.224331</td>\n",
       "      <td>0.631139</td>\n",
       "      <td>0.943473</td>\n",
       "      <td>{{233.. 446.}. {271.. 491.}}</td>\n",
       "    </tr>\n",
       "    <tr>\n",
       "      <th>3</th>\n",
       "      <td>11</td>\n",
       "      <td>11</td>\n",
       "      <td>{519.5494417862839. 471.28468899521533}</td>\n",
       "      <td>0.017201</td>\n",
       "      <td>0.000409</td>\n",
       "      <td>0.018921</td>\n",
       "      <td>0.015732</td>\n",
       "      <td>21.569741</td>\n",
       "      <td>1259.875</td>\n",
       "      <td>1254</td>\n",
       "      <td>19.979004</td>\n",
       "      <td>0.088522</td>\n",
       "      <td>0.411348</td>\n",
       "      <td>0.933544</td>\n",
       "      <td>{{498.. 451.}. {540.. 492.}}</td>\n",
       "    </tr>\n",
       "    <tr>\n",
       "      <th>4</th>\n",
       "      <td>12</td>\n",
       "      <td>12</td>\n",
       "      <td>{190.21635777598712. 476.0809830781628}</td>\n",
       "      <td>0.018559</td>\n",
       "      <td>0.000698</td>\n",
       "      <td>0.021988</td>\n",
       "      <td>0.016495</td>\n",
       "      <td>23.031647</td>\n",
       "      <td>1246.750</td>\n",
       "      <td>1241</td>\n",
       "      <td>19.875175</td>\n",
       "      <td>0.199912</td>\n",
       "      <td>0.599883</td>\n",
       "      <td>0.938563</td>\n",
       "      <td>{{170.. 454.}. {208.. 498.}}</td>\n",
       "    </tr>\n",
       "    <tr>\n",
       "      <th>5</th>\n",
       "      <td>13</td>\n",
       "      <td>13</td>\n",
       "      <td>{63.19469026548673. 443.1386430678466}</td>\n",
       "      <td>0.016914</td>\n",
       "      <td>0.000769</td>\n",
       "      <td>0.019043</td>\n",
       "      <td>0.014984</td>\n",
       "      <td>11.467826</td>\n",
       "      <td>683.250</td>\n",
       "      <td>678</td>\n",
       "      <td>14.690613</td>\n",
       "      <td>0.453377</td>\n",
       "      <td>0.837379</td>\n",
       "      <td>0.892713</td>\n",
       "      <td>{{44.. 427.}. {80.. 457.}}</td>\n",
       "    </tr>\n",
       "    <tr>\n",
       "      <th>6</th>\n",
       "      <td>14</td>\n",
       "      <td>14</td>\n",
       "      <td>{308.729203539823. 440.0486725663717}</td>\n",
       "      <td>0.017599</td>\n",
       "      <td>0.000484</td>\n",
       "      <td>0.019318</td>\n",
       "      <td>0.016220</td>\n",
       "      <td>19.886397</td>\n",
       "      <td>1134.500</td>\n",
       "      <td>1130</td>\n",
       "      <td>18.965499</td>\n",
       "      <td>0.167601</td>\n",
       "      <td>0.554176</td>\n",
       "      <td>0.910261</td>\n",
       "      <td>{{289.. 420.}. {328.. 459.}}</td>\n",
       "    </tr>\n",
       "    <tr>\n",
       "      <th>7</th>\n",
       "      <td>15</td>\n",
       "      <td>15</td>\n",
       "      <td>{383.8722126929674. 439.7984562607204}</td>\n",
       "      <td>0.017647</td>\n",
       "      <td>0.000670</td>\n",
       "      <td>0.019486</td>\n",
       "      <td>0.015671</td>\n",
       "      <td>10.288289</td>\n",
       "      <td>586.500</td>\n",
       "      <td>583</td>\n",
       "      <td>13.622579</td>\n",
       "      <td>0.403134</td>\n",
       "      <td>0.802341</td>\n",
       "      <td>0.895345</td>\n",
       "      <td>{{366.. 428.}. {401.. 451.}}</td>\n",
       "    </tr>\n",
       "    <tr>\n",
       "      <th>8</th>\n",
       "      <td>17</td>\n",
       "      <td>17</td>\n",
       "      <td>{562.68756698821. 423.9801714898178}</td>\n",
       "      <td>0.017485</td>\n",
       "      <td>0.000518</td>\n",
       "      <td>0.019013</td>\n",
       "      <td>0.015808</td>\n",
       "      <td>16.313252</td>\n",
       "      <td>938.250</td>\n",
       "      <td>933</td>\n",
       "      <td>17.233198</td>\n",
       "      <td>0.091011</td>\n",
       "      <td>0.416820</td>\n",
       "      <td>0.906885</td>\n",
       "      <td>{{545.. 405.}. {582.. 442.}}</td>\n",
       "    </tr>\n",
       "    <tr>\n",
       "      <th>9</th>\n",
       "      <td>18</td>\n",
       "      <td>18</td>\n",
       "      <td>{185.91501976284584. 419.90711462450594}</td>\n",
       "      <td>0.019241</td>\n",
       "      <td>0.000581</td>\n",
       "      <td>0.021607</td>\n",
       "      <td>0.017594</td>\n",
       "      <td>19.472206</td>\n",
       "      <td>1017.500</td>\n",
       "      <td>1012</td>\n",
       "      <td>17.947969</td>\n",
       "      <td>0.101034</td>\n",
       "      <td>0.438019</td>\n",
       "      <td>0.937992</td>\n",
       "      <td>{{167.. 402.}. {206.. 438.}}</td>\n",
       "    </tr>\n",
       "    <tr>\n",
       "      <th>10</th>\n",
       "      <td>19</td>\n",
       "      <td>19</td>\n",
       "      <td>{430.7830409356725. 400.0649122807017}</td>\n",
       "      <td>0.018214</td>\n",
       "      <td>0.000609</td>\n",
       "      <td>0.020844</td>\n",
       "      <td>0.016922</td>\n",
       "      <td>15.572625</td>\n",
       "      <td>859.750</td>\n",
       "      <td>855</td>\n",
       "      <td>16.497120</td>\n",
       "      <td>0.260560</td>\n",
       "      <td>0.673223</td>\n",
       "      <td>0.911327</td>\n",
       "      <td>{{411.. 384.}. {450.. 414.}}</td>\n",
       "    </tr>\n",
       "    <tr>\n",
       "      <th>11</th>\n",
       "      <td>20</td>\n",
       "      <td>20</td>\n",
       "      <td>{649.2265917602996. 387.7621722846442}</td>\n",
       "      <td>0.017696</td>\n",
       "      <td>0.000396</td>\n",
       "      <td>0.018723</td>\n",
       "      <td>0.016373</td>\n",
       "      <td>4.724712</td>\n",
       "      <td>269.250</td>\n",
       "      <td>267</td>\n",
       "      <td>9.218934</td>\n",
       "      <td>0.189235</td>\n",
       "      <td>0.585372</td>\n",
       "      <td>0.838976</td>\n",
       "      <td>{{638.. 377.}. {660.. 397.}}</td>\n",
       "    </tr>\n",
       "    <tr>\n",
       "      <th>12</th>\n",
       "      <td>21</td>\n",
       "      <td>21</td>\n",
       "      <td>{385.47212230215825. 378.68255395683457}</td>\n",
       "      <td>0.017089</td>\n",
       "      <td>0.000791</td>\n",
       "      <td>0.019089</td>\n",
       "      <td>0.015061</td>\n",
       "      <td>19.002579</td>\n",
       "      <td>1116.375</td>\n",
       "      <td>1112</td>\n",
       "      <td>18.813840</td>\n",
       "      <td>0.318655</td>\n",
       "      <td>0.731962</td>\n",
       "      <td>0.898959</td>\n",
       "      <td>{{370.. 356.}. {402.. 401.}}</td>\n",
       "    </tr>\n",
       "    <tr>\n",
       "      <th>13</th>\n",
       "      <td>23</td>\n",
       "      <td>23</td>\n",
       "      <td>{319.5883495145631. 378.3922330097088}</td>\n",
       "      <td>0.020745</td>\n",
       "      <td>0.000795</td>\n",
       "      <td>0.023438</td>\n",
       "      <td>0.018830</td>\n",
       "      <td>21.366949</td>\n",
       "      <td>1035.125</td>\n",
       "      <td>1030</td>\n",
       "      <td>18.106882</td>\n",
       "      <td>0.256377</td>\n",
       "      <td>0.668599</td>\n",
       "      <td>0.932664</td>\n",
       "      <td>{{298.. 362.}. {340.. 395.}}</td>\n",
       "    </tr>\n",
       "    <tr>\n",
       "      <th>14</th>\n",
       "      <td>24</td>\n",
       "      <td>24</td>\n",
       "      <td>{137.30416156670748. 369.0232558139535}</td>\n",
       "      <td>0.021210</td>\n",
       "      <td>0.001030</td>\n",
       "      <td>0.025254</td>\n",
       "      <td>0.018982</td>\n",
       "      <td>34.657542</td>\n",
       "      <td>1640.375</td>\n",
       "      <td>1634</td>\n",
       "      <td>22.806103</td>\n",
       "      <td>0.239156</td>\n",
       "      <td>0.648934</td>\n",
       "      <td>0.941956</td>\n",
       "      <td>{{117.. 342.}. {158.. 394.}}</td>\n",
       "    </tr>\n",
       "    <tr>\n",
       "      <th>15</th>\n",
       "      <td>25</td>\n",
       "      <td>25</td>\n",
       "      <td>{525.9486780715397. 372.4486780715397}</td>\n",
       "      <td>0.018998</td>\n",
       "      <td>0.000675</td>\n",
       "      <td>0.021454</td>\n",
       "      <td>0.016632</td>\n",
       "      <td>24.431342</td>\n",
       "      <td>1292.375</td>\n",
       "      <td>1286</td>\n",
       "      <td>20.232314</td>\n",
       "      <td>0.338095</td>\n",
       "      <td>0.749587</td>\n",
       "      <td>0.907215</td>\n",
       "      <td>{{500.. 352.}. {550.. 389.}}</td>\n",
       "    </tr>\n",
       "    <tr>\n",
       "      <th>16</th>\n",
       "      <td>26</td>\n",
       "      <td>26</td>\n",
       "      <td>{453.1305114638448. 366.8827160493827}</td>\n",
       "      <td>0.016997</td>\n",
       "      <td>0.000483</td>\n",
       "      <td>0.018555</td>\n",
       "      <td>0.015290</td>\n",
       "      <td>19.274571</td>\n",
       "      <td>1140.000</td>\n",
       "      <td>1134</td>\n",
       "      <td>18.999037</td>\n",
       "      <td>0.299684</td>\n",
       "      <td>0.713833</td>\n",
       "      <td>0.919098</td>\n",
       "      <td>{{432.. 347.}. {475.. 384.}}</td>\n",
       "    </tr>\n",
       "    <tr>\n",
       "      <th>17</th>\n",
       "      <td>27</td>\n",
       "      <td>27</td>\n",
       "      <td>{258.2147707979627. 362.09168081494056}</td>\n",
       "      <td>0.022350</td>\n",
       "      <td>0.000996</td>\n",
       "      <td>0.024918</td>\n",
       "      <td>0.019226</td>\n",
       "      <td>26.327901</td>\n",
       "      <td>1184.125</td>\n",
       "      <td>1178</td>\n",
       "      <td>19.364117</td>\n",
       "      <td>0.036158</td>\n",
       "      <td>0.266474</td>\n",
       "      <td>0.941003</td>\n",
       "      <td>{{239.. 340.}. {279.. 381.}}</td>\n",
       "    </tr>\n",
       "    <tr>\n",
       "      <th>18</th>\n",
       "      <td>28</td>\n",
       "      <td>28</td>\n",
       "      <td>{619.0399214659686. 345.744109947644}</td>\n",
       "      <td>0.023352</td>\n",
       "      <td>0.001411</td>\n",
       "      <td>0.026963</td>\n",
       "      <td>0.019379</td>\n",
       "      <td>35.682094</td>\n",
       "      <td>1535.125</td>\n",
       "      <td>1528</td>\n",
       "      <td>22.053968</td>\n",
       "      <td>0.131806</td>\n",
       "      <td>0.496225</td>\n",
       "      <td>0.945154</td>\n",
       "      <td>{{595.. 323.}. {640.. 370.}}</td>\n",
       "    </tr>\n",
       "    <tr>\n",
       "      <th>19</th>\n",
       "      <td>29</td>\n",
       "      <td>29</td>\n",
       "      <td>{479.26109765940276. 328.6404358353511}</td>\n",
       "      <td>0.016452</td>\n",
       "      <td>0.000394</td>\n",
       "      <td>0.017868</td>\n",
       "      <td>0.015229</td>\n",
       "      <td>20.383810</td>\n",
       "      <td>1244.500</td>\n",
       "      <td>1239</td>\n",
       "      <td>19.859153</td>\n",
       "      <td>0.143937</td>\n",
       "      <td>0.516872</td>\n",
       "      <td>0.958175</td>\n",
       "      <td>{{459.. 309.}. {500.. 348.}}</td>\n",
       "    </tr>\n",
       "    <tr>\n",
       "      <th>20</th>\n",
       "      <td>30</td>\n",
       "      <td>30</td>\n",
       "      <td>{542.015873015873. 329.9186507936508}</td>\n",
       "      <td>0.016148</td>\n",
       "      <td>0.000395</td>\n",
       "      <td>0.017624</td>\n",
       "      <td>0.015152</td>\n",
       "      <td>8.138674</td>\n",
       "      <td>507.875</td>\n",
       "      <td>504</td>\n",
       "      <td>12.666025</td>\n",
       "      <td>0.472698</td>\n",
       "      <td>0.849678</td>\n",
       "      <td>0.797100</td>\n",
       "      <td>{{527.. 315.}. {558.. 344.}}</td>\n",
       "    </tr>\n",
       "    <tr>\n",
       "      <th>21</th>\n",
       "      <td>31</td>\n",
       "      <td>31</td>\n",
       "      <td>{665.0896309314587. 312.2275922671353}</td>\n",
       "      <td>0.019337</td>\n",
       "      <td>0.000739</td>\n",
       "      <td>0.021622</td>\n",
       "      <td>0.016922</td>\n",
       "      <td>22.005600</td>\n",
       "      <td>1143.375</td>\n",
       "      <td>1138</td>\n",
       "      <td>19.032516</td>\n",
       "      <td>0.062526</td>\n",
       "      <td>0.348054</td>\n",
       "      <td>0.943015</td>\n",
       "      <td>{{645.. 294.}. {685.. 332.}}</td>\n",
       "    </tr>\n",
       "    <tr>\n",
       "      <th>22</th>\n",
       "      <td>32</td>\n",
       "      <td>32</td>\n",
       "      <td>{304.308362369338. 314.2560975609756}</td>\n",
       "      <td>0.018019</td>\n",
       "      <td>0.000506</td>\n",
       "      <td>0.020722</td>\n",
       "      <td>0.016556</td>\n",
       "      <td>25.857694</td>\n",
       "      <td>1441.375</td>\n",
       "      <td>1435</td>\n",
       "      <td>21.372288</td>\n",
       "      <td>0.133558</td>\n",
       "      <td>0.499279</td>\n",
       "      <td>0.944845</td>\n",
       "      <td>{{282.. 292.}. {327.. 335.}}</td>\n",
       "    </tr>\n",
       "    <tr>\n",
       "      <th>23</th>\n",
       "      <td>34</td>\n",
       "      <td>34</td>\n",
       "      <td>{566.9078110808356. 289.4700272479564}</td>\n",
       "      <td>0.019332</td>\n",
       "      <td>0.000603</td>\n",
       "      <td>0.021439</td>\n",
       "      <td>0.017350</td>\n",
       "      <td>21.284230</td>\n",
       "      <td>1107.500</td>\n",
       "      <td>1101</td>\n",
       "      <td>18.720555</td>\n",
       "      <td>0.338877</td>\n",
       "      <td>0.750278</td>\n",
       "      <td>0.908025</td>\n",
       "      <td>{{548.. 269.}. {586.. 311.}}</td>\n",
       "    </tr>\n",
       "    <tr>\n",
       "      <th>24</th>\n",
       "      <td>35</td>\n",
       "      <td>35</td>\n",
       "      <td>{164.2713567839196. 282.9861809045226}</td>\n",
       "      <td>0.019925</td>\n",
       "      <td>0.000887</td>\n",
       "      <td>0.024308</td>\n",
       "      <td>0.017548</td>\n",
       "      <td>31.721233</td>\n",
       "      <td>1598.750</td>\n",
       "      <td>1592</td>\n",
       "      <td>22.511094</td>\n",
       "      <td>0.123117</td>\n",
       "      <td>0.480703</td>\n",
       "      <td>0.953318</td>\n",
       "      <td>{{139.. 263.}. {188.. 306.}}</td>\n",
       "    </tr>\n",
       "    <tr>\n",
       "      <th>25</th>\n",
       "      <td>36</td>\n",
       "      <td>36</td>\n",
       "      <td>{366.20454545454544. 254.87648221343875}</td>\n",
       "      <td>0.018779</td>\n",
       "      <td>0.000755</td>\n",
       "      <td>0.021485</td>\n",
       "      <td>0.017029</td>\n",
       "      <td>19.004074</td>\n",
       "      <td>1017.125</td>\n",
       "      <td>1012</td>\n",
       "      <td>17.947969</td>\n",
       "      <td>0.084882</td>\n",
       "      <td>0.403186</td>\n",
       "      <td>0.924478</td>\n",
       "      <td>{{348.. 235.}. {384.. 273.}}</td>\n",
       "    </tr>\n",
       "    <tr>\n",
       "      <th>26</th>\n",
       "      <td>37</td>\n",
       "      <td>37</td>\n",
       "      <td>{201.42821535393819. 253.95862412761716}</td>\n",
       "      <td>0.018763</td>\n",
       "      <td>0.000810</td>\n",
       "      <td>0.021057</td>\n",
       "      <td>0.016510</td>\n",
       "      <td>18.819242</td>\n",
       "      <td>1007.750</td>\n",
       "      <td>1003</td>\n",
       "      <td>17.867983</td>\n",
       "      <td>0.046416</td>\n",
       "      <td>0.301128</td>\n",
       "      <td>0.953522</td>\n",
       "      <td>{{185.. 236.}. {220.. 273.}}</td>\n",
       "    </tr>\n",
       "    <tr>\n",
       "      <th>27</th>\n",
       "      <td>38</td>\n",
       "      <td>38</td>\n",
       "      <td>{423.6235489220564. 234.6865671641791}</td>\n",
       "      <td>0.017578</td>\n",
       "      <td>0.000484</td>\n",
       "      <td>0.019699</td>\n",
       "      <td>0.016220</td>\n",
       "      <td>21.198657</td>\n",
       "      <td>1212.250</td>\n",
       "      <td>1206</td>\n",
       "      <td>19.592900</td>\n",
       "      <td>0.058773</td>\n",
       "      <td>0.337774</td>\n",
       "      <td>0.956454</td>\n",
       "      <td>{{404.. 214.}. {444.. 255.}}</td>\n",
       "    </tr>\n",
       "    <tr>\n",
       "      <th>28</th>\n",
       "      <td>39</td>\n",
       "      <td>39</td>\n",
       "      <td>{138.7259721203228. 231.6643433602348}</td>\n",
       "      <td>0.017334</td>\n",
       "      <td>0.000470</td>\n",
       "      <td>0.019440</td>\n",
       "      <td>0.015900</td>\n",
       "      <td>23.626917</td>\n",
       "      <td>1368.625</td>\n",
       "      <td>1363</td>\n",
       "      <td>20.829219</td>\n",
       "      <td>0.134589</td>\n",
       "      <td>0.501062</td>\n",
       "      <td>0.964864</td>\n",
       "      <td>{{119.. 210.}. {158.. 254.}}</td>\n",
       "    </tr>\n",
       "    <tr>\n",
       "      <th>29</th>\n",
       "      <td>40</td>\n",
       "      <td>40</td>\n",
       "      <td>{543.7068571428572. 233.18914285714288}</td>\n",
       "      <td>0.019864</td>\n",
       "      <td>0.000899</td>\n",
       "      <td>0.022934</td>\n",
       "      <td>0.017533</td>\n",
       "      <td>17.381140</td>\n",
       "      <td>880.500</td>\n",
       "      <td>875</td>\n",
       "      <td>16.688953</td>\n",
       "      <td>0.303865</td>\n",
       "      <td>0.717911</td>\n",
       "      <td>0.934368</td>\n",
       "      <td>{{527.. 215.}. {560.. 253.}}</td>\n",
       "    </tr>\n",
       "    <tr>\n",
       "      <th>30</th>\n",
       "      <td>41</td>\n",
       "      <td>41</td>\n",
       "      <td>{604.932847275518. 214.8069838833461}</td>\n",
       "      <td>0.018083</td>\n",
       "      <td>0.000429</td>\n",
       "      <td>0.019394</td>\n",
       "      <td>0.016602</td>\n",
       "      <td>23.562600</td>\n",
       "      <td>1309.625</td>\n",
       "      <td>1303</td>\n",
       "      <td>20.365603</td>\n",
       "      <td>0.269495</td>\n",
       "      <td>0.682907</td>\n",
       "      <td>0.920891</td>\n",
       "      <td>{{583.. 193.}. {626.. 237.}}</td>\n",
       "    </tr>\n",
       "    <tr>\n",
       "      <th>31</th>\n",
       "      <td>42</td>\n",
       "      <td>42</td>\n",
       "      <td>{359.60874439461884. 210.95403587443946}</td>\n",
       "      <td>0.019739</td>\n",
       "      <td>0.000959</td>\n",
       "      <td>0.022339</td>\n",
       "      <td>0.017105</td>\n",
       "      <td>17.606943</td>\n",
       "      <td>897.250</td>\n",
       "      <td>892</td>\n",
       "      <td>16.850294</td>\n",
       "      <td>0.295594</td>\n",
       "      <td>0.709797</td>\n",
       "      <td>0.917472</td>\n",
       "      <td>{{340.. 194.}. {379.. 227.}}</td>\n",
       "    </tr>\n",
       "    <tr>\n",
       "      <th>32</th>\n",
       "      <td>43</td>\n",
       "      <td>43</td>\n",
       "      <td>{486.6398834304746. 193.54995836802664}</td>\n",
       "      <td>0.018391</td>\n",
       "      <td>0.000443</td>\n",
       "      <td>0.020096</td>\n",
       "      <td>0.016602</td>\n",
       "      <td>22.087449</td>\n",
       "      <td>1207.500</td>\n",
       "      <td>1201</td>\n",
       "      <td>19.552242</td>\n",
       "      <td>0.207288</td>\n",
       "      <td>0.609596</td>\n",
       "      <td>0.948365</td>\n",
       "      <td>{{466.. 174.}. {508.. 214.}}</td>\n",
       "    </tr>\n",
       "    <tr>\n",
       "      <th>33</th>\n",
       "      <td>46</td>\n",
       "      <td>46</td>\n",
       "      <td>{274.6940928270042. 179.68987341772151}</td>\n",
       "      <td>0.018350</td>\n",
       "      <td>0.000749</td>\n",
       "      <td>0.021225</td>\n",
       "      <td>0.016297</td>\n",
       "      <td>21.744549</td>\n",
       "      <td>1190.000</td>\n",
       "      <td>1185</td>\n",
       "      <td>19.421566</td>\n",
       "      <td>0.256377</td>\n",
       "      <td>0.668599</td>\n",
       "      <td>0.920500</td>\n",
       "      <td>{{253.. 161.}. {296.. 198.}}</td>\n",
       "    </tr>\n",
       "    <tr>\n",
       "      <th>34</th>\n",
       "      <td>47</td>\n",
       "      <td>47</td>\n",
       "      <td>{398.23979591836735. 168.9045189504373}</td>\n",
       "      <td>0.020625</td>\n",
       "      <td>0.001026</td>\n",
       "      <td>0.023835</td>\n",
       "      <td>0.017777</td>\n",
       "      <td>28.297810</td>\n",
       "      <td>1378.375</td>\n",
       "      <td>1372</td>\n",
       "      <td>20.897875</td>\n",
       "      <td>0.320608</td>\n",
       "      <td>0.733775</td>\n",
       "      <td>0.923872</td>\n",
       "      <td>{{379.. 144.}. {417.. 194.}}</td>\n",
       "    </tr>\n",
       "    <tr>\n",
       "      <th>35</th>\n",
       "      <td>48</td>\n",
       "      <td>48</td>\n",
       "      <td>{324.8195443645084. 154.23081534772183}</td>\n",
       "      <td>0.019679</td>\n",
       "      <td>0.000839</td>\n",
       "      <td>0.023056</td>\n",
       "      <td>0.017746</td>\n",
       "      <td>32.824277</td>\n",
       "      <td>1674.500</td>\n",
       "      <td>1668</td>\n",
       "      <td>23.042155</td>\n",
       "      <td>0.167772</td>\n",
       "      <td>0.554434</td>\n",
       "      <td>0.955385</td>\n",
       "      <td>{{300.. 133.}. {351.. 175.}}</td>\n",
       "    </tr>\n",
       "    <tr>\n",
       "      <th>36</th>\n",
       "      <td>49</td>\n",
       "      <td>49</td>\n",
       "      <td>{614.0643294758339. 154.39788972089855}</td>\n",
       "      <td>0.019659</td>\n",
       "      <td>0.000822</td>\n",
       "      <td>0.023209</td>\n",
       "      <td>0.017334</td>\n",
       "      <td>28.878798</td>\n",
       "      <td>1475.750</td>\n",
       "      <td>1469</td>\n",
       "      <td>21.623996</td>\n",
       "      <td>0.255068</td>\n",
       "      <td>0.667141</td>\n",
       "      <td>0.928263</td>\n",
       "      <td>{{588.. 134.}. {640.. 173.}}</td>\n",
       "    </tr>\n",
       "    <tr>\n",
       "      <th>37</th>\n",
       "      <td>50</td>\n",
       "      <td>50</td>\n",
       "      <td>{223.08212209302326. 144.0283430232558}</td>\n",
       "      <td>0.021116</td>\n",
       "      <td>0.001177</td>\n",
       "      <td>0.024659</td>\n",
       "      <td>0.018265</td>\n",
       "      <td>29.055817</td>\n",
       "      <td>1382.250</td>\n",
       "      <td>1376</td>\n",
       "      <td>20.928316</td>\n",
       "      <td>0.357887</td>\n",
       "      <td>0.766610</td>\n",
       "      <td>0.761369</td>\n",
       "      <td>{{198.. 121.}. {247.. 164.}}</td>\n",
       "    </tr>\n",
       "    <tr>\n",
       "      <th>38</th>\n",
       "      <td>51</td>\n",
       "      <td>51</td>\n",
       "      <td>{155.3129218900675. 134.25120540019287}</td>\n",
       "      <td>0.020446</td>\n",
       "      <td>0.001088</td>\n",
       "      <td>0.023148</td>\n",
       "      <td>0.017639</td>\n",
       "      <td>21.202213</td>\n",
       "      <td>1041.750</td>\n",
       "      <td>1037</td>\n",
       "      <td>18.168306</td>\n",
       "      <td>0.275290</td>\n",
       "      <td>0.689054</td>\n",
       "      <td>0.907863</td>\n",
       "      <td>{{133.. 119.}. {176.. 152.}}</td>\n",
       "    </tr>\n",
       "    <tr>\n",
       "      <th>39</th>\n",
       "      <td>52</td>\n",
       "      <td>52</td>\n",
       "      <td>{498.15. 119.56578947368422}</td>\n",
       "      <td>0.020097</td>\n",
       "      <td>0.000975</td>\n",
       "      <td>0.023194</td>\n",
       "      <td>0.017350</td>\n",
       "      <td>15.273762</td>\n",
       "      <td>765.000</td>\n",
       "      <td>760</td>\n",
       "      <td>15.553633</td>\n",
       "      <td>0.193914</td>\n",
       "      <td>0.591798</td>\n",
       "      <td>0.952791</td>\n",
       "      <td>{{483.. 102.}. {513.. 137.}}</td>\n",
       "    </tr>\n",
       "    <tr>\n",
       "      <th>40</th>\n",
       "      <td>53</td>\n",
       "      <td>53</td>\n",
       "      <td>{435.7238023952096. 108.48727544910179}</td>\n",
       "      <td>0.017678</td>\n",
       "      <td>0.000384</td>\n",
       "      <td>0.019577</td>\n",
       "      <td>0.016434</td>\n",
       "      <td>23.618006</td>\n",
       "      <td>1341.500</td>\n",
       "      <td>1336</td>\n",
       "      <td>20.621882</td>\n",
       "      <td>0.203645</td>\n",
       "      <td>0.604829</td>\n",
       "      <td>0.937390</td>\n",
       "      <td>{{417.. 85.}. {455.. 131.}}</td>\n",
       "    </tr>\n",
       "    <tr>\n",
       "      <th>41</th>\n",
       "      <td>54</td>\n",
       "      <td>54</td>\n",
       "      <td>{539.7220131702728. 99.64675446848543}</td>\n",
       "      <td>0.018235</td>\n",
       "      <td>0.000583</td>\n",
       "      <td>0.020249</td>\n",
       "      <td>0.016556</td>\n",
       "      <td>19.383841</td>\n",
       "      <td>1068.750</td>\n",
       "      <td>1063</td>\n",
       "      <td>18.394657</td>\n",
       "      <td>0.243517</td>\n",
       "      <td>0.654013</td>\n",
       "      <td>0.954757</td>\n",
       "      <td>{{522.. 79.}. {557.. 120.}}</td>\n",
       "    </tr>\n",
       "    <tr>\n",
       "      <th>42</th>\n",
       "      <td>55</td>\n",
       "      <td>55</td>\n",
       "      <td>{311.66753246753245. 106.02207792207793}</td>\n",
       "      <td>0.018696</td>\n",
       "      <td>0.000764</td>\n",
       "      <td>0.020569</td>\n",
       "      <td>0.016739</td>\n",
       "      <td>14.396002</td>\n",
       "      <td>774.625</td>\n",
       "      <td>770</td>\n",
       "      <td>15.655626</td>\n",
       "      <td>0.138362</td>\n",
       "      <td>0.507524</td>\n",
       "      <td>0.845617</td>\n",
       "      <td>{{296.. 87.}. {327.. 123.}}</td>\n",
       "    </tr>\n",
       "    <tr>\n",
       "      <th>43</th>\n",
       "      <td>56</td>\n",
       "      <td>56</td>\n",
       "      <td>{253.2631184407796. 105.51349325337333}</td>\n",
       "      <td>0.019387</td>\n",
       "      <td>0.000661</td>\n",
       "      <td>0.021424</td>\n",
       "      <td>0.017075</td>\n",
       "      <td>25.861997</td>\n",
       "      <td>1339.750</td>\n",
       "      <td>1334</td>\n",
       "      <td>20.606440</td>\n",
       "      <td>0.273978</td>\n",
       "      <td>0.687671</td>\n",
       "      <td>0.931108</td>\n",
       "      <td>{{229.. 87.}. {276.. 125.}}</td>\n",
       "    </tr>\n",
       "    <tr>\n",
       "      <th>44</th>\n",
       "      <td>57</td>\n",
       "      <td>57</td>\n",
       "      <td>{135.5678642714571. 88.0369261477046}</td>\n",
       "      <td>0.018694</td>\n",
       "      <td>0.000656</td>\n",
       "      <td>0.021256</td>\n",
       "      <td>0.016938</td>\n",
       "      <td>28.097292</td>\n",
       "      <td>1508.875</td>\n",
       "      <td>1503</td>\n",
       "      <td>21.872809</td>\n",
       "      <td>0.099359</td>\n",
       "      <td>0.434565</td>\n",
       "      <td>0.925660</td>\n",
       "      <td>{{114.. 65.}. {157.. 112.}}</td>\n",
       "    </tr>\n",
       "    <tr>\n",
       "      <th>45</th>\n",
       "      <td>58</td>\n",
       "      <td>58</td>\n",
       "      <td>{375.61464968152865. 66.38808007279346}</td>\n",
       "      <td>0.018029</td>\n",
       "      <td>0.000612</td>\n",
       "      <td>0.020661</td>\n",
       "      <td>0.016495</td>\n",
       "      <td>19.813397</td>\n",
       "      <td>1103.875</td>\n",
       "      <td>1099</td>\n",
       "      <td>18.703544</td>\n",
       "      <td>0.201794</td>\n",
       "      <td>0.602385</td>\n",
       "      <td>0.938983</td>\n",
       "      <td>{{356.. 48.}. {395.. 85.}}</td>\n",
       "    </tr>\n",
       "    <tr>\n",
       "      <th>46</th>\n",
       "      <td>59</td>\n",
       "      <td>59</td>\n",
       "      <td>{584.7116013071895. 46.877450980392155}</td>\n",
       "      <td>0.017646</td>\n",
       "      <td>0.000465</td>\n",
       "      <td>0.019379</td>\n",
       "      <td>0.016373</td>\n",
       "      <td>21.599008</td>\n",
       "      <td>1229.500</td>\n",
       "      <td>1224</td>\n",
       "      <td>19.738574</td>\n",
       "      <td>0.148738</td>\n",
       "      <td>0.524741</td>\n",
       "      <td>0.952357</td>\n",
       "      <td>{{563.. 28.}. {605.. 66.}}</td>\n",
       "    </tr>\n",
       "    <tr>\n",
       "      <th>47</th>\n",
       "      <td>60</td>\n",
       "      <td>60</td>\n",
       "      <td>{652.935576923077. 36.35769230769233}</td>\n",
       "      <td>0.018270</td>\n",
       "      <td>0.000632</td>\n",
       "      <td>0.021134</td>\n",
       "      <td>0.016236</td>\n",
       "      <td>19.000580</td>\n",
       "      <td>1045.500</td>\n",
       "      <td>1040</td>\n",
       "      <td>18.194567</td>\n",
       "      <td>0.293446</td>\n",
       "      <td>0.707659</td>\n",
       "      <td>0.920261</td>\n",
       "      <td>{{633.. 18.}. {675.. 53.}}</td>\n",
       "    </tr>\n",
       "    <tr>\n",
       "      <th>48</th>\n",
       "      <td>61</td>\n",
       "      <td>61</td>\n",
       "      <td>{303.10427263479147. 26.175483214649034}</td>\n",
       "      <td>0.018462</td>\n",
       "      <td>0.000742</td>\n",
       "      <td>0.020829</td>\n",
       "      <td>0.016617</td>\n",
       "      <td>18.148608</td>\n",
       "      <td>988.250</td>\n",
       "      <td>983</td>\n",
       "      <td>17.688941</td>\n",
       "      <td>0.316125</td>\n",
       "      <td>0.729599</td>\n",
       "      <td>0.886328</td>\n",
       "      <td>{{285.. 7.}. {323.. 46.}}</td>\n",
       "    </tr>\n",
       "    <tr>\n",
       "      <th>49</th>\n",
       "      <td>62</td>\n",
       "      <td>62</td>\n",
       "      <td>{151.00169491525423. 28.222033898305085}</td>\n",
       "      <td>0.017120</td>\n",
       "      <td>0.000528</td>\n",
       "      <td>0.019150</td>\n",
       "      <td>0.015686</td>\n",
       "      <td>20.201846</td>\n",
       "      <td>1185.125</td>\n",
       "      <td>1180</td>\n",
       "      <td>19.380549</td>\n",
       "      <td>0.069766</td>\n",
       "      <td>0.366967</td>\n",
       "      <td>0.895493</td>\n",
       "      <td>{{130.. 8.}. {171.. 48.}}</td>\n",
       "    </tr>\n",
       "    <tr>\n",
       "      <th>50</th>\n",
       "      <td>64</td>\n",
       "      <td>64</td>\n",
       "      <td>{452.68398876404495. 29.057584269662925}</td>\n",
       "      <td>0.016831</td>\n",
       "      <td>0.000466</td>\n",
       "      <td>0.018952</td>\n",
       "      <td>0.015457</td>\n",
       "      <td>23.966781</td>\n",
       "      <td>1430.125</td>\n",
       "      <td>1424</td>\n",
       "      <td>21.290216</td>\n",
       "      <td>0.204887</td>\n",
       "      <td>0.606462</td>\n",
       "      <td>0.933522</td>\n",
       "      <td>{{433.. 5.}. {473.. 52.}}</td>\n",
       "    </tr>\n",
       "  </tbody>\n",
       "</table>\n",
       "</div>"
      ],
      "text/plain": [
       "    ObjectID  Label                                  Centroid  MeanIntensity  \\\n",
       "0          7      7  {459.99136276391556. 492.37619961612285}       0.019748   \n",
       "1          8      8    {582.0196540880503. 488.8545597484277}       0.016742   \n",
       "2         10     10    {252.66795665634675. 468.062693498452}       0.019027   \n",
       "3         11     11   {519.5494417862839. 471.28468899521533}       0.017201   \n",
       "4         12     12   {190.21635777598712. 476.0809830781628}       0.018559   \n",
       "5         13     13    {63.19469026548673. 443.1386430678466}       0.016914   \n",
       "6         14     14     {308.729203539823. 440.0486725663717}       0.017599   \n",
       "7         15     15    {383.8722126929674. 439.7984562607204}       0.017647   \n",
       "8         17     17      {562.68756698821. 423.9801714898178}       0.017485   \n",
       "9         18     18  {185.91501976284584. 419.90711462450594}       0.019241   \n",
       "10        19     19    {430.7830409356725. 400.0649122807017}       0.018214   \n",
       "11        20     20    {649.2265917602996. 387.7621722846442}       0.017696   \n",
       "12        21     21  {385.47212230215825. 378.68255395683457}       0.017089   \n",
       "13        23     23    {319.5883495145631. 378.3922330097088}       0.020745   \n",
       "14        24     24   {137.30416156670748. 369.0232558139535}       0.021210   \n",
       "15        25     25    {525.9486780715397. 372.4486780715397}       0.018998   \n",
       "16        26     26    {453.1305114638448. 366.8827160493827}       0.016997   \n",
       "17        27     27   {258.2147707979627. 362.09168081494056}       0.022350   \n",
       "18        28     28     {619.0399214659686. 345.744109947644}       0.023352   \n",
       "19        29     29   {479.26109765940276. 328.6404358353511}       0.016452   \n",
       "20        30     30     {542.015873015873. 329.9186507936508}       0.016148   \n",
       "21        31     31    {665.0896309314587. 312.2275922671353}       0.019337   \n",
       "22        32     32     {304.308362369338. 314.2560975609756}       0.018019   \n",
       "23        34     34    {566.9078110808356. 289.4700272479564}       0.019332   \n",
       "24        35     35    {164.2713567839196. 282.9861809045226}       0.019925   \n",
       "25        36     36  {366.20454545454544. 254.87648221343875}       0.018779   \n",
       "26        37     37  {201.42821535393819. 253.95862412761716}       0.018763   \n",
       "27        38     38    {423.6235489220564. 234.6865671641791}       0.017578   \n",
       "28        39     39    {138.7259721203228. 231.6643433602348}       0.017334   \n",
       "29        40     40   {543.7068571428572. 233.18914285714288}       0.019864   \n",
       "30        41     41     {604.932847275518. 214.8069838833461}       0.018083   \n",
       "31        42     42  {359.60874439461884. 210.95403587443946}       0.019739   \n",
       "32        43     43   {486.6398834304746. 193.54995836802664}       0.018391   \n",
       "33        46     46   {274.6940928270042. 179.68987341772151}       0.018350   \n",
       "34        47     47   {398.23979591836735. 168.9045189504373}       0.020625   \n",
       "35        48     48   {324.8195443645084. 154.23081534772183}       0.019679   \n",
       "36        49     49   {614.0643294758339. 154.39788972089855}       0.019659   \n",
       "37        50     50   {223.08212209302326. 144.0283430232558}       0.021116   \n",
       "38        51     51   {155.3129218900675. 134.25120540019287}       0.020446   \n",
       "39        52     52              {498.15. 119.56578947368422}       0.020097   \n",
       "40        53     53   {435.7238023952096. 108.48727544910179}       0.017678   \n",
       "41        54     54    {539.7220131702728. 99.64675446848543}       0.018235   \n",
       "42        55     55  {311.66753246753245. 106.02207792207793}       0.018696   \n",
       "43        56     56   {253.2631184407796. 105.51349325337333}       0.019387   \n",
       "44        57     57     {135.5678642714571. 88.0369261477046}       0.018694   \n",
       "45        58     58   {375.61464968152865. 66.38808007279346}       0.018029   \n",
       "46        59     59   {584.7116013071895. 46.877450980392155}       0.017646   \n",
       "47        60     60     {652.935576923077. 36.35769230769233}       0.018270   \n",
       "48        61     61  {303.10427263479147. 26.175483214649034}       0.018462   \n",
       "49        62     62  {151.00169491525423. 28.222033898305085}       0.017120   \n",
       "50        64     64  {452.68398876404495. 29.057584269662925}       0.016831   \n",
       "\n",
       "    StandardDeviationIntensity  MaxIntensity  MinIntensity  TotalIntensity  \\\n",
       "0                     0.000691      0.021851      0.017304       20.577523   \n",
       "1                     0.000408      0.017960      0.015488       21.295979   \n",
       "2                     0.000736      0.021500      0.016495       24.582284   \n",
       "3                     0.000409      0.018921      0.015732       21.569741   \n",
       "4                     0.000698      0.021988      0.016495       23.031647   \n",
       "5                     0.000769      0.019043      0.014984       11.467826   \n",
       "6                     0.000484      0.019318      0.016220       19.886397   \n",
       "7                     0.000670      0.019486      0.015671       10.288289   \n",
       "8                     0.000518      0.019013      0.015808       16.313252   \n",
       "9                     0.000581      0.021607      0.017594       19.472206   \n",
       "10                    0.000609      0.020844      0.016922       15.572625   \n",
       "11                    0.000396      0.018723      0.016373        4.724712   \n",
       "12                    0.000791      0.019089      0.015061       19.002579   \n",
       "13                    0.000795      0.023438      0.018830       21.366949   \n",
       "14                    0.001030      0.025254      0.018982       34.657542   \n",
       "15                    0.000675      0.021454      0.016632       24.431342   \n",
       "16                    0.000483      0.018555      0.015290       19.274571   \n",
       "17                    0.000996      0.024918      0.019226       26.327901   \n",
       "18                    0.001411      0.026963      0.019379       35.682094   \n",
       "19                    0.000394      0.017868      0.015229       20.383810   \n",
       "20                    0.000395      0.017624      0.015152        8.138674   \n",
       "21                    0.000739      0.021622      0.016922       22.005600   \n",
       "22                    0.000506      0.020722      0.016556       25.857694   \n",
       "23                    0.000603      0.021439      0.017350       21.284230   \n",
       "24                    0.000887      0.024308      0.017548       31.721233   \n",
       "25                    0.000755      0.021485      0.017029       19.004074   \n",
       "26                    0.000810      0.021057      0.016510       18.819242   \n",
       "27                    0.000484      0.019699      0.016220       21.198657   \n",
       "28                    0.000470      0.019440      0.015900       23.626917   \n",
       "29                    0.000899      0.022934      0.017533       17.381140   \n",
       "30                    0.000429      0.019394      0.016602       23.562600   \n",
       "31                    0.000959      0.022339      0.017105       17.606943   \n",
       "32                    0.000443      0.020096      0.016602       22.087449   \n",
       "33                    0.000749      0.021225      0.016297       21.744549   \n",
       "34                    0.001026      0.023835      0.017777       28.297810   \n",
       "35                    0.000839      0.023056      0.017746       32.824277   \n",
       "36                    0.000822      0.023209      0.017334       28.878798   \n",
       "37                    0.001177      0.024659      0.018265       29.055817   \n",
       "38                    0.001088      0.023148      0.017639       21.202213   \n",
       "39                    0.000975      0.023194      0.017350       15.273762   \n",
       "40                    0.000384      0.019577      0.016434       23.618006   \n",
       "41                    0.000583      0.020249      0.016556       19.383841   \n",
       "42                    0.000764      0.020569      0.016739       14.396002   \n",
       "43                    0.000661      0.021424      0.017075       25.861997   \n",
       "44                    0.000656      0.021256      0.016938       28.097292   \n",
       "45                    0.000612      0.020661      0.016495       19.813397   \n",
       "46                    0.000465      0.019379      0.016373       21.599008   \n",
       "47                    0.000632      0.021134      0.016236       19.000580   \n",
       "48                    0.000742      0.020829      0.016617       18.148608   \n",
       "49                    0.000528      0.019150      0.015686       20.201846   \n",
       "50                    0.000466      0.018952      0.015457       23.966781   \n",
       "\n",
       "        Area  Count  EquivalentDiskRadius  Elongation  Eccentricity  \\\n",
       "0   1047.250   1042             18.212054    0.231355      0.639675   \n",
       "1   1277.750   1272             20.121883    0.176285      0.567004   \n",
       "2   1297.750   1292             20.279457    0.224331      0.631139   \n",
       "3   1259.875   1254             19.979004    0.088522      0.411348   \n",
       "4   1246.750   1241             19.875175    0.199912      0.599883   \n",
       "5    683.250    678             14.690613    0.453377      0.837379   \n",
       "6   1134.500   1130             18.965499    0.167601      0.554176   \n",
       "7    586.500    583             13.622579    0.403134      0.802341   \n",
       "8    938.250    933             17.233198    0.091011      0.416820   \n",
       "9   1017.500   1012             17.947969    0.101034      0.438019   \n",
       "10   859.750    855             16.497120    0.260560      0.673223   \n",
       "11   269.250    267              9.218934    0.189235      0.585372   \n",
       "12  1116.375   1112             18.813840    0.318655      0.731962   \n",
       "13  1035.125   1030             18.106882    0.256377      0.668599   \n",
       "14  1640.375   1634             22.806103    0.239156      0.648934   \n",
       "15  1292.375   1286             20.232314    0.338095      0.749587   \n",
       "16  1140.000   1134             18.999037    0.299684      0.713833   \n",
       "17  1184.125   1178             19.364117    0.036158      0.266474   \n",
       "18  1535.125   1528             22.053968    0.131806      0.496225   \n",
       "19  1244.500   1239             19.859153    0.143937      0.516872   \n",
       "20   507.875    504             12.666025    0.472698      0.849678   \n",
       "21  1143.375   1138             19.032516    0.062526      0.348054   \n",
       "22  1441.375   1435             21.372288    0.133558      0.499279   \n",
       "23  1107.500   1101             18.720555    0.338877      0.750278   \n",
       "24  1598.750   1592             22.511094    0.123117      0.480703   \n",
       "25  1017.125   1012             17.947969    0.084882      0.403186   \n",
       "26  1007.750   1003             17.867983    0.046416      0.301128   \n",
       "27  1212.250   1206             19.592900    0.058773      0.337774   \n",
       "28  1368.625   1363             20.829219    0.134589      0.501062   \n",
       "29   880.500    875             16.688953    0.303865      0.717911   \n",
       "30  1309.625   1303             20.365603    0.269495      0.682907   \n",
       "31   897.250    892             16.850294    0.295594      0.709797   \n",
       "32  1207.500   1201             19.552242    0.207288      0.609596   \n",
       "33  1190.000   1185             19.421566    0.256377      0.668599   \n",
       "34  1378.375   1372             20.897875    0.320608      0.733775   \n",
       "35  1674.500   1668             23.042155    0.167772      0.554434   \n",
       "36  1475.750   1469             21.623996    0.255068      0.667141   \n",
       "37  1382.250   1376             20.928316    0.357887      0.766610   \n",
       "38  1041.750   1037             18.168306    0.275290      0.689054   \n",
       "39   765.000    760             15.553633    0.193914      0.591798   \n",
       "40  1341.500   1336             20.621882    0.203645      0.604829   \n",
       "41  1068.750   1063             18.394657    0.243517      0.654013   \n",
       "42   774.625    770             15.655626    0.138362      0.507524   \n",
       "43  1339.750   1334             20.606440    0.273978      0.687671   \n",
       "44  1508.875   1503             21.872809    0.099359      0.434565   \n",
       "45  1103.875   1099             18.703544    0.201794      0.602385   \n",
       "46  1229.500   1224             19.738574    0.148738      0.524741   \n",
       "47  1045.500   1040             18.194567    0.293446      0.707659   \n",
       "48   988.250    983             17.688941    0.316125      0.729599   \n",
       "49  1185.125   1180             19.380549    0.069766      0.366967   \n",
       "50  1430.125   1424             21.290216    0.204887      0.606462   \n",
       "\n",
       "    Circularity                   BoundingBox  \n",
       "0      0.942608  {{443.. 473.}. {480.. 511.}}  \n",
       "1      0.950213  {{563.. 467.}. {601.. 511.}}  \n",
       "2      0.943473  {{233.. 446.}. {271.. 491.}}  \n",
       "3      0.933544  {{498.. 451.}. {540.. 492.}}  \n",
       "4      0.938563  {{170.. 454.}. {208.. 498.}}  \n",
       "5      0.892713    {{44.. 427.}. {80.. 457.}}  \n",
       "6      0.910261  {{289.. 420.}. {328.. 459.}}  \n",
       "7      0.895345  {{366.. 428.}. {401.. 451.}}  \n",
       "8      0.906885  {{545.. 405.}. {582.. 442.}}  \n",
       "9      0.937992  {{167.. 402.}. {206.. 438.}}  \n",
       "10     0.911327  {{411.. 384.}. {450.. 414.}}  \n",
       "11     0.838976  {{638.. 377.}. {660.. 397.}}  \n",
       "12     0.898959  {{370.. 356.}. {402.. 401.}}  \n",
       "13     0.932664  {{298.. 362.}. {340.. 395.}}  \n",
       "14     0.941956  {{117.. 342.}. {158.. 394.}}  \n",
       "15     0.907215  {{500.. 352.}. {550.. 389.}}  \n",
       "16     0.919098  {{432.. 347.}. {475.. 384.}}  \n",
       "17     0.941003  {{239.. 340.}. {279.. 381.}}  \n",
       "18     0.945154  {{595.. 323.}. {640.. 370.}}  \n",
       "19     0.958175  {{459.. 309.}. {500.. 348.}}  \n",
       "20     0.797100  {{527.. 315.}. {558.. 344.}}  \n",
       "21     0.943015  {{645.. 294.}. {685.. 332.}}  \n",
       "22     0.944845  {{282.. 292.}. {327.. 335.}}  \n",
       "23     0.908025  {{548.. 269.}. {586.. 311.}}  \n",
       "24     0.953318  {{139.. 263.}. {188.. 306.}}  \n",
       "25     0.924478  {{348.. 235.}. {384.. 273.}}  \n",
       "26     0.953522  {{185.. 236.}. {220.. 273.}}  \n",
       "27     0.956454  {{404.. 214.}. {444.. 255.}}  \n",
       "28     0.964864  {{119.. 210.}. {158.. 254.}}  \n",
       "29     0.934368  {{527.. 215.}. {560.. 253.}}  \n",
       "30     0.920891  {{583.. 193.}. {626.. 237.}}  \n",
       "31     0.917472  {{340.. 194.}. {379.. 227.}}  \n",
       "32     0.948365  {{466.. 174.}. {508.. 214.}}  \n",
       "33     0.920500  {{253.. 161.}. {296.. 198.}}  \n",
       "34     0.923872  {{379.. 144.}. {417.. 194.}}  \n",
       "35     0.955385  {{300.. 133.}. {351.. 175.}}  \n",
       "36     0.928263  {{588.. 134.}. {640.. 173.}}  \n",
       "37     0.761369  {{198.. 121.}. {247.. 164.}}  \n",
       "38     0.907863  {{133.. 119.}. {176.. 152.}}  \n",
       "39     0.952791  {{483.. 102.}. {513.. 137.}}  \n",
       "40     0.937390   {{417.. 85.}. {455.. 131.}}  \n",
       "41     0.954757   {{522.. 79.}. {557.. 120.}}  \n",
       "42     0.845617   {{296.. 87.}. {327.. 123.}}  \n",
       "43     0.931108   {{229.. 87.}. {276.. 125.}}  \n",
       "44     0.925660   {{114.. 65.}. {157.. 112.}}  \n",
       "45     0.938983    {{356.. 48.}. {395.. 85.}}  \n",
       "46     0.952357    {{563.. 28.}. {605.. 66.}}  \n",
       "47     0.920261    {{633.. 18.}. {675.. 53.}}  \n",
       "48     0.886328     {{285.. 7.}. {323.. 46.}}  \n",
       "49     0.895493     {{130.. 8.}. {171.. 48.}}  \n",
       "50     0.933522     {{433.. 5.}. {473.. 52.}}  "
      ]
     },
     "execution_count": 73,
     "metadata": {},
     "output_type": "execute_result"
    }
   ],
   "source": [
    "pd.read_csv(\"DrugScreen2.csv\",header=2,sep=\";\")"
   ]
  },
  {
   "cell_type": "markdown",
   "metadata": {},
   "source": [
    "12. Import the dataset \"Weights\" (Weights.csv). Plot a histogram of the weights and export it as a PDF. "
   ]
  },
  {
   "cell_type": "code",
   "execution_count": 83,
   "metadata": {},
   "outputs": [],
   "source": [
    "weightsDF=pd.read_csv(\"Weights.csv\",header=1)"
   ]
  },
  {
   "cell_type": "code",
   "execution_count": 84,
   "metadata": {},
   "outputs": [
    {
     "data": {
      "text/html": [
       "<div>\n",
       "<style scoped>\n",
       "    .dataframe tbody tr th:only-of-type {\n",
       "        vertical-align: middle;\n",
       "    }\n",
       "\n",
       "    .dataframe tbody tr th {\n",
       "        vertical-align: top;\n",
       "    }\n",
       "\n",
       "    .dataframe thead th {\n",
       "        text-align: right;\n",
       "    }\n",
       "</style>\n",
       "<table border=\"1\" class=\"dataframe\">\n",
       "  <thead>\n",
       "    <tr style=\"text-align: right;\">\n",
       "      <th></th>\n",
       "      <th>Weights</th>\n",
       "    </tr>\n",
       "  </thead>\n",
       "  <tbody>\n",
       "    <tr>\n",
       "      <th>0</th>\n",
       "      <td>105.108259</td>\n",
       "    </tr>\n",
       "    <tr>\n",
       "      <th>1</th>\n",
       "      <td>112.257397</td>\n",
       "    </tr>\n",
       "    <tr>\n",
       "      <th>2</th>\n",
       "      <td>72.988258</td>\n",
       "    </tr>\n",
       "    <tr>\n",
       "      <th>3</th>\n",
       "      <td>66.240478</td>\n",
       "    </tr>\n",
       "    <tr>\n",
       "      <th>4</th>\n",
       "      <td>84.025744</td>\n",
       "    </tr>\n",
       "  </tbody>\n",
       "</table>\n",
       "</div>"
      ],
      "text/plain": [
       "      Weights\n",
       "0  105.108259\n",
       "1  112.257397\n",
       "2   72.988258\n",
       "3   66.240478\n",
       "4   84.025744"
      ]
     },
     "execution_count": 84,
     "metadata": {},
     "output_type": "execute_result"
    }
   ],
   "source": [
    "weightsDF.head()"
   ]
  },
  {
   "cell_type": "code",
   "execution_count": 88,
   "metadata": {},
   "outputs": [],
   "source": [
    "weightsList=weightsDF[\"Weights\"].tolist()"
   ]
  },
  {
   "cell_type": "code",
   "execution_count": 93,
   "metadata": {},
   "outputs": [
    {
     "data": {
      "image/png": "[encoded data removed]",
      "text/plain": [
       "<Figure size 432x288 with 1 Axes>"
      ]
     },
     "metadata": {
      "needs_background": "light"
     },
     "output_type": "display_data"
    }
   ],
   "source": [
    "plt.hist(weightsList)\n",
    "plt.title('weights histogram')\n",
    "plt.xlabel('weights')\n",
    "plt.ylabel('frequency')\n",
    "plt.savefig('weightsHist.pdf')"
   ]
  },
  {
   "cell_type": "code",
   "execution_count": 94,
   "metadata": {},
   "outputs": [
    {
     "data": {
      "image/png": "[encoded data removed]",
      "text/plain": [
       "<Figure size 432x288 with 1 Axes>"
      ]
     },
     "metadata": {
      "needs_background": "light"
     },
     "output_type": "display_data"
    }
   ],
   "source": [
    "weightsDF.hist()\n",
    "plt.savefig('weightsHistDF.pdf')"
   ]
  },
  {
   "cell_type": "markdown",
   "metadata": {},
   "source": [
    "### <p style='color: red'>hard</p>\n",
    "\n",
    "13. Write code for looking up translations in the dictionary `word`. A user should be prompted to input an English word. If it is one of the words in the dictionary, the German translation should be displayed on the screen. If the word is not contained in the dictionary a respective notice should be displayed on the screen."
   ]
  },
  {
   "cell_type": "code",
   "execution_count": 96,
   "metadata": {},
   "outputs": [],
   "source": [
    "words={}\n",
    "fObj=open('dictionary.txt','r')\n",
    "for line in fObj:\n",
    "    lineParts=line.split(\" \")\n",
    "    words[lineParts[0]] = lineParts[1]\n",
    "fObj.close()    "
   ]
  },
  {
   "cell_type": "code",
   "execution_count": 97,
   "metadata": {},
   "outputs": [
    {
     "data": {
      "text/plain": [
       "{'car': 'Auto\\n',\n",
       " 'bicycle': 'Fahrrad\\n',\n",
       " 'bottle': 'Flasche\\n',\n",
       " 'fan': 'Ventilator\\n',\n",
       " 'jacket': 'Jacke'}"
      ]
     },
     "execution_count": 97,
     "metadata": {},
     "output_type": "execute_result"
    }
   ],
   "source": [
    "words"
   ]
  },
  {
   "cell_type": "code",
   "execution_count": 115,
   "metadata": {},
   "outputs": [
    {
     "name": "stdout",
     "output_type": "stream",
     "text": [
      "Please provide an English wordskirt\n",
      "Unfortunately, this word is not part of our dictionary.\n"
     ]
    }
   ],
   "source": [
    "wordQuestion=input(\"Please provide an English word\")\n",
    "if wordQuestion in list(words.keys()):\n",
    "    print(\"The German translation is: \",words[wordQuestion])\n",
    "else: print(\"Unfortunately, this word is not part of our dictionary.\")"
   ]
  },
  {
   "cell_type": "code",
   "execution_count": 1,
   "metadata": {},
   "outputs": [
    {
     "ename": "ValueError",
     "evalue": "invalid literal for int() with base 10: '5.6'",
     "output_type": "error",
     "traceback": [
      "\u001b[1;31m---------------------------------------------------------------------------\u001b[0m",
      "\u001b[1;31mValueError\u001b[0m                                Traceback (most recent call last)",
      "\u001b[1;32m<ipython-input-1-20d76d377e33>\u001b[0m in \u001b[0;36m<module>\u001b[1;34m\u001b[0m\n\u001b[1;32m----> 1\u001b[1;33m \u001b[0mint\u001b[0m\u001b[1;33m(\u001b[0m\u001b[1;34m'5.6'\u001b[0m\u001b[1;33m)\u001b[0m\u001b[1;33m\u001b[0m\u001b[1;33m\u001b[0m\u001b[0m\n\u001b[0m",
      "\u001b[1;31mValueError\u001b[0m: invalid literal for int() with base 10: '5.6'"
     ]
    }
   ],
   "source": [
    "int('5.6')"
   ]
  },
  {
   "cell_type": "code",
   "execution_count": 7,
   "metadata": {},
   "outputs": [
    {
     "data": {
      "text/plain": [
       "5"
      ]
     },
     "execution_count": 7,
     "metadata": {},
     "output_type": "execute_result"
    }
   ],
   "source": [
    "int(float('5.6'))"
   ]
  },
  {
   "cell_type": "code",
   "execution_count": null,
   "metadata": {},
   "outputs": [],
   "source": []
  },
  {
   "cell_type": "code",
   "execution_count": null,
   "metadata": {},
   "outputs": [],
   "source": []
  }
 ],
 "metadata": {
  "kernelspec": {
   "display_name": "Python 3 (ipykernel)",
   "language": "python",
   "name": "python3"
  },
  "language_info": {
   "codemirror_mode": {
    "name": "ipython",
    "version": 3
   },
   "file_extension": ".py",
   "mimetype": "text/x-python",
   "name": "python",
   "nbconvert_exporter": "python",
   "pygments_lexer": "ipython3",
   "version": "3.9.7"
  }
 },
 "nbformat": 4,
 "nbformat_minor": 4
}
