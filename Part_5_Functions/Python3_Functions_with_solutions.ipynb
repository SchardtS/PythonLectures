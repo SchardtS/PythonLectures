{
 "cells": [
  {
   "cell_type": "markdown",
   "metadata": {},
   "source": [
    "<p style='text-align: center'><a href=https://www.biozentrum.uni-wuerzburg.de/cctb/research/supramolecular-and-cellular-simulations/>Supramolecular and Cellular Simulations</a> (Prof. Fischer)<br>Center for Computational and Theoretical Biology - CCTB<br>Faculty of Biology, University of Würzburg</p>\n",
    "\n",
    "<p style='text-align: center'><br><br>We are looking forward to your comments and suggestions. Please send them to <a href=sabine.fischer@uni.wuerzburg.de>sabine.fischer@uni.wuerzburg.de</a><br><br></p>\n",
    "\n",
    "<h1><p style='text-align: center'> Introduction to Python </p></h1>"
   ]
  },
  {
   "cell_type": "markdown",
   "metadata": {},
   "source": [
    "## Functions\n",
    "Functions are an important part of Python. A function is piece of code that can be executed to solve a task. They can range from only some lines of code to whole scripts. This executable code is used by an identifier. So many tasks that you might want to solve within your code can be solved using a predefined function. For most general tasks python has built-in functions. Only complex and highly specific task you might needed to write your own function.\n",
    "\n",
    "### 1. Built-in Functions\n",
    "Python has a huge amount of built-in functions, they cover the basic needs for programming. To call a function you need to know its identifier. Furthermore, you need to know if the function needs additional components, to work properly. The `print()` function is our first example, it was used several times by now."
   ]
  },
  {
   "cell_type": "code",
   "execution_count": 1,
   "metadata": {},
   "outputs": [
    {
     "name": "stdout",
     "output_type": "stream",
     "text": [
      "Hello world!\n"
     ]
    }
   ],
   "source": [
    "print(\"Hello world!\")"
   ]
  },
  {
   "cell_type": "markdown",
   "metadata": {},
   "source": [
    "Besides the identifier `print()` this function needs an argument. <p style='text-align: justify;'>The argument has to be added between the brackets. This function will print its argument as the scripts output. Strings will be printed directly. In contrast, variables will not be printed themselves, instead their content is printed."
   ]
  },
  {
   "cell_type": "code",
   "execution_count": 2,
   "metadata": {},
   "outputs": [
    {
     "name": "stdout",
     "output_type": "stream",
     "text": [
      "[1, 2]\n",
      "String\n",
      "[1, 2] String\n"
     ]
    }
   ],
   "source": [
    "v1 = [1,2]\n",
    "v2 = \"String\"\n",
    "\n",
    "print(v1)\n",
    "print(v2)\n",
    "print(v1, v2)"
   ]
  },
  {
   "cell_type": "markdown",
   "metadata": {},
   "source": [
    "There are ways to integrate the content of variables into strings. You have to use `{}` in your string to mark the place were the variables content should be added. After closing the string with a quote just add:</p> \n",
    "    \n",
    "`.format()` \n",
    "\n",
    "Inside the brackets the variable has to be added."
   ]
  },
  {
   "cell_type": "code",
   "execution_count": 3,
   "metadata": {},
   "outputs": [
    {
     "name": "stdout",
     "output_type": "stream",
     "text": [
      "I have 2 variables, but you can see just 1\n"
     ]
    }
   ],
   "source": [
    "print(\"I have {} variables, but you can see just {}\".format(v1[1], v1[0]))"
   ]
  },
  {
   "cell_type": "markdown",
   "metadata": {},
   "source": [
    "<p style='text-align: justify;'> To work properly with Python you have to learn the basic functions or at least know where to find them. A good source to find specific built-in functions is either the Python documentation, when you have an idea of the functions name/identifier. Otherwise an internet search or forums can be a great help.</p>\n",
    "\n",
    "[Python documentation - functions](https://docs.python.org/3.7/library/index.html)<br>\n",
    "[Forum - stackoverflow](https://stackoverflow.com/)    \n",
    "\n",
    "Following we will present some of the most used functions in Python\n",
    "\n"
   ]
  },
  {
   "cell_type": "markdown",
   "metadata": {},
   "source": [
    "#### 1.1 import\n",
    "The `import` function is used to load additional modules for specific tasks. One example is `pandas` which is used for working with tables. The module to load after `import`."
   ]
  },
  {
   "cell_type": "code",
   "execution_count": 4,
   "metadata": {},
   "outputs": [
    {
     "data": {
      "text/html": [
       "<div>\n",
       "<style scoped>\n",
       "    .dataframe tbody tr th:only-of-type {\n",
       "        vertical-align: middle;\n",
       "    }\n",
       "\n",
       "    .dataframe tbody tr th {\n",
       "        vertical-align: top;\n",
       "    }\n",
       "\n",
       "    .dataframe thead th {\n",
       "        text-align: right;\n",
       "    }\n",
       "</style>\n",
       "<table border=\"1\" class=\"dataframe\">\n",
       "  <thead>\n",
       "    <tr style=\"text-align: right;\">\n",
       "      <th></th>\n",
       "      <th>column1</th>\n",
       "      <th>column2</th>\n",
       "    </tr>\n",
       "  </thead>\n",
       "  <tbody>\n",
       "    <tr>\n",
       "      <th>row1</th>\n",
       "      <td>1</td>\n",
       "      <td>a</td>\n",
       "    </tr>\n",
       "    <tr>\n",
       "      <th>row2</th>\n",
       "      <td>2</td>\n",
       "      <td>b</td>\n",
       "    </tr>\n",
       "    <tr>\n",
       "      <th>row3</th>\n",
       "      <td>3</td>\n",
       "      <td>c</td>\n",
       "    </tr>\n",
       "  </tbody>\n",
       "</table>\n",
       "</div>"
      ],
      "text/plain": [
       "      column1 column2\n",
       "row1        1       a\n",
       "row2        2       b\n",
       "row3        3       c"
      ]
     },
     "execution_count": 4,
     "metadata": {},
     "output_type": "execute_result"
    }
   ],
   "source": [
    "import pandas\n",
    "pandas.DataFrame({'column1':(1,2,3),\n",
    "                  'column2':['a','b','c']},\n",
    "                  index=['row1','row2','row3'])"
   ]
  },
  {
   "cell_type": "markdown",
   "metadata": {},
   "source": [
    "The `import` function can be combined with additional commands.<br>\n",
    "`as` loads the module into a variable other than the modules name. This is useful if the name of the module is long."
   ]
  },
  {
   "cell_type": "code",
   "execution_count": 5,
   "metadata": {},
   "outputs": [
    {
     "data": {
      "text/html": [
       "<div>\n",
       "<style scoped>\n",
       "    .dataframe tbody tr th:only-of-type {\n",
       "        vertical-align: middle;\n",
       "    }\n",
       "\n",
       "    .dataframe tbody tr th {\n",
       "        vertical-align: top;\n",
       "    }\n",
       "\n",
       "    .dataframe thead th {\n",
       "        text-align: right;\n",
       "    }\n",
       "</style>\n",
       "<table border=\"1\" class=\"dataframe\">\n",
       "  <thead>\n",
       "    <tr style=\"text-align: right;\">\n",
       "      <th></th>\n",
       "      <th>column1</th>\n",
       "      <th>column2</th>\n",
       "    </tr>\n",
       "  </thead>\n",
       "  <tbody>\n",
       "    <tr>\n",
       "      <th>row1</th>\n",
       "      <td>1</td>\n",
       "      <td>a</td>\n",
       "    </tr>\n",
       "    <tr>\n",
       "      <th>row2</th>\n",
       "      <td>2</td>\n",
       "      <td>b</td>\n",
       "    </tr>\n",
       "    <tr>\n",
       "      <th>row3</th>\n",
       "      <td>3</td>\n",
       "      <td>c</td>\n",
       "    </tr>\n",
       "  </tbody>\n",
       "</table>\n",
       "</div>"
      ],
      "text/plain": [
       "      column1 column2\n",
       "row1        1       a\n",
       "row2        2       b\n",
       "row3        3       c"
      ]
     },
     "execution_count": 5,
     "metadata": {},
     "output_type": "execute_result"
    }
   ],
   "source": [
    "import pandas as pd\n",
    "pd.DataFrame({'column1':(1,2,3),\n",
    "              'column2':['a','b','c']},\n",
    "              index=['row1','row2','row3'])"
   ]
  },
  {
   "cell_type": "markdown",
   "metadata": {},
   "source": [
    "`from` can be used to load a single specific function from a module."
   ]
  },
  {
   "cell_type": "code",
   "execution_count": 6,
   "metadata": {},
   "outputs": [
    {
     "data": {
      "text/html": [
       "<div>\n",
       "<style scoped>\n",
       "    .dataframe tbody tr th:only-of-type {\n",
       "        vertical-align: middle;\n",
       "    }\n",
       "\n",
       "    .dataframe tbody tr th {\n",
       "        vertical-align: top;\n",
       "    }\n",
       "\n",
       "    .dataframe thead th {\n",
       "        text-align: right;\n",
       "    }\n",
       "</style>\n",
       "<table border=\"1\" class=\"dataframe\">\n",
       "  <thead>\n",
       "    <tr style=\"text-align: right;\">\n",
       "      <th></th>\n",
       "      <th>column1</th>\n",
       "      <th>column2</th>\n",
       "    </tr>\n",
       "  </thead>\n",
       "  <tbody>\n",
       "    <tr>\n",
       "      <th>row1</th>\n",
       "      <td>1</td>\n",
       "      <td>a</td>\n",
       "    </tr>\n",
       "    <tr>\n",
       "      <th>row2</th>\n",
       "      <td>2</td>\n",
       "      <td>b</td>\n",
       "    </tr>\n",
       "    <tr>\n",
       "      <th>row3</th>\n",
       "      <td>3</td>\n",
       "      <td>c</td>\n",
       "    </tr>\n",
       "  </tbody>\n",
       "</table>\n",
       "</div>"
      ],
      "text/plain": [
       "      column1 column2\n",
       "row1        1       a\n",
       "row2        2       b\n",
       "row3        3       c"
      ]
     },
     "execution_count": 6,
     "metadata": {},
     "output_type": "execute_result"
    }
   ],
   "source": [
    "from pandas import DataFrame as DF\n",
    "DF({'column1':(1,2,3),\n",
    "    'column2':['a','b','c']},\n",
    "    index=['row1','row2','row3'])"
   ]
  },
  {
   "cell_type": "markdown",
   "metadata": {},
   "source": [
    "#### 1.2 min() / max()\n",
    "The functions `min()` and `max()` are able to find the smallest / shortest respectively largest / longest component of their argument, as example a list."
   ]
  },
  {
   "cell_type": "code",
   "execution_count": 7,
   "metadata": {},
   "outputs": [
    {
     "name": "stdout",
     "output_type": "stream",
     "text": [
      "min: 1, max: 6\n",
      "min: a, max: ghij\n"
     ]
    }
   ],
   "source": [
    "list1 = [1,2,3,4,5,6]\n",
    "print('min: {}, max: {}'.format(min(list1),max(list1)))\n",
    "list2 = ['a','bc','def','ghij']\n",
    "print('min: {}, max: {}'.format(min(list2),max(list2)))"
   ]
  },
  {
   "cell_type": "markdown",
   "metadata": {},
   "source": [
    "#### 1.3 abs()\n",
    "The function `abs()` gives the absolute value of a number. The argument needs to be either an integer or a float value."
   ]
  },
  {
   "cell_type": "code",
   "execution_count": 8,
   "metadata": {},
   "outputs": [
    {
     "name": "stdout",
     "output_type": "stream",
     "text": [
      "False\n",
      "True\n",
      "5.5\n"
     ]
    }
   ],
   "source": [
    "print(5 == -5)\n",
    "print(abs(5) == abs(-5))\n",
    "print(abs(-5.5))"
   ]
  },
  {
   "cell_type": "markdown",
   "metadata": {},
   "source": [
    "#### 1.4 range()\n",
    "The function `range()` creates an object containing numbers. This list of number depends on the given arguments. You can either give `range()` just a single, two or three numbers.<br>\n",
    "- If given one number the function will make a list starting with 0 and ending with the given number -1\n",
    "- If given two numbers they represent the borders of the list, it will start with the first end end with the second -1\n",
    "- with three numbers you can additionally define the steps taken between the numbers"
   ]
  },
  {
   "cell_type": "code",
   "execution_count": 9,
   "metadata": {},
   "outputs": [
    {
     "name": "stdout",
     "output_type": "stream",
     "text": [
      "[0, 1, 2, 3, 4, 5, 6, 7, 8, 9]\n",
      "[5, 6, 7, 8, 9]\n",
      "[2, 4, 6, 8, 10]\n"
     ]
    }
   ],
   "source": [
    "print(list(range(10)))\n",
    "print(list(range(5,10)))\n",
    "print(list(range(2,11,2)))"
   ]
  },
  {
   "cell_type": "markdown",
   "metadata": {},
   "source": [
    "#### 1.5 len()\n",
    "The function `len()` counts the length of an object like a list or dictionary. The argument needs to be an iterable object."
   ]
  },
  {
   "cell_type": "code",
   "execution_count": 10,
   "metadata": {},
   "outputs": [
    {
     "name": "stdout",
     "output_type": "stream",
     "text": [
      "6\n",
      "4\n",
      "2\n",
      "10\n"
     ]
    }
   ],
   "source": [
    "print(len('string'))\n",
    "print(len([1,2,3,4]))\n",
    "print(len({'animal':'snake','number':7}))\n",
    "print(len(range(10)))"
   ]
  },
  {
   "cell_type": "markdown",
   "metadata": {},
   "source": [
    "#### 1.6 sorted()\n",
    "To sort an iterable object you can use the function `sorted()`. Just add the object to sort as argument. You can add an additional keyword argument to change the sorting style. As example `key=len` for word length."
   ]
  },
  {
   "cell_type": "code",
   "execution_count": 11,
   "metadata": {},
   "outputs": [
    {
     "name": "stdout",
     "output_type": "stream",
     "text": [
      "[0, 1, 3, 4, 8, 9]\n",
      "['aaaaaaaaa', 'bbb', 'cccccc']\n",
      "['bbb', 'cccccc', 'aaaaaaaaa']\n"
     ]
    }
   ],
   "source": [
    "print(sorted([1,0,9,4,3,8]))\n",
    "print(sorted(['bbb','aaaaaaaaa','cccccc']))\n",
    "print(sorted(['bbb','aaaaaaaaa','cccccc'],key=len))"
   ]
  },
  {
   "cell_type": "markdown",
   "metadata": {},
   "source": [
    "#### 1.7 type()\n",
    "If you need to know the type of something, as example the content of a variable, you can use the `type()` function."
   ]
  },
  {
   "cell_type": "code",
   "execution_count": 12,
   "metadata": {},
   "outputs": [
    {
     "name": "stdout",
     "output_type": "stream",
     "text": [
      "<class 'module'>\n",
      "<class 'list'>\n",
      "<class 'int'>\n",
      "<class 'str'>\n"
     ]
    }
   ],
   "source": [
    "print(type(pandas))\n",
    "print(type(list1))\n",
    "print(type(1))\n",
    "print(type('string'))"
   ]
  },
  {
   "cell_type": "markdown",
   "metadata": {},
   "source": [
    "#### 1.8 input()\n",
    "If you need an user to type in some informations use the `input()` function. This function will open a field to input text.<br>The text will be read as string. This is important if you want numbers as input."
   ]
  },
  {
   "cell_type": "code",
   "execution_count": 52,
   "metadata": {},
   "outputs": [
    {
     "name": "stdout",
     "output_type": "stream",
     "text": [
      " d\n"
     ]
    },
    {
     "data": {
      "text/plain": [
       "'d'"
      ]
     },
     "execution_count": 52,
     "metadata": {},
     "output_type": "execute_result"
    }
   ],
   "source": [
    "input()"
   ]
  },
  {
   "cell_type": "markdown",
   "metadata": {},
   "source": [
    "You can add a string as argument, to give the user an explanation of what he should input."
   ]
  },
  {
   "cell_type": "code",
   "execution_count": 17,
   "metadata": {},
   "outputs": [
    {
     "name": "stdout",
     "output_type": "stream",
     "text": [
      "input a number dfs\n"
     ]
    },
    {
     "data": {
      "text/plain": [
       "'dfs'"
      ]
     },
     "execution_count": 17,
     "metadata": {},
     "output_type": "execute_result"
    }
   ],
   "source": [
    "input('input a number')"
   ]
  },
  {
   "cell_type": "code",
   "execution_count": 18,
   "metadata": {},
   "outputs": [
    {
     "name": "stdout",
     "output_type": "stream",
     "text": [
      " dfs\n",
      "<class 'str'>\n"
     ]
    }
   ],
   "source": [
    "a = input()\n",
    "print(type(a))"
   ]
  },
  {
   "cell_type": "code",
   "execution_count": 19,
   "metadata": {},
   "outputs": [
    {
     "name": "stdout",
     "output_type": "stream",
     "text": [
      " 3242\n",
      "<class 'int'>\n"
     ]
    }
   ],
   "source": [
    "a = int(input())\n",
    "print(type(a))"
   ]
  },
  {
   "cell_type": "markdown",
   "metadata": {},
   "source": [
    "### 2. User-defined Functions\n",
    "\n",
    "#### 2.1 Basic functions\n",
    "\n",
    "To define your own function you have to use the `def` command. Following `def` you have to type in the identifier you want to represent your function. The line has to end with a colon `:`. The indented part afterwards is only executed when the function is called using the corresponding identifier."
   ]
  },
  {
   "cell_type": "code",
   "execution_count": 20,
   "metadata": {},
   "outputs": [],
   "source": [
    "def func1():\n",
    "    print('This is a function')"
   ]
  },
  {
   "cell_type": "code",
   "execution_count": 21,
   "metadata": {},
   "outputs": [
    {
     "name": "stdout",
     "output_type": "stream",
     "text": [
      "This is a function\n"
     ]
    }
   ],
   "source": [
    "func1()"
   ]
  },
  {
   "cell_type": "markdown",
   "metadata": {},
   "source": [
    "#### 2.2 Function arguments\n",
    "There are ways to define functions such that they take a certain argument and do operations with it. This is directly included in the identifier using `function(arg)`. Functions are not limited to a single argument."
   ]
  },
  {
   "cell_type": "code",
   "execution_count": 3,
   "metadata": {},
   "outputs": [],
   "source": [
    "def func2(a, b):\n",
    "    print(\"{} times {} is {}\".format(a,b,a*b))"
   ]
  },
  {
   "cell_type": "code",
   "execution_count": 4,
   "metadata": {},
   "outputs": [
    {
     "name": "stdout",
     "output_type": "stream",
     "text": [
      "2 times 8 is 16\n",
      "100 times 5 is 500\n",
      "0 times 235 is 0\n"
     ]
    }
   ],
   "source": [
    "func2(2, 8)\n",
    "func2(100, 5)\n",
    "func2(0, 235)"
   ]
  },
  {
   "cell_type": "markdown",
   "metadata": {},
   "source": [
    "#### 2.3 Keyword arguments\n",
    "Keyword arguments offer another possibility to provide function arguments with a default value. The argument is replaced by a keyword and a default argument like this `keyword = default`. The function can then be called either without argument, then the default value will be chosen, or with any argument you need."
   ]
  },
  {
   "cell_type": "code",
   "execution_count": 24,
   "metadata": {},
   "outputs": [],
   "source": [
    "def func3(c = 1):\n",
    "    print('This is my argument', c)"
   ]
  },
  {
   "cell_type": "code",
   "execution_count": 25,
   "metadata": {},
   "outputs": [
    {
     "name": "stdout",
     "output_type": "stream",
     "text": [
      "This is my argument 1\n",
      "This is my argument 10\n",
      "This is my argument [1, 2, 3, 4, 5]\n"
     ]
    }
   ],
   "source": [
    "func3()\n",
    "func3(c = 10)\n",
    "func3(c = [1,2,3,4,5])"
   ]
  },
  {
   "cell_type": "markdown",
   "metadata": {},
   "source": [
    "#### 2.4 Return\n",
    "Functions are also able to return the results of your code using `return` followed by the variable you want to return. When the function is called, the desired values are output as like this `value = function()`."
   ]
  },
  {
   "cell_type": "code",
   "execution_count": 26,
   "metadata": {},
   "outputs": [],
   "source": [
    "def func4(x, y, z):\n",
    "    return (x**2 + y**2 + z**2)**(1/2)\n",
    "\n",
    "def func5(a, b):\n",
    "    binom1 = a**2 + 2*a*b + b**2\n",
    "    binom2 = a**2 - 2*a*b + b**2\n",
    "    binom3 = a**2 - b**2\n",
    "    return binom1, binom2, binom3"
   ]
  },
  {
   "cell_type": "code",
   "execution_count": 27,
   "metadata": {},
   "outputs": [
    {
     "name": "stdout",
     "output_type": "stream",
     "text": [
      "3.7416573867739413\n",
      "64 4 16\n"
     ]
    }
   ],
   "source": [
    "norm = func4(1, 3, 2)\n",
    "print(norm)\n",
    "\n",
    "b1, b2, b3 = func5(5, 3)\n",
    "print(b1, b2, b3)"
   ]
  },
  {
   "cell_type": "markdown",
   "metadata": {},
   "source": [
    "## References:\n",
    "- https://docs.python.org/3.7/library/index.html, 25.09.19, 17:00"
   ]
  },
  {
   "cell_type": "markdown",
   "metadata": {},
   "source": [
    "## Exercises:\n",
    "Copy and execute the following code in your notebook."
   ]
  },
  {
   "cell_type": "code",
   "execution_count": 1,
   "metadata": {
    "tags": []
   },
   "outputs": [],
   "source": [
    "l1=[10, 39, 34, 35, 20, 32,  3,  9, 29, 35,  0, 27, 36, 40, 33,  5, 12, 24, 11, 50,  1,  7, 14, 22,  9]\n",
    "l2=[15,  2, 11, 16, 14,  1, 12, 14,  3,  7,  0,  4,  6, 13, 18, 19,  3,  9, 15, 16,  0, 19, 12, 13, 13]\n",
    "l3=[   4,   5,   1,   6,  3,  -3,  -6,  -1, -5,   -4]\n",
    "l4=['lizard','cat','mouse','bird','butterfly']"
   ]
  },
  {
   "cell_type": "markdown",
   "metadata": {},
   "source": [
    "### <p style='color: green'>easy</p> \n",
    "1. Check all lists for their length, print it and save the length of `l1` in a variable."
   ]
  },
  {
   "cell_type": "code",
   "execution_count": 2,
   "metadata": {
    "tags": []
   },
   "outputs": [
    {
     "name": "stdout",
     "output_type": "stream",
     "text": [
      "25 25 25 5\n"
     ]
    }
   ],
   "source": [
    "print(len(l1),len(l2),len(l2),len(l4))\n",
    "hans = len(l1)"
   ]
  },
  {
   "cell_type": "markdown",
   "metadata": {},
   "source": [
    "2. Find the minimum and maximum of `l1` and `l3`, save the min and max of `l1` in variables."
   ]
  },
  {
   "cell_type": "code",
   "execution_count": 3,
   "metadata": {
    "tags": []
   },
   "outputs": [
    {
     "name": "stdout",
     "output_type": "stream",
     "text": [
      "0 50 -6 6\n"
     ]
    }
   ],
   "source": [
    "print(min(l1),max(l1),min(l3),max(l3))\n",
    "hans2 = min(l1)\n",
    "hans3 = max(l1)"
   ]
  },
  {
   "cell_type": "markdown",
   "metadata": {},
   "source": [
    "3. Print the sentence: `\"L1 is x elements long. Its maximum is x and its minimum x.\"` In place of `x` add the values. Use your saved values."
   ]
  },
  {
   "cell_type": "code",
   "execution_count": 4,
   "metadata": {
    "tags": []
   },
   "outputs": [
    {
     "name": "stdout",
     "output_type": "stream",
     "text": [
      "L1 is 25 elements long. Its maximum is 0 and its minimun 50\n"
     ]
    }
   ],
   "source": [
    "print(\"L1 is {} elements long. Its maximum is {} and its minimun {}\".format(hans,hans2,hans3))"
   ]
  },
  {
   "cell_type": "markdown",
   "metadata": {},
   "source": [
    "4. Sort `l1` and `l4`."
   ]
  },
  {
   "cell_type": "code",
   "execution_count": 5,
   "metadata": {
    "tags": []
   },
   "outputs": [
    {
     "name": "stdout",
     "output_type": "stream",
     "text": [
      "[0, 1, 3, 5, 7, 9, 9, 10, 11, 12, 14, 20, 22, 24, 27, 29, 32, 33, 34, 35, 35, 36, 39, 40, 50] ['bird', 'butterfly', 'cat', 'lizard', 'mouse']\n"
     ]
    }
   ],
   "source": [
    "l1_sorted = sorted(l1)\n",
    "l4_sorted = sorted(l4)\n",
    "print(l1_sorted,l4_sorted)"
   ]
  },
  {
   "cell_type": "markdown",
   "metadata": {},
   "source": [
    "5. Create a list with the number `10` to `1000` with steps of `10`. "
   ]
  },
  {
   "cell_type": "code",
   "execution_count": 8,
   "metadata": {
    "tags": []
   },
   "outputs": [
    {
     "name": "stdout",
     "output_type": "stream",
     "text": [
      "[10, 20, 30, 40, 50, 60, 70, 80, 90, 100, 110, 120, 130, 140, 150, 160, 170, 180, 190, 200, 210, 220, 230, 240, 250, 260, 270, 280, 290, 300, 310, 320, 330, 340, 350, 360, 370, 380, 390, 400, 410, 420, 430, 440, 450, 460, 470, 480, 490, 500, 510, 520, 530, 540, 550, 560, 570, 580, 590, 600, 610, 620, 630, 640, 650, 660, 670, 680, 690, 700, 710, 720, 730, 740, 750, 760, 770, 780, 790, 800, 810, 820, 830, 840, 850, 860, 870, 880, 890, 900, 910, 920, 930, 940, 950, 960, 970, 980, 990, 1000]\n"
     ]
    },
    {
     "data": {
      "text/plain": [
       "[1, 3]"
      ]
     },
     "execution_count": 8,
     "metadata": {},
     "output_type": "execute_result"
    }
   ],
   "source": [
    "print(list(range(10,1001,10)))\n",
    "list((1,3))"
   ]
  },
  {
   "cell_type": "markdown",
   "metadata": {},
   "source": [
    "### <p style='color: orange'>medium</p>\n",
    "\n",
    "6. Write a short script that asks to input a number, multiplies it by `10` and prints the result. The script should ask for more input till you type in: `stop`."
   ]
  },
  {
   "cell_type": "code",
   "execution_count": 9,
   "metadata": {
    "tags": []
   },
   "outputs": [
    {
     "name": "stdin",
     "output_type": "stream",
     "text": [
      "Please input number. Input stop to make it stop 34\n"
     ]
    },
    {
     "name": "stdout",
     "output_type": "stream",
     "text": [
      "340\n"
     ]
    },
    {
     "name": "stdin",
     "output_type": "stream",
     "text": [
      "Please input number. Input stop to make it stop 34\n"
     ]
    },
    {
     "name": "stdout",
     "output_type": "stream",
     "text": [
      "340\n"
     ]
    },
    {
     "name": "stdin",
     "output_type": "stream",
     "text": [
      "Please input number. Input stop to make it stop stop\n"
     ]
    },
    {
     "name": "stdout",
     "output_type": "stream",
     "text": [
      "input has stoped\n"
     ]
    }
   ],
   "source": [
    "while True:\n",
    "    number = input(\"Please input number. Input stop to make it stop\")\n",
    "    if number == \"stop\":\n",
    "        print(\"input has stoped\")\n",
    "        break \n",
    "    result = int(number)*10\n",
    "    print(result)"
   ]
  },
  {
   "cell_type": "code",
   "execution_count": 10,
   "metadata": {
    "tags": []
   },
   "outputs": [],
   "source": [
    "def func_input_number():\n",
    "    number = input(\"please input number. Input stop to make it stop\")\n",
    "    if number == \"stop\":\n",
    "        print(\"input has stopped \")\n",
    "    else:\n",
    "        result = int(number)*10\n",
    "        print(result)\n",
    "        func_input_number()\n",
    "        "
   ]
  },
  {
   "cell_type": "code",
   "execution_count": 11,
   "metadata": {
    "tags": []
   },
   "outputs": [
    {
     "name": "stdin",
     "output_type": "stream",
     "text": [
      "please input number. Input stop to make it stop 45\n"
     ]
    },
    {
     "name": "stdout",
     "output_type": "stream",
     "text": [
      "450\n"
     ]
    },
    {
     "name": "stdin",
     "output_type": "stream",
     "text": [
      "please input number. Input stop to make it stop 56\n"
     ]
    },
    {
     "name": "stdout",
     "output_type": "stream",
     "text": [
      "560\n"
     ]
    },
    {
     "name": "stdin",
     "output_type": "stream",
     "text": [
      "please input number. Input stop to make it stop stop\n"
     ]
    },
    {
     "name": "stdout",
     "output_type": "stream",
     "text": [
      "input has stopped \n"
     ]
    }
   ],
   "source": [
    "func_input_number()"
   ]
  },
  {
   "cell_type": "markdown",
   "metadata": {},
   "source": [
    "7. Write a script, that processes a  list. The script should test if the list is filled with numbers or strings.\n",
    "    - If the list contains both an error message should be displayed.\n",
    "    - If the list contains only one data type, the appropriate function should be used: \n",
    "        - If it is a list of numbers, it should display the minimum and maximum\n",
    "        - If it is a list of strings, use a built-in function to sort it by length."
   ]
  },
  {
   "cell_type": "code",
   "execution_count": 12,
   "metadata": {
    "tags": []
   },
   "outputs": [],
   "source": [
    "def check_out_list(hans):\n",
    "    string_counter = 0\n",
    "    number_counter = 0\n",
    "    error_counter = 0\n",
    "    for i in hans:\n",
    "        if type(i) == str:\n",
    "            string_counter +=1\n",
    "        elif type(i) == int or type(i) == float:\n",
    "            number_counter += 1\n",
    "        else:\n",
    "            error_counter += 1\n",
    "    if error_counter >0:\n",
    "        print(\"something went wrong, list contains an element that is neither number or string\")\n",
    "    elif number_counter > 0 and string_counter > 0:\n",
    "        print(\"error list has strings and numbers\")\n",
    "    elif number_counter == len(hans):\n",
    "        print(\"Min of list is {}. Maximum of list is {}\".format(min(hans),max(hans)))\n",
    "    elif string_counter ==len(hans):\n",
    "        hans_sorted = sorted(hans,key =len)\n",
    "        print(hans_sorted)\n",
    "\n",
    "    #check if there are strings and numbers in array\n",
    "        "
   ]
  },
  {
   "cell_type": "code",
   "execution_count": 13,
   "metadata": {
    "tags": []
   },
   "outputs": [
    {
     "name": "stdout",
     "output_type": "stream",
     "text": [
      "Min of list is 1.0. Maximum of list is 10\n"
     ]
    }
   ],
   "source": [
    "check_out_list([1.0,3,6,10])"
   ]
  },
  {
   "cell_type": "code",
   "execution_count": 14,
   "metadata": {
    "tags": []
   },
   "outputs": [
    {
     "name": "stdout",
     "output_type": "stream",
     "text": [
      "['df', 'hdsafs', 'adsadsadasdas']\n"
     ]
    }
   ],
   "source": [
    "check_out_list([\"hdsafs\",\"adsadsadasdas\",\"df\"])"
   ]
  },
  {
   "cell_type": "code",
   "execution_count": 15,
   "metadata": {
    "tags": []
   },
   "outputs": [
    {
     "name": "stdout",
     "output_type": "stream",
     "text": [
      "something went wrong, list contains an element that is neither number or string\n"
     ]
    }
   ],
   "source": [
    "check_out_list([[1,2],1])"
   ]
  },
  {
   "cell_type": "code",
   "execution_count": 16,
   "metadata": {
    "tags": []
   },
   "outputs": [
    {
     "name": "stdout",
     "output_type": "stream",
     "text": [
      "error list has strings and numbers\n"
     ]
    }
   ],
   "source": [
    "check_out_list([\"dieter\",1])"
   ]
  },
  {
   "cell_type": "markdown",
   "metadata": {},
   "source": [
    "### <p style='color: red'>hard</p>\n",
    "\n",
    "8. You might have used `range(len(list1))` in one of your loops, there is a better solution for this task. Search for the function `enumerate()`. Familiarize yourself with this function and use it to improve the following code:\n",
    "````Python\n",
    "l = [1,5,8,2,7,8,3,2,8,2,9,7,4]\n",
    "for i in range(len(l)):\n",
    "       print('The element with index {} is {}'.format(i, l[i]))\n",
    "````"
   ]
  },
  {
   "cell_type": "code",
   "execution_count": 17,
   "metadata": {
    "tags": []
   },
   "outputs": [
    {
     "name": "stdout",
     "output_type": "stream",
     "text": [
      "The element with index 0 is 1\n",
      "The element with index 1 is 5\n",
      "The element with index 2 is 8\n",
      "The element with index 3 is 2\n",
      "The element with index 4 is 7\n",
      "The element with index 5 is 8\n",
      "The element with index 6 is 3\n",
      "The element with index 7 is 2\n",
      "The element with index 8 is 8\n",
      "The element with index 9 is 2\n",
      "The element with index 10 is 9\n",
      "The element with index 11 is 7\n",
      "The element with index 12 is 4\n"
     ]
    }
   ],
   "source": [
    "l = [1,5,8,2,7,8,3,2,8,2,9,7,4]\n",
    "for counter,element in enumerate(l):\n",
    "       print('The element with index {} is {}'.format(counter,element))"
   ]
  },
  {
   "cell_type": "markdown",
   "metadata": {},
   "source": [
    "9. Write a function with variable arguments. The function should perform various calculations:\n",
    "    - It should take two numbers as fixed arguments and any count of additional numbers\n",
    "    - It should sum up all arguments\n",
    "    - A switch should allow to instead multiply all arguments."
   ]
  },
  {
   "cell_type": "code",
   "execution_count": 10,
   "metadata": {},
   "outputs": [],
   "source": [
    "def add_all_up(a,b,*list_of_stuff,multiply = 0):\n",
    "    if multiply == 0:\n",
    "        result = a+b\n",
    "        for i in list_of_stuff:\n",
    "            result += i\n",
    "        return(result)\n",
    "    if multiply ==1 :\n",
    "        result = a*b\n",
    "        for i in list_of_stuff:\n",
    "            result *= i\n",
    "        return(result)"
   ]
  },
  {
   "cell_type": "code",
   "execution_count": 11,
   "metadata": {},
   "outputs": [
    {
     "name": "stdout",
     "output_type": "stream",
     "text": [
      "8\n"
     ]
    }
   ],
   "source": [
    "print(add_all_up(4,2,multiply=1))"
   ]
  },
  {
   "cell_type": "code",
   "execution_count": 15,
   "metadata": {},
   "outputs": [
    {
     "name": "stdout",
     "output_type": "stream",
     "text": [
      "648\n"
     ]
    }
   ],
   "source": [
    "print(add_all_up(4,2,3,3,3,3,multiply=1))"
   ]
  },
  {
   "cell_type": "code",
   "execution_count": null,
   "metadata": {},
   "outputs": [],
   "source": []
  }
 ],
 "metadata": {
  "kernelspec": {
   "display_name": "Python 3 (ipykernel)",
   "language": "python",
   "name": "python3"
  },
  "language_info": {
   "codemirror_mode": {
    "name": "ipython",
    "version": 3
   },
   "file_extension": ".py",
   "mimetype": "text/x-python",
   "name": "python",
   "nbconvert_exporter": "python",
   "pygments_lexer": "ipython3",
   "version": "3.11.5"
  },
  "vscode": {
   "interpreter": {
    "hash": "0944ef0f09565dcb5eb8c294f3fae680a5e62f1e09fab5e4e4982d1eade50ff5"
   }
  }
 },
 "nbformat": 4,
 "nbformat_minor": 4
}
